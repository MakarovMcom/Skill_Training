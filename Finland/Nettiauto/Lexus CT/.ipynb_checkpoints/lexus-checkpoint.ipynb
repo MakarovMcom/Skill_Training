{
 "cells": [
  {
   "cell_type": "markdown",
   "id": "3a1c3429",
   "metadata": {},
   "source": [
    "# Объявления о продаже Lexus CT (2011 - 2019 года выпуска). \n",
    "\n",
    "## Данные с сайта nettiauto.com на основе 181 объявления"
   ]
  },
  {
   "cell_type": "code",
   "execution_count": 1,
   "id": "c814a094",
   "metadata": {},
   "outputs": [],
   "source": [
    "import re\n",
    "import pandas as pd\n",
    "import numpy as np\n",
    "import seaborn as sns\n",
    "import matplotlib.pyplot as plt\n",
    "\n",
    "#ignore warnings\n",
    "import warnings\n",
    "warnings.filterwarnings('ignore')\n",
    "\n",
    "#set options\n",
    "pd.set_option(\"max_colwidth\", 100)\n",
    "\n",
    "# library & dataset\n",
    "import seaborn as sns"
   ]
  },
  {
   "cell_type": "markdown",
   "id": "c50025e2",
   "metadata": {},
   "source": [
    "## 1. Просмотр датасета"
   ]
  },
  {
   "cell_type": "code",
   "execution_count": 2,
   "id": "bd55d246",
   "metadata": {},
   "outputs": [],
   "source": [
    "#df1 = pd.read_csv('1.csv')\n",
    "df = pd.read_csv('lexus.csv')"
   ]
  },
  {
   "cell_type": "code",
   "execution_count": 3,
   "id": "5a57b649",
   "metadata": {},
   "outputs": [
    {
     "name": "stdout",
     "output_type": "stream",
     "text": [
      "<class 'pandas.core.frame.DataFrame'>\n",
      "RangeIndex: 181 entries, 0 to 180\n",
      "Data columns (total 5 columns):\n",
      " #   Column  Non-Null Count  Dtype \n",
      "---  ------  --------------  ----- \n",
      " 0   Merkki  181 non-null    object\n",
      " 1   Vuosi   181 non-null    object\n",
      " 2   Ajettu  181 non-null    object\n",
      " 3   Hinta   181 non-null    object\n",
      " 4   Date    181 non-null    object\n",
      "dtypes: object(5)\n",
      "memory usage: 7.2+ KB\n"
     ]
    }
   ],
   "source": [
    "df.info()"
   ]
  },
  {
   "cell_type": "code",
   "execution_count": 4,
   "id": "0d2de6f1",
   "metadata": {},
   "outputs": [
    {
     "name": "stdout",
     "output_type": "stream",
     "text": [
      "<class 'pandas.core.frame.DataFrame'>\n",
      "RangeIndex: 181 entries, 0 to 180\n",
      "Data columns (total 5 columns):\n",
      " #   Column  Non-Null Count  Dtype \n",
      "---  ------  --------------  ----- \n",
      " 0   Merkki  181 non-null    object\n",
      " 1   Vuosi   181 non-null    object\n",
      " 2   Ajettu  181 non-null    object\n",
      " 3   Hinta   181 non-null    object\n",
      " 4   Date    181 non-null    object\n",
      "dtypes: object(5)\n",
      "memory usage: 7.2+ KB\n"
     ]
    }
   ],
   "source": [
    "df.info()"
   ]
  },
  {
   "cell_type": "code",
   "execution_count": 5,
   "id": "c08c5464",
   "metadata": {},
   "outputs": [],
   "source": [
    "#df = pd.concat([df1, df2])"
   ]
  },
  {
   "cell_type": "code",
   "execution_count": 6,
   "id": "a466a789",
   "metadata": {},
   "outputs": [
    {
     "data": {
      "text/html": [
       "<div>\n",
       "<style scoped>\n",
       "    .dataframe tbody tr th:only-of-type {\n",
       "        vertical-align: middle;\n",
       "    }\n",
       "\n",
       "    .dataframe tbody tr th {\n",
       "        vertical-align: top;\n",
       "    }\n",
       "\n",
       "    .dataframe thead th {\n",
       "        text-align: right;\n",
       "    }\n",
       "</style>\n",
       "<table border=\"1\" class=\"dataframe\">\n",
       "  <thead>\n",
       "    <tr style=\"text-align: right;\">\n",
       "      <th></th>\n",
       "      <th>Merkki</th>\n",
       "      <th>Vuosi</th>\n",
       "      <th>Ajettu</th>\n",
       "      <th>Hinta</th>\n",
       "      <th>Date</th>\n",
       "    </tr>\n",
       "  </thead>\n",
       "  <tbody>\n",
       "    <tr>\n",
       "      <th>0</th>\n",
       "      <td>Make &amp; model|Year|Mileage|Price|Sold date</td>\n",
       "      <td>Year</td>\n",
       "      <td>Mileage</td>\n",
       "      <td>Price</td>\n",
       "      <td>Sold date</td>\n",
       "    </tr>\n",
       "    <tr>\n",
       "      <th>1</th>\n",
       "      <td>Lexus CT (1.8)|2011|127 650|16 200 €|00-0000</td>\n",
       "      <td>2011</td>\n",
       "      <td>127 650</td>\n",
       "      <td>16 200 €</td>\n",
       "      <td>00-0000</td>\n",
       "    </tr>\n",
       "    <tr>\n",
       "      <th>2</th>\n",
       "      <td>Lexus CT (1.8) 200h Hybrid A Executive - Rahoitus 1.89% jopa ilman käsirahaa! Nahat, Navi, Xenon...</td>\n",
       "      <td>2011</td>\n",
       "      <td>156 000</td>\n",
       "      <td>13 800 €</td>\n",
       "      <td>06-2021</td>\n",
       "    </tr>\n",
       "  </tbody>\n",
       "</table>\n",
       "</div>"
      ],
      "text/plain": [
       "                                                                                                Merkki  \\\n",
       "0                                                            Make & model|Year|Mileage|Price|Sold date   \n",
       "1                                                         Lexus CT (1.8)|2011|127 650|16 200 €|00-0000   \n",
       "2  Lexus CT (1.8) 200h Hybrid A Executive - Rahoitus 1.89% jopa ilman käsirahaa! Nahat, Navi, Xenon...   \n",
       "\n",
       "  Vuosi   Ajettu     Hinta       Date  \n",
       "0  Year  Mileage     Price  Sold date  \n",
       "1  2011  127 650  16 200 €    00-0000  \n",
       "2  2011  156 000  13 800 €    06-2021  "
      ]
     },
     "execution_count": 6,
     "metadata": {},
     "output_type": "execute_result"
    }
   ],
   "source": [
    "df.head(3)"
   ]
  },
  {
   "cell_type": "code",
   "execution_count": 7,
   "id": "d3535e65",
   "metadata": {},
   "outputs": [
    {
     "name": "stdout",
     "output_type": "stream",
     "text": [
      "<class 'pandas.core.frame.DataFrame'>\n",
      "RangeIndex: 181 entries, 0 to 180\n",
      "Data columns (total 5 columns):\n",
      " #   Column  Non-Null Count  Dtype \n",
      "---  ------  --------------  ----- \n",
      " 0   Merkki  181 non-null    object\n",
      " 1   Vuosi   181 non-null    object\n",
      " 2   Ajettu  181 non-null    object\n",
      " 3   Hinta   181 non-null    object\n",
      " 4   Date    181 non-null    object\n",
      "dtypes: object(5)\n",
      "memory usage: 7.2+ KB\n"
     ]
    }
   ],
   "source": [
    "df.info()"
   ]
  },
  {
   "cell_type": "markdown",
   "id": "a522caab",
   "metadata": {},
   "source": [
    "## 2. Чистка датасета"
   ]
  },
  {
   "cell_type": "code",
   "execution_count": 8,
   "id": "3bfdcd02",
   "metadata": {},
   "outputs": [],
   "source": [
    "# переименуем столбцы\n",
    "df = df.rename(columns = {'Merkki': 'model_description',\n",
    "                         'Vuosi': 'Year',\n",
    "                         'Ajettu': 'Mileage',\n",
    "                         'Hinta': 'Price',\n",
    "                         'Date': 'Sold_date'})"
   ]
  },
  {
   "cell_type": "code",
   "execution_count": 9,
   "id": "68b6a083",
   "metadata": {},
   "outputs": [],
   "source": [
    "# удалим пробелы\n",
    "df['Mileage'] = df['Mileage'].str.replace(\" \", \"\")\n",
    "df['Price'] = df['Price'].str.replace(\" \", \"\")"
   ]
  },
  {
   "cell_type": "code",
   "execution_count": 10,
   "id": "70e41645",
   "metadata": {},
   "outputs": [
    {
     "data": {
      "text/html": [
       "<div>\n",
       "<style scoped>\n",
       "    .dataframe tbody tr th:only-of-type {\n",
       "        vertical-align: middle;\n",
       "    }\n",
       "\n",
       "    .dataframe tbody tr th {\n",
       "        vertical-align: top;\n",
       "    }\n",
       "\n",
       "    .dataframe thead th {\n",
       "        text-align: right;\n",
       "    }\n",
       "</style>\n",
       "<table border=\"1\" class=\"dataframe\">\n",
       "  <thead>\n",
       "    <tr style=\"text-align: right;\">\n",
       "      <th></th>\n",
       "      <th>model_description</th>\n",
       "      <th>Year</th>\n",
       "      <th>Mileage</th>\n",
       "      <th>Price</th>\n",
       "      <th>Sold_date</th>\n",
       "    </tr>\n",
       "  </thead>\n",
       "  <tbody>\n",
       "    <tr>\n",
       "      <th>176</th>\n",
       "      <td>Make &amp; model|Year|Mileage|Price|Sold date</td>\n",
       "      <td>Year</td>\n",
       "      <td>Mileage</td>\n",
       "      <td>Price</td>\n",
       "      <td>Sold date</td>\n",
       "    </tr>\n",
       "    <tr>\n",
       "      <th>177</th>\n",
       "      <td>Lexus CT (1.8) 200h Comfort / Suomiauto|2019|4 386|28 800 €(incl. VAT)|07-2021</td>\n",
       "      <td>2019</td>\n",
       "      <td>4386</td>\n",
       "      <td>28800€(incl.VAT)</td>\n",
       "      <td>07-2021</td>\n",
       "    </tr>\n",
       "    <tr>\n",
       "      <th>178</th>\n",
       "      <td>Lexus CT (1.8) 200h F Sport / F Sport / LED ajovalot / Parkkitutkat|2019|16 000|26 990 €|07-2021</td>\n",
       "      <td>2019</td>\n",
       "      <td>16000</td>\n",
       "      <td>26990€</td>\n",
       "      <td>07-2021</td>\n",
       "    </tr>\n",
       "    <tr>\n",
       "      <th>179</th>\n",
       "      <td>Lexus CT (1.8) / Nahat / Navi / Kamera|2019|39 000|24 890 €|07-2021</td>\n",
       "      <td>2019</td>\n",
       "      <td>39000</td>\n",
       "      <td>24890€</td>\n",
       "      <td>07-2021</td>\n",
       "    </tr>\n",
       "    <tr>\n",
       "      <th>180</th>\n",
       "      <td>Lexus CT (1.8) 200h Comfort ** Suomi-auto **|2019|32 000|27 490 €|11-2021</td>\n",
       "      <td>2019</td>\n",
       "      <td>32000</td>\n",
       "      <td>27490€</td>\n",
       "      <td>11-2021</td>\n",
       "    </tr>\n",
       "  </tbody>\n",
       "</table>\n",
       "</div>"
      ],
      "text/plain": [
       "                                                                                    model_description  \\\n",
       "176                                                         Make & model|Year|Mileage|Price|Sold date   \n",
       "177                    Lexus CT (1.8) 200h Comfort / Suomiauto|2019|4 386|28 800 €(incl. VAT)|07-2021   \n",
       "178  Lexus CT (1.8) 200h F Sport / F Sport / LED ajovalot / Parkkitutkat|2019|16 000|26 990 €|07-2021   \n",
       "179                               Lexus CT (1.8) / Nahat / Navi / Kamera|2019|39 000|24 890 €|07-2021   \n",
       "180                         Lexus CT (1.8) 200h Comfort ** Suomi-auto **|2019|32 000|27 490 €|11-2021   \n",
       "\n",
       "     Year  Mileage             Price  Sold_date  \n",
       "176  Year  Mileage             Price  Sold date  \n",
       "177  2019     4386  28800€(incl.VAT)    07-2021  \n",
       "178  2019    16000            26990€    07-2021  \n",
       "179  2019    39000            24890€    07-2021  \n",
       "180  2019    32000            27490€    11-2021  "
      ]
     },
     "execution_count": 10,
     "metadata": {},
     "output_type": "execute_result"
    }
   ],
   "source": [
    "df.tail()"
   ]
  },
  {
   "cell_type": "code",
   "execution_count": 11,
   "id": "987b6e44",
   "metadata": {},
   "outputs": [
    {
     "data": {
      "text/html": [
       "<div>\n",
       "<style scoped>\n",
       "    .dataframe tbody tr th:only-of-type {\n",
       "        vertical-align: middle;\n",
       "    }\n",
       "\n",
       "    .dataframe tbody tr th {\n",
       "        vertical-align: top;\n",
       "    }\n",
       "\n",
       "    .dataframe thead th {\n",
       "        text-align: right;\n",
       "    }\n",
       "</style>\n",
       "<table border=\"1\" class=\"dataframe\">\n",
       "  <thead>\n",
       "    <tr style=\"text-align: right;\">\n",
       "      <th></th>\n",
       "      <th>model_description</th>\n",
       "      <th>Year</th>\n",
       "      <th>Mileage</th>\n",
       "      <th>Price</th>\n",
       "      <th>Sold_date</th>\n",
       "    </tr>\n",
       "  </thead>\n",
       "  <tbody>\n",
       "    <tr>\n",
       "      <th>0</th>\n",
       "      <td>Make &amp; model|Year|Mileage|Price|Sold date</td>\n",
       "      <td>Year</td>\n",
       "      <td>Mileage</td>\n",
       "      <td>Price</td>\n",
       "      <td>Sold date</td>\n",
       "    </tr>\n",
       "    <tr>\n",
       "      <th>1</th>\n",
       "      <td>Lexus CT (1.8)|2011|127 650|16 200 €|00-0000</td>\n",
       "      <td>2011</td>\n",
       "      <td>127650</td>\n",
       "      <td>16200€</td>\n",
       "      <td>00-0000</td>\n",
       "    </tr>\n",
       "    <tr>\n",
       "      <th>2</th>\n",
       "      <td>Lexus CT (1.8) 200h Hybrid A Executive - Rahoitus 1.89% jopa ilman käsirahaa! Nahat, Navi, Xenon...</td>\n",
       "      <td>2011</td>\n",
       "      <td>156000</td>\n",
       "      <td>13800€</td>\n",
       "      <td>06-2021</td>\n",
       "    </tr>\n",
       "    <tr>\n",
       "      <th>3</th>\n",
       "      <td>Lexus CT (1.8)|2011|158 316|12 000 €|06-2021</td>\n",
       "      <td>2011</td>\n",
       "      <td>158316</td>\n",
       "      <td>12000€</td>\n",
       "      <td>06-2021</td>\n",
       "    </tr>\n",
       "    <tr>\n",
       "      <th>4</th>\n",
       "      <td>Lexus CT (1.8) 200h Hybrid A Comfort // Alcantara-penkit / LED-ajovalot / Aux &amp; Bluetooth //|201...</td>\n",
       "      <td>2011</td>\n",
       "      <td>90500</td>\n",
       "      <td>14350€</td>\n",
       "      <td>07-2021</td>\n",
       "    </tr>\n",
       "  </tbody>\n",
       "</table>\n",
       "</div>"
      ],
      "text/plain": [
       "                                                                                     model_description  \\\n",
       "0                                                            Make & model|Year|Mileage|Price|Sold date   \n",
       "1                                                         Lexus CT (1.8)|2011|127 650|16 200 €|00-0000   \n",
       "2  Lexus CT (1.8) 200h Hybrid A Executive - Rahoitus 1.89% jopa ilman käsirahaa! Nahat, Navi, Xenon...   \n",
       "3                                                         Lexus CT (1.8)|2011|158 316|12 000 €|06-2021   \n",
       "4  Lexus CT (1.8) 200h Hybrid A Comfort // Alcantara-penkit / LED-ajovalot / Aux & Bluetooth //|201...   \n",
       "\n",
       "   Year  Mileage   Price  Sold_date  \n",
       "0  Year  Mileage   Price  Sold date  \n",
       "1  2011   127650  16200€    00-0000  \n",
       "2  2011   156000  13800€    06-2021  \n",
       "3  2011   158316  12000€    06-2021  \n",
       "4  2011    90500  14350€    07-2021  "
      ]
     },
     "execution_count": 11,
     "metadata": {},
     "output_type": "execute_result"
    }
   ],
   "source": [
    "df.head()"
   ]
  },
  {
   "cell_type": "code",
   "execution_count": 12,
   "id": "46b749f3",
   "metadata": {},
   "outputs": [],
   "source": [
    "#df.loc[740:]"
   ]
  },
  {
   "cell_type": "code",
   "execution_count": 13,
   "id": "f643280d",
   "metadata": {},
   "outputs": [],
   "source": [
    "# разделим датасеты\n",
    "#df = df.loc[740:]\n",
    "#df.head(3)"
   ]
  },
  {
   "cell_type": "code",
   "execution_count": 14,
   "id": "9f84e9c2",
   "metadata": {},
   "outputs": [
    {
     "name": "stdout",
     "output_type": "stream",
     "text": [
      "<class 'pandas.core.frame.DataFrame'>\n",
      "RangeIndex: 181 entries, 0 to 180\n",
      "Data columns (total 5 columns):\n",
      " #   Column             Non-Null Count  Dtype \n",
      "---  ------             --------------  ----- \n",
      " 0   model_description  181 non-null    object\n",
      " 1   Year               181 non-null    object\n",
      " 2   Mileage            181 non-null    object\n",
      " 3   Price              181 non-null    object\n",
      " 4   Sold_date          181 non-null    object\n",
      "dtypes: object(5)\n",
      "memory usage: 7.2+ KB\n"
     ]
    }
   ],
   "source": [
    "df.info()"
   ]
  },
  {
   "cell_type": "code",
   "execution_count": 15,
   "id": "163ae572",
   "metadata": {},
   "outputs": [],
   "source": [
    "# удалим лишнее Vuosi\n",
    "df = df.drop(df.query('Year == \"Vuosi\"').index.values.tolist())\n",
    "df = df.drop(df.query('Year == \"Year\"').index.values.tolist())\n",
    "\n",
    "# удалим данные где дата продажи 0\n",
    "drop_nulls = df.query('Sold_date == \"00-0000\"').index.values.tolist()\n",
    "df = df.drop(drop_nulls)"
   ]
  },
  {
   "cell_type": "code",
   "execution_count": 16,
   "id": "8eadc311",
   "metadata": {},
   "outputs": [
    {
     "data": {
      "text/plain": [
       "array(['2011', '2012', '2013', '2014', '2015', '2016', '2017', '2018',\n",
       "       '2019'], dtype=object)"
      ]
     },
     "execution_count": 16,
     "metadata": {},
     "output_type": "execute_result"
    }
   ],
   "source": [
    "df['Year'].unique()"
   ]
  },
  {
   "cell_type": "code",
   "execution_count": 17,
   "id": "62c0b9dd",
   "metadata": {},
   "outputs": [],
   "source": [
    "# приведем к формату времени\n",
    "df['Year'] = pd.to_datetime(df['Year'], format='%Y')"
   ]
  },
  {
   "cell_type": "code",
   "execution_count": 18,
   "id": "5d519780",
   "metadata": {},
   "outputs": [],
   "source": [
    "# приведем к формату времени\n",
    "df['Sold_date'] = pd.to_datetime(df['Sold_date'], format='%m-%Y')"
   ]
  },
  {
   "cell_type": "code",
   "execution_count": 19,
   "id": "389a7437",
   "metadata": {},
   "outputs": [],
   "source": [
    "# удалим данные где мили Eiilmoitettu\n",
    "drop_next = df[df['Mileage'] == 'Eiilmoitettu'].index.values.tolist()\n",
    "for i in drop_next:\n",
    "    df = df.drop(index = i)"
   ]
  },
  {
   "cell_type": "code",
   "execution_count": 20,
   "id": "738ea0ba",
   "metadata": {},
   "outputs": [],
   "source": [
    "# удалим данные где мили Eihin\n",
    "drop_a = df[df['Price'] == 'Eihin'].index.values.tolist()\n",
    "for i in drop_a:\n",
    "    df = df.drop(index = i)"
   ]
  },
  {
   "cell_type": "code",
   "execution_count": 21,
   "id": "bb4a0c72",
   "metadata": {},
   "outputs": [],
   "source": [
    "# удалим данные где не указан пробег\n",
    "drop_ns = df[df['Mileage'] == 'Notspecified'].index.values.tolist()\n",
    "for i in drop_ns:\n",
    "    df = df.drop(index = i)"
   ]
  },
  {
   "cell_type": "code",
   "execution_count": 22,
   "id": "de7608ec",
   "metadata": {},
   "outputs": [],
   "source": [
    "# мили целочисленные значения\n",
    "df['Mileage'] = df['Mileage'].astype('float64') "
   ]
  },
  {
   "cell_type": "code",
   "execution_count": 23,
   "id": "077c87a9",
   "metadata": {},
   "outputs": [],
   "source": [
    "# цена 5 знаков\n",
    "df['Price'] = df['Price'].str[:5]\n",
    "# удалим пробелы\n",
    "df['Price'] = df['Price'].str.replace(\"€\", \"\")"
   ]
  },
  {
   "cell_type": "code",
   "execution_count": 24,
   "id": "80c20455",
   "metadata": {},
   "outputs": [],
   "source": [
    "# удалим данные где цена Eihin\n",
    "drop_a = df[df['Price'] == 'Eihin'].index.values.tolist()\n",
    "for i in drop_a:\n",
    "    df = df.drop(index = i)"
   ]
  },
  {
   "cell_type": "code",
   "execution_count": 25,
   "id": "538cbe49",
   "metadata": {},
   "outputs": [],
   "source": [
    "# удалим данные где цена Notpr\n",
    "drop_nt = df[df['Price'] == 'Notpr'].index.values.tolist()\n",
    "for i in drop_nt:\n",
    "    df = df.drop(index = i)"
   ]
  },
  {
   "cell_type": "code",
   "execution_count": 26,
   "id": "cb629370",
   "metadata": {},
   "outputs": [],
   "source": [
    "# сделаем цену целочисленным значением\n",
    "df['Price'] = df['Price'].astype(int) "
   ]
  },
  {
   "cell_type": "code",
   "execution_count": 27,
   "id": "7bc41ca7",
   "metadata": {},
   "outputs": [
    {
     "name": "stdout",
     "output_type": "stream",
     "text": [
      "<class 'pandas.core.frame.DataFrame'>\n",
      "Int64Index: 167 entries, 2 to 180\n",
      "Data columns (total 5 columns):\n",
      " #   Column             Non-Null Count  Dtype         \n",
      "---  ------             --------------  -----         \n",
      " 0   model_description  167 non-null    object        \n",
      " 1   Year               167 non-null    datetime64[ns]\n",
      " 2   Mileage            167 non-null    float64       \n",
      " 3   Price              167 non-null    int64         \n",
      " 4   Sold_date          167 non-null    datetime64[ns]\n",
      "dtypes: datetime64[ns](2), float64(1), int64(1), object(1)\n",
      "memory usage: 7.8+ KB\n"
     ]
    }
   ],
   "source": [
    "df.info()"
   ]
  },
  {
   "cell_type": "code",
   "execution_count": 28,
   "id": "cf9e9b48",
   "metadata": {},
   "outputs": [
    {
     "data": {
      "text/html": [
       "<div>\n",
       "<style scoped>\n",
       "    .dataframe tbody tr th:only-of-type {\n",
       "        vertical-align: middle;\n",
       "    }\n",
       "\n",
       "    .dataframe tbody tr th {\n",
       "        vertical-align: top;\n",
       "    }\n",
       "\n",
       "    .dataframe thead th {\n",
       "        text-align: right;\n",
       "    }\n",
       "</style>\n",
       "<table border=\"1\" class=\"dataframe\">\n",
       "  <thead>\n",
       "    <tr style=\"text-align: right;\">\n",
       "      <th></th>\n",
       "      <th>model_description</th>\n",
       "      <th>Year</th>\n",
       "      <th>Mileage</th>\n",
       "      <th>Price</th>\n",
       "      <th>Sold_date</th>\n",
       "    </tr>\n",
       "  </thead>\n",
       "  <tbody>\n",
       "    <tr>\n",
       "      <th>2</th>\n",
       "      <td>Lexus CT (1.8) 200h Hybrid A Executive - Rahoitus 1.89% jopa ilman käsirahaa! Nahat, Navi, Xenon...</td>\n",
       "      <td>2011-01-01</td>\n",
       "      <td>156000.0</td>\n",
       "      <td>13800</td>\n",
       "      <td>2021-06-01</td>\n",
       "    </tr>\n",
       "    <tr>\n",
       "      <th>3</th>\n",
       "      <td>Lexus CT (1.8)|2011|158 316|12 000 €|06-2021</td>\n",
       "      <td>2011-01-01</td>\n",
       "      <td>158316.0</td>\n",
       "      <td>12000</td>\n",
       "      <td>2021-06-01</td>\n",
       "    </tr>\n",
       "    <tr>\n",
       "      <th>4</th>\n",
       "      <td>Lexus CT (1.8) 200h Hybrid A Comfort // Alcantara-penkit / LED-ajovalot / Aux &amp; Bluetooth //|201...</td>\n",
       "      <td>2011-01-01</td>\n",
       "      <td>90500.0</td>\n",
       "      <td>14350</td>\n",
       "      <td>2021-07-01</td>\n",
       "    </tr>\n",
       "  </tbody>\n",
       "</table>\n",
       "</div>"
      ],
      "text/plain": [
       "                                                                                     model_description  \\\n",
       "2  Lexus CT (1.8) 200h Hybrid A Executive - Rahoitus 1.89% jopa ilman käsirahaa! Nahat, Navi, Xenon...   \n",
       "3                                                         Lexus CT (1.8)|2011|158 316|12 000 €|06-2021   \n",
       "4  Lexus CT (1.8) 200h Hybrid A Comfort // Alcantara-penkit / LED-ajovalot / Aux & Bluetooth //|201...   \n",
       "\n",
       "        Year   Mileage  Price  Sold_date  \n",
       "2 2011-01-01  156000.0  13800 2021-06-01  \n",
       "3 2011-01-01  158316.0  12000 2021-06-01  \n",
       "4 2011-01-01   90500.0  14350 2021-07-01  "
      ]
     },
     "execution_count": 28,
     "metadata": {},
     "output_type": "execute_result"
    }
   ],
   "source": [
    "df.head(3)"
   ]
  },
  {
   "cell_type": "code",
   "execution_count": 29,
   "id": "1d6ffd99",
   "metadata": {},
   "outputs": [
    {
     "name": "stdout",
     "output_type": "stream",
     "text": [
      "<class 'pandas.core.frame.DataFrame'>\n",
      "Int64Index: 167 entries, 2 to 180\n",
      "Data columns (total 5 columns):\n",
      " #   Column             Non-Null Count  Dtype         \n",
      "---  ------             --------------  -----         \n",
      " 0   model_description  167 non-null    object        \n",
      " 1   Year               167 non-null    datetime64[ns]\n",
      " 2   Mileage            167 non-null    float64       \n",
      " 3   Price              167 non-null    int64         \n",
      " 4   Sold_date          167 non-null    datetime64[ns]\n",
      "dtypes: datetime64[ns](2), float64(1), int64(1), object(1)\n",
      "memory usage: 7.8+ KB\n"
     ]
    }
   ],
   "source": [
    "df.info()"
   ]
  },
  {
   "cell_type": "code",
   "execution_count": 30,
   "id": "6a385c92",
   "metadata": {},
   "outputs": [
    {
     "data": {
      "text/html": [
       "<div>\n",
       "<style scoped>\n",
       "    .dataframe tbody tr th:only-of-type {\n",
       "        vertical-align: middle;\n",
       "    }\n",
       "\n",
       "    .dataframe tbody tr th {\n",
       "        vertical-align: top;\n",
       "    }\n",
       "\n",
       "    .dataframe thead th {\n",
       "        text-align: right;\n",
       "    }\n",
       "</style>\n",
       "<table border=\"1\" class=\"dataframe\">\n",
       "  <thead>\n",
       "    <tr style=\"text-align: right;\">\n",
       "      <th></th>\n",
       "      <th>model_description</th>\n",
       "      <th>Year</th>\n",
       "      <th>Mileage</th>\n",
       "      <th>Price</th>\n",
       "      <th>Sold_date</th>\n",
       "      <th>Age</th>\n",
       "    </tr>\n",
       "  </thead>\n",
       "  <tbody>\n",
       "    <tr>\n",
       "      <th>2</th>\n",
       "      <td>Lexus CT (1.8) 200h Hybrid A Executive - Rahoitus 1.89% jopa ilman käsirahaa! Nahat, Navi, Xenon...</td>\n",
       "      <td>2011-01-01</td>\n",
       "      <td>156000.0</td>\n",
       "      <td>13800</td>\n",
       "      <td>2021-06-01</td>\n",
       "      <td>10.414998</td>\n",
       "    </tr>\n",
       "    <tr>\n",
       "      <th>3</th>\n",
       "      <td>Lexus CT (1.8)|2011|158 316|12 000 €|06-2021</td>\n",
       "      <td>2011-01-01</td>\n",
       "      <td>158316.0</td>\n",
       "      <td>12000</td>\n",
       "      <td>2021-06-01</td>\n",
       "      <td>10.414998</td>\n",
       "    </tr>\n",
       "    <tr>\n",
       "      <th>4</th>\n",
       "      <td>Lexus CT (1.8) 200h Hybrid A Comfort // Alcantara-penkit / LED-ajovalot / Aux &amp; Bluetooth //|201...</td>\n",
       "      <td>2011-01-01</td>\n",
       "      <td>90500.0</td>\n",
       "      <td>14350</td>\n",
       "      <td>2021-07-01</td>\n",
       "      <td>10.497135</td>\n",
       "    </tr>\n",
       "  </tbody>\n",
       "</table>\n",
       "</div>"
      ],
      "text/plain": [
       "                                                                                     model_description  \\\n",
       "2  Lexus CT (1.8) 200h Hybrid A Executive - Rahoitus 1.89% jopa ilman käsirahaa! Nahat, Navi, Xenon...   \n",
       "3                                                         Lexus CT (1.8)|2011|158 316|12 000 €|06-2021   \n",
       "4  Lexus CT (1.8) 200h Hybrid A Comfort // Alcantara-penkit / LED-ajovalot / Aux & Bluetooth //|201...   \n",
       "\n",
       "        Year   Mileage  Price  Sold_date        Age  \n",
       "2 2011-01-01  156000.0  13800 2021-06-01  10.414998  \n",
       "3 2011-01-01  158316.0  12000 2021-06-01  10.414998  \n",
       "4 2011-01-01   90500.0  14350 2021-07-01  10.497135  "
      ]
     },
     "execution_count": 30,
     "metadata": {},
     "output_type": "execute_result"
    }
   ],
   "source": [
    "df['Age'] = (df['Sold_date'] - df['Year']) / np.timedelta64(1, 'Y')\n",
    "df.head(3)"
   ]
  },
  {
   "cell_type": "code",
   "execution_count": 31,
   "id": "43478469",
   "metadata": {},
   "outputs": [
    {
     "data": {
      "text/html": [
       "<div>\n",
       "<style scoped>\n",
       "    .dataframe tbody tr th:only-of-type {\n",
       "        vertical-align: middle;\n",
       "    }\n",
       "\n",
       "    .dataframe tbody tr th {\n",
       "        vertical-align: top;\n",
       "    }\n",
       "\n",
       "    .dataframe thead th {\n",
       "        text-align: right;\n",
       "    }\n",
       "</style>\n",
       "<table border=\"1\" class=\"dataframe\">\n",
       "  <thead>\n",
       "    <tr style=\"text-align: right;\">\n",
       "      <th></th>\n",
       "      <th>Mileage</th>\n",
       "      <th>Price</th>\n",
       "      <th>Age</th>\n",
       "    </tr>\n",
       "  </thead>\n",
       "  <tbody>\n",
       "    <tr>\n",
       "      <th>count</th>\n",
       "      <td>167.000000</td>\n",
       "      <td>167.000000</td>\n",
       "      <td>167.000000</td>\n",
       "    </tr>\n",
       "    <tr>\n",
       "      <th>mean</th>\n",
       "      <td>109563.347305</td>\n",
       "      <td>17205.065868</td>\n",
       "      <td>7.793608</td>\n",
       "    </tr>\n",
       "    <tr>\n",
       "      <th>std</th>\n",
       "      <td>54928.733415</td>\n",
       "      <td>4532.890684</td>\n",
       "      <td>2.524132</td>\n",
       "    </tr>\n",
       "    <tr>\n",
       "      <th>min</th>\n",
       "      <td>4386.000000</td>\n",
       "      <td>8500.000000</td>\n",
       "      <td>2.496971</td>\n",
       "    </tr>\n",
       "    <tr>\n",
       "      <th>25%</th>\n",
       "      <td>67500.000000</td>\n",
       "      <td>13490.000000</td>\n",
       "      <td>5.834480</td>\n",
       "    </tr>\n",
       "    <tr>\n",
       "      <th>50%</th>\n",
       "      <td>102000.000000</td>\n",
       "      <td>16800.000000</td>\n",
       "      <td>8.413588</td>\n",
       "    </tr>\n",
       "    <tr>\n",
       "      <th>75%</th>\n",
       "      <td>150750.000000</td>\n",
       "      <td>19900.000000</td>\n",
       "      <td>9.834562</td>\n",
       "    </tr>\n",
       "    <tr>\n",
       "      <th>max</th>\n",
       "      <td>288000.000000</td>\n",
       "      <td>28800.000000</td>\n",
       "      <td>10.916035</td>\n",
       "    </tr>\n",
       "  </tbody>\n",
       "</table>\n",
       "</div>"
      ],
      "text/plain": [
       "             Mileage         Price         Age\n",
       "count     167.000000    167.000000  167.000000\n",
       "mean   109563.347305  17205.065868    7.793608\n",
       "std     54928.733415   4532.890684    2.524132\n",
       "min      4386.000000   8500.000000    2.496971\n",
       "25%     67500.000000  13490.000000    5.834480\n",
       "50%    102000.000000  16800.000000    8.413588\n",
       "75%    150750.000000  19900.000000    9.834562\n",
       "max    288000.000000  28800.000000   10.916035"
      ]
     },
     "execution_count": 31,
     "metadata": {},
     "output_type": "execute_result"
    }
   ],
   "source": [
    "df.describe()"
   ]
  },
  {
   "cell_type": "code",
   "execution_count": 32,
   "id": "5aa0885d",
   "metadata": {},
   "outputs": [],
   "source": [
    "# дропнем аномалию c пробегом\n",
    "# max = df['Mileage'].max()\n",
    "# drop_max = df.query('Mileage == 1310000').index.values.tolist()\n",
    "# df = df.drop(drop_max)\n",
    "# df.head(3)"
   ]
  },
  {
   "cell_type": "code",
   "execution_count": 33,
   "id": "845217cb",
   "metadata": {},
   "outputs": [],
   "source": [
    "# сделаем градацию по пробегу \n",
    "\n",
    "def mileage(col):\n",
    "    if col < 20000:\n",
    "        return \"< 20000\"\n",
    "    elif 20000 <= col < 50000 :\n",
    "        return \"20000 - 49999\"\n",
    "    elif 50000 <= col < 79999 :\n",
    "        return \"50000 - 79999\"\n",
    "    elif 80000 <= col < 100000 :\n",
    "        return \"80000 - 99999\"\n",
    "    else:\n",
    "        return \">= 100000\"\n",
    "\n",
    "# произведем замену значений в DF\n",
    "df['mileage_range'] = df['Mileage'].apply(mileage)"
   ]
  },
  {
   "cell_type": "code",
   "execution_count": 34,
   "id": "b35ae350",
   "metadata": {},
   "outputs": [],
   "source": [
    "# сделаем градацию по пробегу \n",
    "\n",
    "def ages_range(col):\n",
    "    if col < 3:\n",
    "        return \"< 3\"\n",
    "    elif 3 <= col < 5 :\n",
    "        return \"3 - 4\"\n",
    "    elif 5 <= col < 8 :\n",
    "        return \"5 - 7\"\n",
    "    else:\n",
    "        return \">= 8\"\n",
    "\n",
    "# произведем замену значений в DF\n",
    "df['age_range'] = df['Age'].apply(ages_range)"
   ]
  },
  {
   "cell_type": "markdown",
   "id": "9f4e1df7",
   "metadata": {},
   "source": [
    "#### смотрим двигатели"
   ]
  },
  {
   "cell_type": "code",
   "execution_count": 35,
   "id": "466dc00d",
   "metadata": {},
   "outputs": [
    {
     "data": {
      "text/html": [
       "<div>\n",
       "<style scoped>\n",
       "    .dataframe tbody tr th:only-of-type {\n",
       "        vertical-align: middle;\n",
       "    }\n",
       "\n",
       "    .dataframe tbody tr th {\n",
       "        vertical-align: top;\n",
       "    }\n",
       "\n",
       "    .dataframe thead th {\n",
       "        text-align: right;\n",
       "    }\n",
       "</style>\n",
       "<table border=\"1\" class=\"dataframe\">\n",
       "  <thead>\n",
       "    <tr style=\"text-align: right;\">\n",
       "      <th></th>\n",
       "      <th>model_description</th>\n",
       "      <th>Year</th>\n",
       "      <th>Mileage</th>\n",
       "      <th>Price</th>\n",
       "      <th>Sold_date</th>\n",
       "      <th>Age</th>\n",
       "      <th>mileage_range</th>\n",
       "      <th>age_range</th>\n",
       "      <th>engine</th>\n",
       "    </tr>\n",
       "  </thead>\n",
       "  <tbody>\n",
       "    <tr>\n",
       "      <th>2</th>\n",
       "      <td>Lexus CT (1.8) 200h Hybrid A Executive - Rahoitus 1.89% jopa ilman käsirahaa! Nahat, Navi, Xenon...</td>\n",
       "      <td>2011-01-01</td>\n",
       "      <td>156000.0</td>\n",
       "      <td>13800</td>\n",
       "      <td>2021-06-01</td>\n",
       "      <td>10.414998</td>\n",
       "      <td>&gt;= 100000</td>\n",
       "      <td>&gt;= 8</td>\n",
       "      <td>1.8</td>\n",
       "    </tr>\n",
       "    <tr>\n",
       "      <th>3</th>\n",
       "      <td>Lexus CT (1.8)|2011|158 316|12 000 €|06-2021</td>\n",
       "      <td>2011-01-01</td>\n",
       "      <td>158316.0</td>\n",
       "      <td>12000</td>\n",
       "      <td>2021-06-01</td>\n",
       "      <td>10.414998</td>\n",
       "      <td>&gt;= 100000</td>\n",
       "      <td>&gt;= 8</td>\n",
       "      <td>1.8</td>\n",
       "    </tr>\n",
       "    <tr>\n",
       "      <th>4</th>\n",
       "      <td>Lexus CT (1.8) 200h Hybrid A Comfort // Alcantara-penkit / LED-ajovalot / Aux &amp; Bluetooth //|201...</td>\n",
       "      <td>2011-01-01</td>\n",
       "      <td>90500.0</td>\n",
       "      <td>14350</td>\n",
       "      <td>2021-07-01</td>\n",
       "      <td>10.497135</td>\n",
       "      <td>80000 - 99999</td>\n",
       "      <td>&gt;= 8</td>\n",
       "      <td>1.8</td>\n",
       "    </tr>\n",
       "  </tbody>\n",
       "</table>\n",
       "</div>"
      ],
      "text/plain": [
       "                                                                                     model_description  \\\n",
       "2  Lexus CT (1.8) 200h Hybrid A Executive - Rahoitus 1.89% jopa ilman käsirahaa! Nahat, Navi, Xenon...   \n",
       "3                                                         Lexus CT (1.8)|2011|158 316|12 000 €|06-2021   \n",
       "4  Lexus CT (1.8) 200h Hybrid A Comfort // Alcantara-penkit / LED-ajovalot / Aux & Bluetooth //|201...   \n",
       "\n",
       "        Year   Mileage  Price  Sold_date        Age  mileage_range age_range  \\\n",
       "2 2011-01-01  156000.0  13800 2021-06-01  10.414998      >= 100000      >= 8   \n",
       "3 2011-01-01  158316.0  12000 2021-06-01  10.414998      >= 100000      >= 8   \n",
       "4 2011-01-01   90500.0  14350 2021-07-01  10.497135  80000 - 99999      >= 8   \n",
       "\n",
       "  engine  \n",
       "2    1.8  \n",
       "3    1.8  \n",
       "4    1.8  "
      ]
     },
     "execution_count": 35,
     "metadata": {},
     "output_type": "execute_result"
    }
   ],
   "source": [
    "# посмотрим на мотор\n",
    "df['engine'] = df['model_description'].str.extract(r'(\\d.\\d)')\n",
    "df.head(3)"
   ]
  },
  {
   "cell_type": "code",
   "execution_count": 36,
   "id": "98426b1a",
   "metadata": {},
   "outputs": [
    {
     "data": {
      "text/plain": [
       "array(['1.8'], dtype=object)"
      ]
     },
     "execution_count": 36,
     "metadata": {},
     "output_type": "execute_result"
    }
   ],
   "source": [
    "df['engine'].unique()"
   ]
  },
  {
   "cell_type": "code",
   "execution_count": 37,
   "id": "08fcd490",
   "metadata": {},
   "outputs": [],
   "source": [
    "# выбросы \"201=(2.0)\", \"2,0=(2.0)\", \"0,9=(2.0)\"\n",
    "#df.query('engine == \"1,9\"')"
   ]
  },
  {
   "cell_type": "code",
   "execution_count": 38,
   "id": "7ed944bc",
   "metadata": {},
   "outputs": [],
   "source": [
    "#df.loc[df['engine'] == '202','engine'] = '0.0'\n",
    "#df.loc[df['engine'] == '1 3','engine'] = '0.0'\n",
    "#df.loc[df['engine'] == '136','engine'] = '0.0'\n",
    "#df.loc[df['engine'] == '0 3','engine'] = '0.0'\n",
    "#df.loc[df['engine'] == '0|2','engine'] = '0.0'\n",
    "#df.loc[df['engine'] == '1,8','engine'] = '0.0'\n",
    "#df.loc[df['engine'] == '0 1','engine'] = '0.0'\n",
    "#df.loc[df['engine'] == '590','engine'] = '0.0'\n",
    "#df.loc[df['engine'] == '201','engine'] = '0.0'\n",
    "#df.loc[df['engine'] == '120','engine'] = '0.0'\n",
    "#df.loc[df['engine'] == '0,9','engine'] = '0.0'\n",
    "#df.loc[df['engine'] == '5|2','engine'] = '0.0'\n",
    "#df.loc[df['engine'] == '0,8','engine'] = '0.0'\n",
    "#df.loc[df['engine'] == '200','engine'] = '0.0'\n",
    "#df.loc[df['engine'] == '2,4','engine'] = '0.0'\n",
    "#df.loc[df['engine'] == '1,5','engine'] = '0.0'\n",
    "#df.loc[df['engine'] == '1,4','engine'] = '0.0'\n",
    "#df.loc[df['engine'] == '1,9','engine'] = '0.0'"
   ]
  },
  {
   "cell_type": "markdown",
   "id": "17d6ce9b",
   "metadata": {},
   "source": [
    "#### смотрим модификации"
   ]
  },
  {
   "cell_type": "code",
   "execution_count": 39,
   "id": "c1c4dad6",
   "metadata": {},
   "outputs": [
    {
     "data": {
      "text/html": [
       "<div>\n",
       "<style scoped>\n",
       "    .dataframe tbody tr th:only-of-type {\n",
       "        vertical-align: middle;\n",
       "    }\n",
       "\n",
       "    .dataframe tbody tr th {\n",
       "        vertical-align: top;\n",
       "    }\n",
       "\n",
       "    .dataframe thead th {\n",
       "        text-align: right;\n",
       "    }\n",
       "</style>\n",
       "<table border=\"1\" class=\"dataframe\">\n",
       "  <thead>\n",
       "    <tr style=\"text-align: right;\">\n",
       "      <th></th>\n",
       "      <th>model_description</th>\n",
       "      <th>Year</th>\n",
       "      <th>Mileage</th>\n",
       "      <th>Price</th>\n",
       "      <th>Sold_date</th>\n",
       "      <th>Age</th>\n",
       "      <th>mileage_range</th>\n",
       "      <th>age_range</th>\n",
       "      <th>engine</th>\n",
       "    </tr>\n",
       "  </thead>\n",
       "  <tbody>\n",
       "    <tr>\n",
       "      <th>45</th>\n",
       "      <td>Lexus CT (1.8) 200h Hybrid A Comfort - **Korkotarjous 1,59%+kulut**Toimitusmahdollisuus koko Suo...</td>\n",
       "      <td>2012-01-01</td>\n",
       "      <td>136000.0</td>\n",
       "      <td>13490</td>\n",
       "      <td>2021-06-01</td>\n",
       "      <td>9.415662</td>\n",
       "      <td>&gt;= 100000</td>\n",
       "      <td>&gt;= 8</td>\n",
       "      <td>1.8</td>\n",
       "    </tr>\n",
       "    <tr>\n",
       "      <th>109</th>\n",
       "      <td>Lexus CT (1.8) LEXUS CT200H / Hyvin huollettu / Siisti! /|2014|82 000|18 900 €|11-2021</td>\n",
       "      <td>2014-01-01</td>\n",
       "      <td>82000.0</td>\n",
       "      <td>18900</td>\n",
       "      <td>2021-11-01</td>\n",
       "      <td>7.833152</td>\n",
       "      <td>80000 - 99999</td>\n",
       "      <td>5 - 7</td>\n",
       "      <td>1.8</td>\n",
       "    </tr>\n",
       "    <tr>\n",
       "      <th>67</th>\n",
       "      <td>Lexus CT (1.8) 200h Hybrid A F Sport|2012|133 000|14 980 €|09-2021</td>\n",
       "      <td>2012-01-01</td>\n",
       "      <td>133000.0</td>\n",
       "      <td>14980</td>\n",
       "      <td>2021-09-01</td>\n",
       "      <td>9.667550</td>\n",
       "      <td>&gt;= 100000</td>\n",
       "      <td>&gt;= 8</td>\n",
       "      <td>1.8</td>\n",
       "    </tr>\n",
       "    <tr>\n",
       "      <th>6</th>\n",
       "      <td>Lexus CT (1.8) 200h Hybrid A Luxury *Rahoitus 0,86% + kulut Huoltorahalla / Nahat / Navi*|2011|1...</td>\n",
       "      <td>2011-01-01</td>\n",
       "      <td>123000.0</td>\n",
       "      <td>13400</td>\n",
       "      <td>2021-06-01</td>\n",
       "      <td>10.414998</td>\n",
       "      <td>&gt;= 100000</td>\n",
       "      <td>&gt;= 8</td>\n",
       "      <td>1.8</td>\n",
       "    </tr>\n",
       "    <tr>\n",
       "      <th>101</th>\n",
       "      <td>Lexus CT (1.8) 200h Hybrid A Esteem (MY14)|2014|159 000|14 900 €|08-2021</td>\n",
       "      <td>2014-01-01</td>\n",
       "      <td>159000.0</td>\n",
       "      <td>14900</td>\n",
       "      <td>2021-08-01</td>\n",
       "      <td>7.581265</td>\n",
       "      <td>&gt;= 100000</td>\n",
       "      <td>5 - 7</td>\n",
       "      <td>1.8</td>\n",
       "    </tr>\n",
       "    <tr>\n",
       "      <th>126</th>\n",
       "      <td>Lexus CT (1.8) 200h Hybrid A Comfort Business|2015|77 000|19 690 €|10-2021</td>\n",
       "      <td>2015-01-01</td>\n",
       "      <td>77000.0</td>\n",
       "      <td>19690</td>\n",
       "      <td>2021-10-01</td>\n",
       "      <td>6.748941</td>\n",
       "      <td>50000 - 79999</td>\n",
       "      <td>5 - 7</td>\n",
       "      <td>1.8</td>\n",
       "    </tr>\n",
       "    <tr>\n",
       "      <th>32</th>\n",
       "      <td>Lexus CT (1.8) 200h Hybrid A Executive - ** RAHOITUSKORKO 1,49% ** - Suomi-auto / Navi / P.Kamer...</td>\n",
       "      <td>2011-01-01</td>\n",
       "      <td>165000.0</td>\n",
       "      <td>13590</td>\n",
       "      <td>2021-10-01</td>\n",
       "      <td>10.749023</td>\n",
       "      <td>&gt;= 100000</td>\n",
       "      <td>&gt;= 8</td>\n",
       "      <td>1.8</td>\n",
       "    </tr>\n",
       "    <tr>\n",
       "      <th>50</th>\n",
       "      <td>Lexus CT (1.8) 200h Hybrid A E - * Lohkolämmitin + sis. pistoke / Juuri huollettu *|2012|126 000...</td>\n",
       "      <td>2012-01-01</td>\n",
       "      <td>126000.0</td>\n",
       "      <td>13490</td>\n",
       "      <td>2021-07-01</td>\n",
       "      <td>9.497799</td>\n",
       "      <td>&gt;= 100000</td>\n",
       "      <td>&gt;= 8</td>\n",
       "      <td>1.8</td>\n",
       "    </tr>\n",
       "    <tr>\n",
       "      <th>102</th>\n",
       "      <td>Lexus CT (1.8) 200H F-Sport Black Edition, Huippuvarusteet ! Korko 0,99%|2014|24 000|21 900 €|07...</td>\n",
       "      <td>2014-01-01</td>\n",
       "      <td>24000.0</td>\n",
       "      <td>21900</td>\n",
       "      <td>2021-07-01</td>\n",
       "      <td>7.496389</td>\n",
       "      <td>20000 - 49999</td>\n",
       "      <td>5 - 7</td>\n",
       "      <td>1.8</td>\n",
       "    </tr>\n",
       "    <tr>\n",
       "      <th>22</th>\n",
       "      <td>Lexus CT (1.8) 200h Hybrid A Executive / Peruutuskamera / Vakkari / Autom. Ilmastointi|2011|115 ...</td>\n",
       "      <td>2011-01-01</td>\n",
       "      <td>115000.0</td>\n",
       "      <td>13700</td>\n",
       "      <td>2021-10-01</td>\n",
       "      <td>10.749023</td>\n",
       "      <td>&gt;= 100000</td>\n",
       "      <td>&gt;= 8</td>\n",
       "      <td>1.8</td>\n",
       "    </tr>\n",
       "  </tbody>\n",
       "</table>\n",
       "</div>"
      ],
      "text/plain": [
       "                                                                                       model_description  \\\n",
       "45   Lexus CT (1.8) 200h Hybrid A Comfort - **Korkotarjous 1,59%+kulut**Toimitusmahdollisuus koko Suo...   \n",
       "109               Lexus CT (1.8) LEXUS CT200H / Hyvin huollettu / Siisti! /|2014|82 000|18 900 €|11-2021   \n",
       "67                                    Lexus CT (1.8) 200h Hybrid A F Sport|2012|133 000|14 980 €|09-2021   \n",
       "6    Lexus CT (1.8) 200h Hybrid A Luxury *Rahoitus 0,86% + kulut Huoltorahalla / Nahat / Navi*|2011|1...   \n",
       "101                             Lexus CT (1.8) 200h Hybrid A Esteem (MY14)|2014|159 000|14 900 €|08-2021   \n",
       "126                           Lexus CT (1.8) 200h Hybrid A Comfort Business|2015|77 000|19 690 €|10-2021   \n",
       "32   Lexus CT (1.8) 200h Hybrid A Executive - ** RAHOITUSKORKO 1,49% ** - Suomi-auto / Navi / P.Kamer...   \n",
       "50   Lexus CT (1.8) 200h Hybrid A E - * Lohkolämmitin + sis. pistoke / Juuri huollettu *|2012|126 000...   \n",
       "102  Lexus CT (1.8) 200H F-Sport Black Edition, Huippuvarusteet ! Korko 0,99%|2014|24 000|21 900 €|07...   \n",
       "22   Lexus CT (1.8) 200h Hybrid A Executive / Peruutuskamera / Vakkari / Autom. Ilmastointi|2011|115 ...   \n",
       "\n",
       "          Year   Mileage  Price  Sold_date        Age  mileage_range  \\\n",
       "45  2012-01-01  136000.0  13490 2021-06-01   9.415662      >= 100000   \n",
       "109 2014-01-01   82000.0  18900 2021-11-01   7.833152  80000 - 99999   \n",
       "67  2012-01-01  133000.0  14980 2021-09-01   9.667550      >= 100000   \n",
       "6   2011-01-01  123000.0  13400 2021-06-01  10.414998      >= 100000   \n",
       "101 2014-01-01  159000.0  14900 2021-08-01   7.581265      >= 100000   \n",
       "126 2015-01-01   77000.0  19690 2021-10-01   6.748941  50000 - 79999   \n",
       "32  2011-01-01  165000.0  13590 2021-10-01  10.749023      >= 100000   \n",
       "50  2012-01-01  126000.0  13490 2021-07-01   9.497799      >= 100000   \n",
       "102 2014-01-01   24000.0  21900 2021-07-01   7.496389  20000 - 49999   \n",
       "22  2011-01-01  115000.0  13700 2021-10-01  10.749023      >= 100000   \n",
       "\n",
       "    age_range engine  \n",
       "45       >= 8    1.8  \n",
       "109     5 - 7    1.8  \n",
       "67       >= 8    1.8  \n",
       "6        >= 8    1.8  \n",
       "101     5 - 7    1.8  \n",
       "126     5 - 7    1.8  \n",
       "32       >= 8    1.8  \n",
       "50       >= 8    1.8  \n",
       "102     5 - 7    1.8  \n",
       "22       >= 8    1.8  "
      ]
     },
     "execution_count": 39,
     "metadata": {},
     "output_type": "execute_result"
    }
   ],
   "source": [
    "# посмотрим на модификации\n",
    "#df['Electric'] = df['model_description'].str.contains(\"Electric\")\n",
    "#df['Hybrid'] = df['model_description'].str.contains(\"Hybrid\")\n",
    "#df['Plug-In '] = df['model_description'].str.contains(\"Plug-In \")\n",
    "df.sample(10)"
   ]
  },
  {
   "cell_type": "code",
   "execution_count": 40,
   "id": "661520fe",
   "metadata": {},
   "outputs": [],
   "source": [
    "#test = df.loc[740:740]['model_description']\n",
    "#test.str.contains(\"Hybrid\")"
   ]
  },
  {
   "cell_type": "code",
   "execution_count": 41,
   "id": "645d383b",
   "metadata": {},
   "outputs": [],
   "source": [
    "#test = 'Hyundai Ioniq Hybrid (1.6) **Rahoitus 0,86% + kulut Huoltorahalla**|2016|62 000|18 400 €|06-2021'\n",
    "#test.find(\"Hybrid\")"
   ]
  },
  {
   "cell_type": "code",
   "execution_count": 42,
   "id": "ae6374a6",
   "metadata": {},
   "outputs": [],
   "source": [
    "# сделаем градацию по комплектации\n",
    "\n",
    "#def modification(col):\n",
    "    #if col.find(\"Comfort\") == \"Comfort\":\n",
    "        #return \"Comfort\"\n",
    "    #elif col.find(\"ECO\") == \"ECO\" :\n",
    "        #return \"ECO\"\n",
    "    #elif col.find(\"Executive\") == \"Executive\" :\n",
    "        #return \"Executive\"\n",
    "    #elif col.find(\"F-Sport\") == \"F-Sport\" :\n",
    "        #return \"F-Sport\"\n",
    "    #elif col.find(\"Luxury\") == \"Luxury\" :\n",
    "        #return \"Luxury\"\n",
    "    #else:\n",
    "        #return \"Other\""
   ]
  },
  {
   "cell_type": "code",
   "execution_count": 43,
   "id": "03f5d0e5",
   "metadata": {},
   "outputs": [],
   "source": [
    "# сделаем градацию по пробегу \n",
    "\n",
    "#def modification(col):\n",
    "    #if \"Electric\" in col:\n",
    "        #return \"Electric\"\n",
    "    #elif \"Hybrid\" in col:\n",
    "        #return \"Hybrid\"\n",
    "    #elif \"Plug-In\" in col:\n",
    "        #return \"Electric\"\n",
    "    #else:\n",
    "        #return \"Other\"\n",
    "        \n",
    "        \n",
    "        \n",
    "def modification(col):\n",
    "    if \"Comfort\" in col:\n",
    "        return \"Comfort\"\n",
    "    elif \"ECO\" in col:\n",
    "        return \"ECO\"\n",
    "    elif \"Executive\" in col:\n",
    "        return \"Executive\"\n",
    "    elif \"F-Sport\" in col:\n",
    "        return \"F-Sport\"\n",
    "    elif \"Luxury\" in col:\n",
    "        return \"Luxury\"\n",
    "    else:\n",
    "        return \"Other\"        "
   ]
  },
  {
   "cell_type": "code",
   "execution_count": 44,
   "id": "b8849d41",
   "metadata": {},
   "outputs": [],
   "source": [
    "# произведем замену значений в DF\n",
    "df['model'] = df['model_description'].apply(modification)"
   ]
  },
  {
   "cell_type": "code",
   "execution_count": 45,
   "id": "3e664da8",
   "metadata": {},
   "outputs": [
    {
     "data": {
      "text/html": [
       "<div>\n",
       "<style scoped>\n",
       "    .dataframe tbody tr th:only-of-type {\n",
       "        vertical-align: middle;\n",
       "    }\n",
       "\n",
       "    .dataframe tbody tr th {\n",
       "        vertical-align: top;\n",
       "    }\n",
       "\n",
       "    .dataframe thead th {\n",
       "        text-align: right;\n",
       "    }\n",
       "</style>\n",
       "<table border=\"1\" class=\"dataframe\">\n",
       "  <thead>\n",
       "    <tr style=\"text-align: right;\">\n",
       "      <th></th>\n",
       "      <th>model_description</th>\n",
       "      <th>Year</th>\n",
       "      <th>Mileage</th>\n",
       "      <th>Price</th>\n",
       "      <th>Sold_date</th>\n",
       "      <th>Age</th>\n",
       "      <th>mileage_range</th>\n",
       "      <th>age_range</th>\n",
       "      <th>engine</th>\n",
       "      <th>model</th>\n",
       "    </tr>\n",
       "  </thead>\n",
       "  <tbody>\n",
       "    <tr>\n",
       "      <th>2</th>\n",
       "      <td>Lexus CT (1.8) 200h Hybrid A Executive - Rahoitus 1.89% jopa ilman käsirahaa! Nahat, Navi, Xenon...</td>\n",
       "      <td>2011-01-01</td>\n",
       "      <td>156000.0</td>\n",
       "      <td>13800</td>\n",
       "      <td>2021-06-01</td>\n",
       "      <td>10.414998</td>\n",
       "      <td>&gt;= 100000</td>\n",
       "      <td>&gt;= 8</td>\n",
       "      <td>1.8</td>\n",
       "      <td>Executive</td>\n",
       "    </tr>\n",
       "    <tr>\n",
       "      <th>3</th>\n",
       "      <td>Lexus CT (1.8)|2011|158 316|12 000 €|06-2021</td>\n",
       "      <td>2011-01-01</td>\n",
       "      <td>158316.0</td>\n",
       "      <td>12000</td>\n",
       "      <td>2021-06-01</td>\n",
       "      <td>10.414998</td>\n",
       "      <td>&gt;= 100000</td>\n",
       "      <td>&gt;= 8</td>\n",
       "      <td>1.8</td>\n",
       "      <td>Other</td>\n",
       "    </tr>\n",
       "    <tr>\n",
       "      <th>4</th>\n",
       "      <td>Lexus CT (1.8) 200h Hybrid A Comfort // Alcantara-penkit / LED-ajovalot / Aux &amp; Bluetooth //|201...</td>\n",
       "      <td>2011-01-01</td>\n",
       "      <td>90500.0</td>\n",
       "      <td>14350</td>\n",
       "      <td>2021-07-01</td>\n",
       "      <td>10.497135</td>\n",
       "      <td>80000 - 99999</td>\n",
       "      <td>&gt;= 8</td>\n",
       "      <td>1.8</td>\n",
       "      <td>Comfort</td>\n",
       "    </tr>\n",
       "    <tr>\n",
       "      <th>5</th>\n",
       "      <td>Lexus CT (1.8) 200h Hybrid A Comfort ** Suomi-auto **|2011|185 000|11 590 €|06-2021</td>\n",
       "      <td>2011-01-01</td>\n",
       "      <td>185000.0</td>\n",
       "      <td>11590</td>\n",
       "      <td>2021-06-01</td>\n",
       "      <td>10.414998</td>\n",
       "      <td>&gt;= 100000</td>\n",
       "      <td>&gt;= 8</td>\n",
       "      <td>1.8</td>\n",
       "      <td>Comfort</td>\n",
       "    </tr>\n",
       "    <tr>\n",
       "      <th>6</th>\n",
       "      <td>Lexus CT (1.8) 200h Hybrid A Luxury *Rahoitus 0,86% + kulut Huoltorahalla / Nahat / Navi*|2011|1...</td>\n",
       "      <td>2011-01-01</td>\n",
       "      <td>123000.0</td>\n",
       "      <td>13400</td>\n",
       "      <td>2021-06-01</td>\n",
       "      <td>10.414998</td>\n",
       "      <td>&gt;= 100000</td>\n",
       "      <td>&gt;= 8</td>\n",
       "      <td>1.8</td>\n",
       "      <td>Luxury</td>\n",
       "    </tr>\n",
       "    <tr>\n",
       "      <th>7</th>\n",
       "      <td>Lexus CT (1.8) 200h Hybrid A Executive ** Suomi-auto / Alcantara / Bluetooth / P. kamera / Juuri...</td>\n",
       "      <td>2011-01-01</td>\n",
       "      <td>140000.0</td>\n",
       "      <td>13490</td>\n",
       "      <td>2021-07-01</td>\n",
       "      <td>10.497135</td>\n",
       "      <td>&gt;= 100000</td>\n",
       "      <td>&gt;= 8</td>\n",
       "      <td>1.8</td>\n",
       "      <td>Executive</td>\n",
       "    </tr>\n",
       "    <tr>\n",
       "      <th>8</th>\n",
       "      <td>Lexus CT (1.8) 200h Hybrid A Executive - **Korkotarjous 1,59%+kulut**Toimitusmahdollisuus koko S...</td>\n",
       "      <td>2011-01-01</td>\n",
       "      <td>189581.0</td>\n",
       "      <td>11990</td>\n",
       "      <td>2021-07-01</td>\n",
       "      <td>10.497135</td>\n",
       "      <td>&gt;= 100000</td>\n",
       "      <td>&gt;= 8</td>\n",
       "      <td>1.8</td>\n",
       "      <td>Executive</td>\n",
       "    </tr>\n",
       "    <tr>\n",
       "      <th>9</th>\n",
       "      <td>Lexus CT (1.8) 200h Hybrid A Comfort ** Peruutuskamera / Vakionopeudensäädin / Lohkoläm. / Veluu...</td>\n",
       "      <td>2011-01-01</td>\n",
       "      <td>199000.0</td>\n",
       "      <td>10900</td>\n",
       "      <td>2021-07-01</td>\n",
       "      <td>10.497135</td>\n",
       "      <td>&gt;= 100000</td>\n",
       "      <td>&gt;= 8</td>\n",
       "      <td>1.8</td>\n",
       "      <td>Comfort</td>\n",
       "    </tr>\n",
       "    <tr>\n",
       "      <th>10</th>\n",
       "      <td>Lexus CT (1.8) 200h Hybrid A Luxury *VARATTU*|2011|164 000|13 350 €|07-2021</td>\n",
       "      <td>2011-01-01</td>\n",
       "      <td>164000.0</td>\n",
       "      <td>13350</td>\n",
       "      <td>2021-07-01</td>\n",
       "      <td>10.497135</td>\n",
       "      <td>&gt;= 100000</td>\n",
       "      <td>&gt;= 8</td>\n",
       "      <td>1.8</td>\n",
       "      <td>Luxury</td>\n",
       "    </tr>\n",
       "    <tr>\n",
       "      <th>11</th>\n",
       "      <td>Lexus CT (1.8) 200h Hybrid A Comfort Suomi-auto / 2-om / merkkiliikkeen huollot *** 6kk korotont...</td>\n",
       "      <td>2011-01-01</td>\n",
       "      <td>116000.0</td>\n",
       "      <td>13200</td>\n",
       "      <td>2021-09-01</td>\n",
       "      <td>10.666886</td>\n",
       "      <td>&gt;= 100000</td>\n",
       "      <td>&gt;= 8</td>\n",
       "      <td>1.8</td>\n",
       "      <td>Comfort</td>\n",
       "    </tr>\n",
       "  </tbody>\n",
       "</table>\n",
       "</div>"
      ],
      "text/plain": [
       "                                                                                      model_description  \\\n",
       "2   Lexus CT (1.8) 200h Hybrid A Executive - Rahoitus 1.89% jopa ilman käsirahaa! Nahat, Navi, Xenon...   \n",
       "3                                                          Lexus CT (1.8)|2011|158 316|12 000 €|06-2021   \n",
       "4   Lexus CT (1.8) 200h Hybrid A Comfort // Alcantara-penkit / LED-ajovalot / Aux & Bluetooth //|201...   \n",
       "5                   Lexus CT (1.8) 200h Hybrid A Comfort ** Suomi-auto **|2011|185 000|11 590 €|06-2021   \n",
       "6   Lexus CT (1.8) 200h Hybrid A Luxury *Rahoitus 0,86% + kulut Huoltorahalla / Nahat / Navi*|2011|1...   \n",
       "7   Lexus CT (1.8) 200h Hybrid A Executive ** Suomi-auto / Alcantara / Bluetooth / P. kamera / Juuri...   \n",
       "8   Lexus CT (1.8) 200h Hybrid A Executive - **Korkotarjous 1,59%+kulut**Toimitusmahdollisuus koko S...   \n",
       "9   Lexus CT (1.8) 200h Hybrid A Comfort ** Peruutuskamera / Vakionopeudensäädin / Lohkoläm. / Veluu...   \n",
       "10                          Lexus CT (1.8) 200h Hybrid A Luxury *VARATTU*|2011|164 000|13 350 €|07-2021   \n",
       "11  Lexus CT (1.8) 200h Hybrid A Comfort Suomi-auto / 2-om / merkkiliikkeen huollot *** 6kk korotont...   \n",
       "\n",
       "         Year   Mileage  Price  Sold_date        Age  mileage_range age_range  \\\n",
       "2  2011-01-01  156000.0  13800 2021-06-01  10.414998      >= 100000      >= 8   \n",
       "3  2011-01-01  158316.0  12000 2021-06-01  10.414998      >= 100000      >= 8   \n",
       "4  2011-01-01   90500.0  14350 2021-07-01  10.497135  80000 - 99999      >= 8   \n",
       "5  2011-01-01  185000.0  11590 2021-06-01  10.414998      >= 100000      >= 8   \n",
       "6  2011-01-01  123000.0  13400 2021-06-01  10.414998      >= 100000      >= 8   \n",
       "7  2011-01-01  140000.0  13490 2021-07-01  10.497135      >= 100000      >= 8   \n",
       "8  2011-01-01  189581.0  11990 2021-07-01  10.497135      >= 100000      >= 8   \n",
       "9  2011-01-01  199000.0  10900 2021-07-01  10.497135      >= 100000      >= 8   \n",
       "10 2011-01-01  164000.0  13350 2021-07-01  10.497135      >= 100000      >= 8   \n",
       "11 2011-01-01  116000.0  13200 2021-09-01  10.666886      >= 100000      >= 8   \n",
       "\n",
       "   engine      model  \n",
       "2     1.8  Executive  \n",
       "3     1.8      Other  \n",
       "4     1.8    Comfort  \n",
       "5     1.8    Comfort  \n",
       "6     1.8     Luxury  \n",
       "7     1.8  Executive  \n",
       "8     1.8  Executive  \n",
       "9     1.8    Comfort  \n",
       "10    1.8     Luxury  \n",
       "11    1.8    Comfort  "
      ]
     },
     "execution_count": 45,
     "metadata": {},
     "output_type": "execute_result"
    }
   ],
   "source": [
    "df.head(10)"
   ]
  },
  {
   "cell_type": "markdown",
   "id": "62965aa7",
   "metadata": {},
   "source": [
    "## 3. Графики "
   ]
  },
  {
   "cell_type": "code",
   "execution_count": 46,
   "id": "a22b7fe4",
   "metadata": {},
   "outputs": [
    {
     "data": {
      "image/png": "[encoded data removed]",
      "text/plain": [
       "<Figure size 893.18x432 with 1 Axes>"
      ]
     },
     "metadata": {
      "needs_background": "light"
     },
     "output_type": "display_data"
    }
   ],
   "source": [
    "up_limit_budget = 18000\n",
    "target_limit_budget = 15000\n",
    "low_limit_budget = 12000\n",
    "# Use the 'hue' argument to provide a factor variable\n",
    "sns.lmplot( x=\"Mileage\", \n",
    "           y=\"Price\", \n",
    "           data=df, \n",
    "           fit_reg=False, \n",
    "           hue='mileage_range', \n",
    "           legend=True, \n",
    "           height=6, \n",
    "           aspect=15/8.27);\n",
    "ax = plt.gca();\n",
    "ax.set_title(\"Распределение Цена - Пробег. Градация цветов по пробегу.\");\n",
    "plt.axhline(up_limit_budget, linestyle = '-', color ='blue', linewidth = 3);\n",
    "plt.axhline(target_limit_budget, linestyle = '-', color ='grey', linewidth = 1);\n",
    "plt.axhline(low_limit_budget, linestyle = '-', color ='blue', linewidth = 3);"
   ]
  },
  {
   "cell_type": "code",
   "execution_count": 47,
   "id": "c9d21ea8",
   "metadata": {},
   "outputs": [
    {
     "data": {
      "image/png": "[encoded data removed]",
      "text/plain": [
       "<Figure size 845.68x432 with 1 Axes>"
      ]
     },
     "metadata": {
      "needs_background": "light"
     },
     "output_type": "display_data"
    }
   ],
   "source": [
    "# Use the 'hue' argument to provide a factor variable\n",
    "sns.lmplot( x=\"Mileage\", \n",
    "           y=\"Price\", \n",
    "           data=df, \n",
    "           fit_reg=False, \n",
    "           hue='age_range', \n",
    "           legend=True, \n",
    "           height=6,\n",
    "           aspect=15/8.27);\n",
    "ax = plt.gca();\n",
    "ax.set_title(\"Распределение Цена - Пробег. Градация цветов по возрасту.\");\n",
    "plt.axhline(up_limit_budget, linestyle = '-', color ='blue', linewidth = 3);\n",
    "plt.axhline(target_limit_budget, linestyle = '-', color ='grey', linewidth = 1);\n",
    "plt.axhline(low_limit_budget, linestyle = '-', color ='blue', linewidth = 3);\n",
    "plt.axvline(50000, linestyle = '-', color ='blue', linewidth = 3);"
   ]
  },
  {
   "cell_type": "code",
   "execution_count": 48,
   "id": "1644a06a",
   "metadata": {},
   "outputs": [],
   "source": [
    "# Use the 'hue' argument to provide a factor variable\n",
    "#sns.lmplot( x=\"Mileage\", \n",
    "           #y=\"Price\", \n",
    "           #data=df, \n",
    "           #fit_reg=False, \n",
    "           #hue='engine', \n",
    "           #legend=True, \n",
    "           #height=6,\n",
    "           #aspect=15/8.27);\n",
    "#ax = plt.gca();\n",
    "#ax.set_title(\"Распределение Цена - Пробег. Градация цветов по двигателю\");\n",
    "#plt.axhline(up_limit_budget, linestyle = '-', color ='blue', linewidth = 3);\n",
    "#plt.axhline(target_limit_budget, linestyle = '-', color ='grey', linewidth = 1);\n",
    "#plt.axhline(low_limit_budget, linestyle = '-', color ='blue', linewidth = 3);"
   ]
  },
  {
   "cell_type": "code",
   "execution_count": 49,
   "id": "c0b61ff1",
   "metadata": {},
   "outputs": [],
   "source": [
    "#fig, ax = plt.subplots(figsize=(15,6))\n",
    "#sns.histplot(data=df, x=\"Mileage\", hue=df[\"model\"], multiple=\"dodge\", shrink=.5).set_title('Количество проданных автомобилей и их пробег');"
   ]
  },
  {
   "cell_type": "code",
   "execution_count": 50,
   "id": "503e8195",
   "metadata": {},
   "outputs": [
    {
     "data": {
      "image/png": "[encoded data removed]",
      "text/plain": [
       "<Figure size 1080x432 with 1 Axes>"
      ]
     },
     "metadata": {
      "needs_background": "light"
     },
     "output_type": "display_data"
    }
   ],
   "source": [
    "fig, ax = plt.subplots(figsize=(15,6))\n",
    "sns.distplot( df['Mileage'], \n",
    "             hist=True, \n",
    "             kde=False, \n",
    "             rug=False, \n",
    "             color=\"red\" ).set_title('Количество проданных автомобилей и их пробег');\n",
    "plt.axvline(50000, linestyle = '-.', color ='blue', linewidth = 3);\n",
    "plt.xlabel(\"Mileage\");"
   ]
  },
  {
   "cell_type": "code",
   "execution_count": 51,
   "id": "fc5d0dc1",
   "metadata": {},
   "outputs": [
    {
     "data": {
      "text/html": [
       "<div>\n",
       "<style scoped>\n",
       "    .dataframe tbody tr th:only-of-type {\n",
       "        vertical-align: middle;\n",
       "    }\n",
       "\n",
       "    .dataframe tbody tr th {\n",
       "        vertical-align: top;\n",
       "    }\n",
       "\n",
       "    .dataframe thead th {\n",
       "        text-align: right;\n",
       "    }\n",
       "</style>\n",
       "<table border=\"1\" class=\"dataframe\">\n",
       "  <thead>\n",
       "    <tr style=\"text-align: right;\">\n",
       "      <th></th>\n",
       "      <th>engine</th>\n",
       "      <th>count</th>\n",
       "      <th>median</th>\n",
       "    </tr>\n",
       "  </thead>\n",
       "  <tbody>\n",
       "    <tr>\n",
       "      <th>0</th>\n",
       "      <td>1.8</td>\n",
       "      <td>167</td>\n",
       "      <td>16800</td>\n",
       "    </tr>\n",
       "  </tbody>\n",
       "</table>\n",
       "</div>"
      ],
      "text/plain": [
       "  engine  count  median\n",
       "0    1.8    167   16800"
      ]
     },
     "execution_count": 51,
     "metadata": {},
     "output_type": "execute_result"
    }
   ],
   "source": [
    "pivot_report = pd.pivot_table(df, \n",
    "                              values='Price', \n",
    "                              index=['engine'], \n",
    "                              aggfunc={'count','median'}).reset_index()\n",
    "pivot_report"
   ]
  },
  {
   "cell_type": "code",
   "execution_count": 52,
   "id": "d6166f83",
   "metadata": {},
   "outputs": [
    {
     "data": {
      "image/png": "[encoded data removed]",
      "text/plain": [
       "<Figure size 835.792x432 with 1 Axes>"
      ]
     },
     "metadata": {
      "needs_background": "light"
     },
     "output_type": "display_data"
    }
   ],
   "source": [
    "#fig, ax = plt.subplots(figsize=(15,6))\n",
    "#ax.set_title(\"Распределение Год - Цена\");\n",
    "#use the function regplot to make a scatterplot\n",
    "#sns.regplot(x=df[\"Age\"], y=df[\"Price\"]);\n",
    "\n",
    "sns.lmplot(x=\"Age\", \n",
    "           y=\"Price\", \n",
    "           data=df, \n",
    "           fit_reg=False, \n",
    "           legend=False,\n",
    "           height=6,\n",
    "           aspect=16/8.27)\n",
    "ax = plt.gca();\n",
    "ax.set_title(\"Распределение Цена - Возраст\");\n",
    "plt.axhline(up_limit_budget, linestyle = '-', color ='red', linewidth = 3);\n",
    "plt.axhline(target_limit_budget, linestyle = '-', color ='grey', linewidth = 1);\n",
    "plt.axhline(low_limit_budget, linestyle = '-', color ='red', linewidth = 3);"
   ]
  },
  {
   "cell_type": "code",
   "execution_count": 53,
   "id": "94ee7f31",
   "metadata": {},
   "outputs": [
    {
     "data": {
      "text/html": [
       "<div>\n",
       "<style scoped>\n",
       "    .dataframe tbody tr th:only-of-type {\n",
       "        vertical-align: middle;\n",
       "    }\n",
       "\n",
       "    .dataframe tbody tr th {\n",
       "        vertical-align: top;\n",
       "    }\n",
       "\n",
       "    .dataframe thead th {\n",
       "        text-align: right;\n",
       "    }\n",
       "</style>\n",
       "<table border=\"1\" class=\"dataframe\">\n",
       "  <thead>\n",
       "    <tr style=\"text-align: right;\">\n",
       "      <th></th>\n",
       "      <th>Mileage</th>\n",
       "      <th>Price</th>\n",
       "      <th>Age</th>\n",
       "    </tr>\n",
       "  </thead>\n",
       "  <tbody>\n",
       "    <tr>\n",
       "      <th>Mileage</th>\n",
       "      <td>1.000000</td>\n",
       "      <td>-0.880868</td>\n",
       "      <td>0.734985</td>\n",
       "    </tr>\n",
       "    <tr>\n",
       "      <th>Price</th>\n",
       "      <td>-0.880868</td>\n",
       "      <td>1.000000</td>\n",
       "      <td>-0.894730</td>\n",
       "    </tr>\n",
       "    <tr>\n",
       "      <th>Age</th>\n",
       "      <td>0.734985</td>\n",
       "      <td>-0.894730</td>\n",
       "      <td>1.000000</td>\n",
       "    </tr>\n",
       "  </tbody>\n",
       "</table>\n",
       "</div>"
      ],
      "text/plain": [
       "          Mileage     Price       Age\n",
       "Mileage  1.000000 -0.880868  0.734985\n",
       "Price   -0.880868  1.000000 -0.894730\n",
       "Age      0.734985 -0.894730  1.000000"
      ]
     },
     "execution_count": 53,
     "metadata": {},
     "output_type": "execute_result"
    }
   ],
   "source": [
    "df.corr()"
   ]
  },
  {
   "cell_type": "code",
   "execution_count": 63,
   "id": "398a8d37",
   "metadata": {},
   "outputs": [
    {
     "data": {
      "image/png": "[encoded data removed]",
      "text/plain": [
       "<Figure size 1080x432 with 1 Axes>"
      ]
     },
     "metadata": {
      "needs_background": "light"
     },
     "output_type": "display_data"
    }
   ],
   "source": [
    "fig, ax = plt.subplots(figsize=(15,6))\n",
    "sns.boxplot( x=df[\"model\"], y=df[\"Price\"]);"
   ]
  },
  {
   "cell_type": "code",
   "execution_count": 55,
   "id": "d7a382a5",
   "metadata": {},
   "outputs": [],
   "source": [
    "#Hybrid = df[df['model'] == 'Hybrid']['Price'].median()\n",
    "#Electric = df[df['model'] == 'Electric']['Price'].median()\n",
    "\n",
    "#print('Медианная цена гибрида = {:.2f}'.format(Hybrid))\n",
    "#print('Медианная цена електро = {:.2f}'.format(Electric))"
   ]
  },
  {
   "cell_type": "code",
   "execution_count": 64,
   "id": "9b955f8f",
   "metadata": {},
   "outputs": [
    {
     "data": {
      "text/html": [
       "<div>\n",
       "<style scoped>\n",
       "    .dataframe tbody tr th:only-of-type {\n",
       "        vertical-align: middle;\n",
       "    }\n",
       "\n",
       "    .dataframe tbody tr th {\n",
       "        vertical-align: top;\n",
       "    }\n",
       "\n",
       "    .dataframe thead th {\n",
       "        text-align: right;\n",
       "    }\n",
       "</style>\n",
       "<table border=\"1\" class=\"dataframe\">\n",
       "  <thead>\n",
       "    <tr style=\"text-align: right;\">\n",
       "      <th></th>\n",
       "      <th>Mileage</th>\n",
       "      <th>Price</th>\n",
       "      <th>Age</th>\n",
       "    </tr>\n",
       "    <tr>\n",
       "      <th>model</th>\n",
       "      <th></th>\n",
       "      <th></th>\n",
       "      <th></th>\n",
       "    </tr>\n",
       "  </thead>\n",
       "  <tbody>\n",
       "    <tr>\n",
       "      <th>Comfort</th>\n",
       "      <td>90000.0</td>\n",
       "      <td>17900</td>\n",
       "      <td>6.748941</td>\n",
       "    </tr>\n",
       "    <tr>\n",
       "      <th>Executive</th>\n",
       "      <td>152000.0</td>\n",
       "      <td>13800</td>\n",
       "      <td>10.414998</td>\n",
       "    </tr>\n",
       "    <tr>\n",
       "      <th>F-Sport</th>\n",
       "      <td>36220.0</td>\n",
       "      <td>21900</td>\n",
       "      <td>7.496389</td>\n",
       "    </tr>\n",
       "    <tr>\n",
       "      <th>Luxury</th>\n",
       "      <td>134000.0</td>\n",
       "      <td>13490</td>\n",
       "      <td>10.414998</td>\n",
       "    </tr>\n",
       "    <tr>\n",
       "      <th>Other</th>\n",
       "      <td>101000.0</td>\n",
       "      <td>16800</td>\n",
       "      <td>7.833152</td>\n",
       "    </tr>\n",
       "  </tbody>\n",
       "</table>\n",
       "</div>"
      ],
      "text/plain": [
       "            Mileage  Price        Age\n",
       "model                                \n",
       "Comfort     90000.0  17900   6.748941\n",
       "Executive  152000.0  13800  10.414998\n",
       "F-Sport     36220.0  21900   7.496389\n",
       "Luxury     134000.0  13490  10.414998\n",
       "Other      101000.0  16800   7.833152"
      ]
     },
     "execution_count": 64,
     "metadata": {},
     "output_type": "execute_result"
    }
   ],
   "source": [
    "df.groupby('model').median()"
   ]
  },
  {
   "cell_type": "markdown",
   "id": "b71407ab",
   "metadata": {},
   "source": [
    "## 4. Выборка из того, что интересно для покупки"
   ]
  },
  {
   "cell_type": "code",
   "execution_count": 56,
   "id": "99f26664",
   "metadata": {},
   "outputs": [
    {
     "data": {
      "text/html": [
       "<div>\n",
       "<style scoped>\n",
       "    .dataframe tbody tr th:only-of-type {\n",
       "        vertical-align: middle;\n",
       "    }\n",
       "\n",
       "    .dataframe tbody tr th {\n",
       "        vertical-align: top;\n",
       "    }\n",
       "\n",
       "    .dataframe thead th {\n",
       "        text-align: right;\n",
       "    }\n",
       "</style>\n",
       "<table border=\"1\" class=\"dataframe\">\n",
       "  <thead>\n",
       "    <tr style=\"text-align: right;\">\n",
       "      <th></th>\n",
       "      <th>model_description</th>\n",
       "      <th>Year</th>\n",
       "      <th>Mileage</th>\n",
       "      <th>Price</th>\n",
       "      <th>Sold_date</th>\n",
       "      <th>Age</th>\n",
       "      <th>mileage_range</th>\n",
       "      <th>age_range</th>\n",
       "      <th>engine</th>\n",
       "      <th>model</th>\n",
       "    </tr>\n",
       "  </thead>\n",
       "  <tbody>\n",
       "    <tr>\n",
       "      <th>44</th>\n",
       "      <td>Lexus CT (1.8) 200h Hybrid A Comfort *Navigointi- ja audiopaketti*|2012|48 000|17 500 €|06-2021</td>\n",
       "      <td>2012-01-01</td>\n",
       "      <td>48000.0</td>\n",
       "      <td>17500</td>\n",
       "      <td>2021-06-01</td>\n",
       "      <td>9.415662</td>\n",
       "      <td>20000 - 49999</td>\n",
       "      <td>&gt;= 8</td>\n",
       "      <td>1.8</td>\n",
       "      <td>Comfort</td>\n",
       "    </tr>\n",
       "    <tr>\n",
       "      <th>96</th>\n",
       "      <td>Lexus CT (1.8) 200H F-SPORT, Navi, peruutuskamera, Ikkunan tummennukset, ym. 24 tkm! Rahoitus il...</td>\n",
       "      <td>2014-01-01</td>\n",
       "      <td>24000.0</td>\n",
       "      <td>21490</td>\n",
       "      <td>2021-07-01</td>\n",
       "      <td>7.496389</td>\n",
       "      <td>20000 - 49999</td>\n",
       "      <td>5 - 7</td>\n",
       "      <td>1.8</td>\n",
       "      <td>Other</td>\n",
       "    </tr>\n",
       "    <tr>\n",
       "      <th>102</th>\n",
       "      <td>Lexus CT (1.8) 200H F-Sport Black Edition, Huippuvarusteet ! Korko 0,99%|2014|24 000|21 900 €|07...</td>\n",
       "      <td>2014-01-01</td>\n",
       "      <td>24000.0</td>\n",
       "      <td>21900</td>\n",
       "      <td>2021-07-01</td>\n",
       "      <td>7.496389</td>\n",
       "      <td>20000 - 49999</td>\n",
       "      <td>5 - 7</td>\n",
       "      <td>1.8</td>\n",
       "      <td>F-Sport</td>\n",
       "    </tr>\n",
       "  </tbody>\n",
       "</table>\n",
       "</div>"
      ],
      "text/plain": [
       "                                                                                       model_description  \\\n",
       "44       Lexus CT (1.8) 200h Hybrid A Comfort *Navigointi- ja audiopaketti*|2012|48 000|17 500 €|06-2021   \n",
       "96   Lexus CT (1.8) 200H F-SPORT, Navi, peruutuskamera, Ikkunan tummennukset, ym. 24 tkm! Rahoitus il...   \n",
       "102  Lexus CT (1.8) 200H F-Sport Black Edition, Huippuvarusteet ! Korko 0,99%|2014|24 000|21 900 €|07...   \n",
       "\n",
       "          Year  Mileage  Price  Sold_date       Age  mileage_range age_range  \\\n",
       "44  2012-01-01  48000.0  17500 2021-06-01  9.415662  20000 - 49999      >= 8   \n",
       "96  2014-01-01  24000.0  21490 2021-07-01  7.496389  20000 - 49999     5 - 7   \n",
       "102 2014-01-01  24000.0  21900 2021-07-01  7.496389  20000 - 49999     5 - 7   \n",
       "\n",
       "    engine    model  \n",
       "44     1.8  Comfort  \n",
       "96     1.8    Other  \n",
       "102    1.8  F-Sport  "
      ]
     },
     "execution_count": 56,
     "metadata": {},
     "output_type": "execute_result"
    }
   ],
   "source": [
    "int = df[(df['mileage_range'] == '< 20000')|(df['mileage_range'] == '20000 - 49999')]\n",
    "int.head(3)"
   ]
  },
  {
   "cell_type": "code",
   "execution_count": 57,
   "id": "7f5c7c38",
   "metadata": {},
   "outputs": [
    {
     "data": {
      "image/png": "[encoded data removed]",
      "text/plain": [
       "<Figure size 1080x432 with 1 Axes>"
      ]
     },
     "metadata": {
      "needs_background": "light"
     },
     "output_type": "display_data"
    }
   ],
   "source": [
    "fig, ax = plt.subplots(figsize=(15,6))\n",
    "sns.boxplot( x=int[\"mileage_range\"], y=int[\"Price\"] );"
   ]
  },
  {
   "cell_type": "code",
   "execution_count": 58,
   "id": "5738e68e",
   "metadata": {},
   "outputs": [],
   "source": [
    "new = df[df['mileage_range'] == '< 20000']\n",
    "semi_new = df[df['mileage_range'] == '20000 - 49999']"
   ]
  },
  {
   "cell_type": "code",
   "execution_count": 59,
   "id": "79a83f1e",
   "metadata": {},
   "outputs": [
    {
     "name": "stdout",
     "output_type": "stream",
     "text": [
      "медианная цена Hyundai Ioniq с пробегом до 20000 км = 27895.00, возраст автомобиля = 2.497\n",
      "медианная цена Hyundai Ioniq с пробегом от 20000 км до 49999 км = 24145.00, возраст автомобиля = 3.791\n"
     ]
    }
   ],
   "source": [
    "new_price = new['Price'].median()\n",
    "new_age = new['Age'].median()\n",
    "print('медианная цена Hyundai Ioniq с пробегом до 20000 км = {:.2f}, возраст автомобиля = {:.3f}'.format(new_price,new_age))\n",
    "\n",
    "seminew_price = semi_new['Price'].median()\n",
    "seminew_age = semi_new['Age'].median()\n",
    "print('медианная цена Hyundai Ioniq с пробегом от 20000 км до 49999 км = {:.2f}, возраст автомобиля = {:.3f}'.format(seminew_price,seminew_age))"
   ]
  },
  {
   "cell_type": "code",
   "execution_count": 60,
   "id": "725db993",
   "metadata": {},
   "outputs": [
    {
     "data": {
      "image/png": "[encoded data removed]",
      "text/plain": [
       "<Figure size 1080x432 with 1 Axes>"
      ]
     },
     "metadata": {
      "needs_background": "light"
     },
     "output_type": "display_data"
    }
   ],
   "source": [
    "fig, ax = plt.subplots(figsize=(15,6))\n",
    "sns.boxplot( x=int[\"mileage_range\"], y=int[\"Age\"] );"
   ]
  },
  {
   "cell_type": "code",
   "execution_count": 61,
   "id": "51c40fc5",
   "metadata": {},
   "outputs": [],
   "source": [
    "start_range = semi_new['Price'].quantile(0.25) # 25%\n",
    "end_range = semi_new['Price'].quantile(0.5) # 50%"
   ]
  },
  {
   "cell_type": "code",
   "execution_count": 62,
   "id": "b344b708",
   "metadata": {},
   "outputs": [
    {
     "name": "stdout",
     "output_type": "stream",
     "text": [
      "выгодная цена для Hyundai Ioniq c пробегом от 20000 км до 49999 км = 22772.50 - 24145.00\n"
     ]
    }
   ],
   "source": [
    "print('выгодная цена для Hyundai Ioniq c пробегом от 20000 км до 49999 км = {:.2f} - {:.2f}'.format(start_range,end_range))"
   ]
  },
  {
   "cell_type": "markdown",
   "id": "44080583",
   "metadata": {},
   "source": [
    "### Выводы"
   ]
  },
  {
   "cell_type": "markdown",
   "id": "e5c0318c",
   "metadata": {},
   "source": [
    "- Появились на рынке финляндии в 2016-2017 году\n",
    "\n",
    "- Медианная цена комплектации гибрид = 20450.00\n",
    "\n",
    "- Медианная цена комлектации електро = 23900.00\n",
    "\n",
    "- медианная цена Hyundai Ioniq с пробегом до 20000 км = 27580.00, возраст автомобиля = 1.750\n",
    "\n",
    "- медианная цена Hyundai Ioniq с пробегом от 20000 км до 49999 км = 23795.00, возраст автомобиля = 3.496\n",
    "\n",
    "- выгодная цена для Hyundai Ioniq c пробегом от 20000 км до 49999 км = 22682.50 - 23795.00"
   ]
  },
  {
   "cell_type": "code",
   "execution_count": null,
   "id": "6b29d031",
   "metadata": {},
   "outputs": [],
   "source": []
  }
 ],
 "metadata": {
  "kernelspec": {
   "display_name": "Python 3",
   "language": "python",
   "name": "python3"
  },
  "language_info": {
   "codemirror_mode": {
    "name": "ipython",
    "version": 3
   },
   "file_extension": ".py",
   "mimetype": "text/x-python",
   "name": "python",
   "nbconvert_exporter": "python",
   "pygments_lexer": "ipython3",
   "version": "3.8.8"
  }
 },
 "nbformat": 4,
 "nbformat_minor": 5
}
