{
 "cells": [
  {
   "cell_type": "markdown",
   "id": "3a1c3429",
   "metadata": {},
   "source": [
    "# Объявления о продаже Toyota Auris (2013 - 2020 года выпуска). \n",
    "\n",
    "## Данные с сайта nettiauto.com на основе 2479 объявлений"
   ]
  },
  {
   "cell_type": "code",
   "execution_count": 1,
   "id": "c814a094",
   "metadata": {},
   "outputs": [],
   "source": [
    "import pandas as pd\n",
    "import numpy as np\n",
    "import seaborn as sns\n",
    "import matplotlib.pyplot as plt\n",
    "\n",
    "#ignore warnings\n",
    "import warnings\n",
    "warnings.filterwarnings('ignore')\n",
    "\n",
    "# library & dataset\n",
    "import seaborn as sns"
   ]
  },
  {
   "cell_type": "markdown",
   "id": "c50025e2",
   "metadata": {},
   "source": [
    "## 1. Просмотр датасета"
   ]
  },
  {
   "cell_type": "code",
   "execution_count": 2,
   "id": "c08c5464",
   "metadata": {},
   "outputs": [
    {
     "ename": "FileNotFoundError",
     "evalue": "[Errno 2] No such file or directory: 'auris_fi.csv'",
     "output_type": "error",
     "traceback": [
      "\u001b[0;31m---------------------------------------------------------------------------\u001b[0m",
      "\u001b[0;31mFileNotFoundError\u001b[0m                         Traceback (most recent call last)",
      "\u001b[0;32m<ipython-input-2-af6a4f9553b6>\u001b[0m in \u001b[0;36m<module>\u001b[0;34m\u001b[0m\n\u001b[0;32m----> 1\u001b[0;31m \u001b[0mdf\u001b[0m \u001b[0;34m=\u001b[0m \u001b[0mpd\u001b[0m\u001b[0;34m.\u001b[0m\u001b[0mread_csv\u001b[0m\u001b[0;34m(\u001b[0m\u001b[0;34m'auris_fi.csv'\u001b[0m\u001b[0;34m)\u001b[0m\u001b[0;34m\u001b[0m\u001b[0;34m\u001b[0m\u001b[0m\n\u001b[0m",
      "\u001b[0;32m/opt/anaconda3/lib/python3.8/site-packages/pandas/io/parsers.py\u001b[0m in \u001b[0;36mread_csv\u001b[0;34m(filepath_or_buffer, sep, delimiter, header, names, index_col, usecols, squeeze, prefix, mangle_dupe_cols, dtype, engine, converters, true_values, false_values, skipinitialspace, skiprows, skipfooter, nrows, na_values, keep_default_na, na_filter, verbose, skip_blank_lines, parse_dates, infer_datetime_format, keep_date_col, date_parser, dayfirst, cache_dates, iterator, chunksize, compression, thousands, decimal, lineterminator, quotechar, quoting, doublequote, escapechar, comment, encoding, dialect, error_bad_lines, warn_bad_lines, delim_whitespace, low_memory, memory_map, float_precision, storage_options)\u001b[0m\n\u001b[1;32m    608\u001b[0m     \u001b[0mkwds\u001b[0m\u001b[0;34m.\u001b[0m\u001b[0mupdate\u001b[0m\u001b[0;34m(\u001b[0m\u001b[0mkwds_defaults\u001b[0m\u001b[0;34m)\u001b[0m\u001b[0;34m\u001b[0m\u001b[0;34m\u001b[0m\u001b[0m\n\u001b[1;32m    609\u001b[0m \u001b[0;34m\u001b[0m\u001b[0m\n\u001b[0;32m--> 610\u001b[0;31m     \u001b[0;32mreturn\u001b[0m \u001b[0m_read\u001b[0m\u001b[0;34m(\u001b[0m\u001b[0mfilepath_or_buffer\u001b[0m\u001b[0;34m,\u001b[0m \u001b[0mkwds\u001b[0m\u001b[0;34m)\u001b[0m\u001b[0;34m\u001b[0m\u001b[0;34m\u001b[0m\u001b[0m\n\u001b[0m\u001b[1;32m    611\u001b[0m \u001b[0;34m\u001b[0m\u001b[0m\n\u001b[1;32m    612\u001b[0m \u001b[0;34m\u001b[0m\u001b[0m\n",
      "\u001b[0;32m/opt/anaconda3/lib/python3.8/site-packages/pandas/io/parsers.py\u001b[0m in \u001b[0;36m_read\u001b[0;34m(filepath_or_buffer, kwds)\u001b[0m\n\u001b[1;32m    460\u001b[0m \u001b[0;34m\u001b[0m\u001b[0m\n\u001b[1;32m    461\u001b[0m     \u001b[0;31m# Create the parser.\u001b[0m\u001b[0;34m\u001b[0m\u001b[0;34m\u001b[0m\u001b[0;34m\u001b[0m\u001b[0m\n\u001b[0;32m--> 462\u001b[0;31m     \u001b[0mparser\u001b[0m \u001b[0;34m=\u001b[0m \u001b[0mTextFileReader\u001b[0m\u001b[0;34m(\u001b[0m\u001b[0mfilepath_or_buffer\u001b[0m\u001b[0;34m,\u001b[0m \u001b[0;34m**\u001b[0m\u001b[0mkwds\u001b[0m\u001b[0;34m)\u001b[0m\u001b[0;34m\u001b[0m\u001b[0;34m\u001b[0m\u001b[0m\n\u001b[0m\u001b[1;32m    463\u001b[0m \u001b[0;34m\u001b[0m\u001b[0m\n\u001b[1;32m    464\u001b[0m     \u001b[0;32mif\u001b[0m \u001b[0mchunksize\u001b[0m \u001b[0;32mor\u001b[0m \u001b[0miterator\u001b[0m\u001b[0;34m:\u001b[0m\u001b[0;34m\u001b[0m\u001b[0;34m\u001b[0m\u001b[0m\n",
      "\u001b[0;32m/opt/anaconda3/lib/python3.8/site-packages/pandas/io/parsers.py\u001b[0m in \u001b[0;36m__init__\u001b[0;34m(self, f, engine, **kwds)\u001b[0m\n\u001b[1;32m    817\u001b[0m             \u001b[0mself\u001b[0m\u001b[0;34m.\u001b[0m\u001b[0moptions\u001b[0m\u001b[0;34m[\u001b[0m\u001b[0;34m\"has_index_names\"\u001b[0m\u001b[0;34m]\u001b[0m \u001b[0;34m=\u001b[0m \u001b[0mkwds\u001b[0m\u001b[0;34m[\u001b[0m\u001b[0;34m\"has_index_names\"\u001b[0m\u001b[0;34m]\u001b[0m\u001b[0;34m\u001b[0m\u001b[0;34m\u001b[0m\u001b[0m\n\u001b[1;32m    818\u001b[0m \u001b[0;34m\u001b[0m\u001b[0m\n\u001b[0;32m--> 819\u001b[0;31m         \u001b[0mself\u001b[0m\u001b[0;34m.\u001b[0m\u001b[0m_engine\u001b[0m \u001b[0;34m=\u001b[0m \u001b[0mself\u001b[0m\u001b[0;34m.\u001b[0m\u001b[0m_make_engine\u001b[0m\u001b[0;34m(\u001b[0m\u001b[0mself\u001b[0m\u001b[0;34m.\u001b[0m\u001b[0mengine\u001b[0m\u001b[0;34m)\u001b[0m\u001b[0;34m\u001b[0m\u001b[0;34m\u001b[0m\u001b[0m\n\u001b[0m\u001b[1;32m    820\u001b[0m \u001b[0;34m\u001b[0m\u001b[0m\n\u001b[1;32m    821\u001b[0m     \u001b[0;32mdef\u001b[0m \u001b[0mclose\u001b[0m\u001b[0;34m(\u001b[0m\u001b[0mself\u001b[0m\u001b[0;34m)\u001b[0m\u001b[0;34m:\u001b[0m\u001b[0;34m\u001b[0m\u001b[0;34m\u001b[0m\u001b[0m\n",
      "\u001b[0;32m/opt/anaconda3/lib/python3.8/site-packages/pandas/io/parsers.py\u001b[0m in \u001b[0;36m_make_engine\u001b[0;34m(self, engine)\u001b[0m\n\u001b[1;32m   1048\u001b[0m             )\n\u001b[1;32m   1049\u001b[0m         \u001b[0;31m# error: Too many arguments for \"ParserBase\"\u001b[0m\u001b[0;34m\u001b[0m\u001b[0;34m\u001b[0m\u001b[0;34m\u001b[0m\u001b[0m\n\u001b[0;32m-> 1050\u001b[0;31m         \u001b[0;32mreturn\u001b[0m \u001b[0mmapping\u001b[0m\u001b[0;34m[\u001b[0m\u001b[0mengine\u001b[0m\u001b[0;34m]\u001b[0m\u001b[0;34m(\u001b[0m\u001b[0mself\u001b[0m\u001b[0;34m.\u001b[0m\u001b[0mf\u001b[0m\u001b[0;34m,\u001b[0m \u001b[0;34m**\u001b[0m\u001b[0mself\u001b[0m\u001b[0;34m.\u001b[0m\u001b[0moptions\u001b[0m\u001b[0;34m)\u001b[0m  \u001b[0;31m# type: ignore[call-arg]\u001b[0m\u001b[0;34m\u001b[0m\u001b[0;34m\u001b[0m\u001b[0m\n\u001b[0m\u001b[1;32m   1051\u001b[0m \u001b[0;34m\u001b[0m\u001b[0m\n\u001b[1;32m   1052\u001b[0m     \u001b[0;32mdef\u001b[0m \u001b[0m_failover_to_python\u001b[0m\u001b[0;34m(\u001b[0m\u001b[0mself\u001b[0m\u001b[0;34m)\u001b[0m\u001b[0;34m:\u001b[0m\u001b[0;34m\u001b[0m\u001b[0;34m\u001b[0m\u001b[0m\n",
      "\u001b[0;32m/opt/anaconda3/lib/python3.8/site-packages/pandas/io/parsers.py\u001b[0m in \u001b[0;36m__init__\u001b[0;34m(self, src, **kwds)\u001b[0m\n\u001b[1;32m   1865\u001b[0m \u001b[0;34m\u001b[0m\u001b[0m\n\u001b[1;32m   1866\u001b[0m         \u001b[0;31m# open handles\u001b[0m\u001b[0;34m\u001b[0m\u001b[0;34m\u001b[0m\u001b[0;34m\u001b[0m\u001b[0m\n\u001b[0;32m-> 1867\u001b[0;31m         \u001b[0mself\u001b[0m\u001b[0;34m.\u001b[0m\u001b[0m_open_handles\u001b[0m\u001b[0;34m(\u001b[0m\u001b[0msrc\u001b[0m\u001b[0;34m,\u001b[0m \u001b[0mkwds\u001b[0m\u001b[0;34m)\u001b[0m\u001b[0;34m\u001b[0m\u001b[0;34m\u001b[0m\u001b[0m\n\u001b[0m\u001b[1;32m   1868\u001b[0m         \u001b[0;32massert\u001b[0m \u001b[0mself\u001b[0m\u001b[0;34m.\u001b[0m\u001b[0mhandles\u001b[0m \u001b[0;32mis\u001b[0m \u001b[0;32mnot\u001b[0m \u001b[0;32mNone\u001b[0m\u001b[0;34m\u001b[0m\u001b[0;34m\u001b[0m\u001b[0m\n\u001b[1;32m   1869\u001b[0m         \u001b[0;32mfor\u001b[0m \u001b[0mkey\u001b[0m \u001b[0;32min\u001b[0m \u001b[0;34m(\u001b[0m\u001b[0;34m\"storage_options\"\u001b[0m\u001b[0;34m,\u001b[0m \u001b[0;34m\"encoding\"\u001b[0m\u001b[0;34m,\u001b[0m \u001b[0;34m\"memory_map\"\u001b[0m\u001b[0;34m,\u001b[0m \u001b[0;34m\"compression\"\u001b[0m\u001b[0;34m)\u001b[0m\u001b[0;34m:\u001b[0m\u001b[0;34m\u001b[0m\u001b[0;34m\u001b[0m\u001b[0m\n",
      "\u001b[0;32m/opt/anaconda3/lib/python3.8/site-packages/pandas/io/parsers.py\u001b[0m in \u001b[0;36m_open_handles\u001b[0;34m(self, src, kwds)\u001b[0m\n\u001b[1;32m   1360\u001b[0m         \u001b[0mLet\u001b[0m \u001b[0mthe\u001b[0m \u001b[0mreaders\u001b[0m \u001b[0mopen\u001b[0m \u001b[0mIOHanldes\u001b[0m \u001b[0mafter\u001b[0m \u001b[0mthey\u001b[0m \u001b[0mare\u001b[0m \u001b[0mdone\u001b[0m \u001b[0;32mwith\u001b[0m \u001b[0mtheir\u001b[0m \u001b[0mpotential\u001b[0m \u001b[0mraises\u001b[0m\u001b[0;34m.\u001b[0m\u001b[0;34m\u001b[0m\u001b[0;34m\u001b[0m\u001b[0m\n\u001b[1;32m   1361\u001b[0m         \"\"\"\n\u001b[0;32m-> 1362\u001b[0;31m         self.handles = get_handle(\n\u001b[0m\u001b[1;32m   1363\u001b[0m             \u001b[0msrc\u001b[0m\u001b[0;34m,\u001b[0m\u001b[0;34m\u001b[0m\u001b[0;34m\u001b[0m\u001b[0m\n\u001b[1;32m   1364\u001b[0m             \u001b[0;34m\"r\"\u001b[0m\u001b[0;34m,\u001b[0m\u001b[0;34m\u001b[0m\u001b[0;34m\u001b[0m\u001b[0m\n",
      "\u001b[0;32m/opt/anaconda3/lib/python3.8/site-packages/pandas/io/common.py\u001b[0m in \u001b[0;36mget_handle\u001b[0;34m(path_or_buf, mode, encoding, compression, memory_map, is_text, errors, storage_options)\u001b[0m\n\u001b[1;32m    640\u001b[0m                 \u001b[0merrors\u001b[0m \u001b[0;34m=\u001b[0m \u001b[0;34m\"replace\"\u001b[0m\u001b[0;34m\u001b[0m\u001b[0;34m\u001b[0m\u001b[0m\n\u001b[1;32m    641\u001b[0m             \u001b[0;31m# Encoding\u001b[0m\u001b[0;34m\u001b[0m\u001b[0;34m\u001b[0m\u001b[0;34m\u001b[0m\u001b[0m\n\u001b[0;32m--> 642\u001b[0;31m             handle = open(\n\u001b[0m\u001b[1;32m    643\u001b[0m                 \u001b[0mhandle\u001b[0m\u001b[0;34m,\u001b[0m\u001b[0;34m\u001b[0m\u001b[0;34m\u001b[0m\u001b[0m\n\u001b[1;32m    644\u001b[0m                 \u001b[0mioargs\u001b[0m\u001b[0;34m.\u001b[0m\u001b[0mmode\u001b[0m\u001b[0;34m,\u001b[0m\u001b[0;34m\u001b[0m\u001b[0;34m\u001b[0m\u001b[0m\n",
      "\u001b[0;31mFileNotFoundError\u001b[0m: [Errno 2] No such file or directory: 'auris_fi.csv'"
     ]
    }
   ],
   "source": [
    "df = pd.read_csv('auris_fi.csv')"
   ]
  },
  {
   "cell_type": "code",
   "execution_count": null,
   "id": "a466a789",
   "metadata": {},
   "outputs": [],
   "source": [
    "df.head(3)"
   ]
  },
  {
   "cell_type": "code",
   "execution_count": null,
   "id": "d3535e65",
   "metadata": {},
   "outputs": [],
   "source": [
    "df.info()"
   ]
  },
  {
   "cell_type": "markdown",
   "id": "a522caab",
   "metadata": {},
   "source": [
    "## 2. Чистка датасета"
   ]
  },
  {
   "cell_type": "code",
   "execution_count": null,
   "id": "3bfdcd02",
   "metadata": {},
   "outputs": [],
   "source": [
    "# переименуем столбцы\n",
    "df = df.rename(columns = {'Sold date': 'Sold_date'})\n",
    "df = df.rename(columns = {'Make & model|Year|Mileage|Price|Sold date': 'model_description'})\n",
    "\n",
    "# удалим пробелы\n",
    "df['Mileage'] = df['Mileage'].str.replace(\" \", \"\")\n",
    "df['Price'] = df['Price'].str.replace(\" \", \"\")"
   ]
  },
  {
   "cell_type": "code",
   "execution_count": null,
   "id": "163ae572",
   "metadata": {},
   "outputs": [],
   "source": [
    "# удалим лишнее Vuosi\n",
    "df = df.drop(df.query('Year == \"Vuosi\"').index.values.tolist())\n",
    "\n",
    "# удалим данные где дата продажи 0\n",
    "drop_nulls = df.query('Sold_date == \"00-0000\"').index.values.tolist()\n",
    "df = df.drop(drop_nulls)"
   ]
  },
  {
   "cell_type": "code",
   "execution_count": null,
   "id": "5d519780",
   "metadata": {},
   "outputs": [],
   "source": [
    "# приведем к формату времени\n",
    "df['Year'] = pd.to_datetime(df['Year'], format='%Y')\n",
    "# приведем к формату времени\n",
    "df['Sold_date'] = pd.to_datetime(df['Sold_date'], format='%m-%Y')"
   ]
  },
  {
   "cell_type": "code",
   "execution_count": null,
   "id": "389a7437",
   "metadata": {},
   "outputs": [],
   "source": [
    "# удалим данные где мили Eiilmoitettu\n",
    "drop_next = df[df['Mileage'] == 'Eiilmoitettu'].index.values.tolist()\n",
    "for i in drop_next:\n",
    "    df = df.drop(index = i)"
   ]
  },
  {
   "cell_type": "code",
   "execution_count": null,
   "id": "738ea0ba",
   "metadata": {},
   "outputs": [],
   "source": [
    "# удалим данные где мили Eihin\n",
    "drop_a = df[df['Price'] == 'Eihin'].index.values.tolist()\n",
    "drop_a"
   ]
  },
  {
   "cell_type": "code",
   "execution_count": null,
   "id": "d7a8c081",
   "metadata": {},
   "outputs": [],
   "source": [
    "df = df.drop(index = 1977)\n",
    "df = df.drop(index = 2076)"
   ]
  },
  {
   "cell_type": "code",
   "execution_count": null,
   "id": "de7608ec",
   "metadata": {},
   "outputs": [],
   "source": [
    "# мили целочисленные значения\n",
    "df['Mileage'] = df['Mileage'].astype('float64') "
   ]
  },
  {
   "cell_type": "code",
   "execution_count": null,
   "id": "cb629370",
   "metadata": {},
   "outputs": [],
   "source": [
    "# цена 5 знаков\n",
    "df['Price'] = df['Price'].str[:5]\n",
    "# удалим пробелы\n",
    "df['Price'] = df['Price'].str.replace(\"€\", \"\")\n",
    "# сделаем цену целочисленным значением\n",
    "df['Price'] = df['Price'].astype(int) "
   ]
  },
  {
   "cell_type": "code",
   "execution_count": null,
   "id": "7bc41ca7",
   "metadata": {},
   "outputs": [],
   "source": [
    "df.info()"
   ]
  },
  {
   "cell_type": "code",
   "execution_count": null,
   "id": "cf9e9b48",
   "metadata": {},
   "outputs": [],
   "source": [
    "df.head(3)"
   ]
  },
  {
   "cell_type": "code",
   "execution_count": null,
   "id": "1d6ffd99",
   "metadata": {},
   "outputs": [],
   "source": [
    "df.info()"
   ]
  },
  {
   "cell_type": "code",
   "execution_count": null,
   "id": "6a385c92",
   "metadata": {},
   "outputs": [],
   "source": [
    "df['Age'] = (df['Sold_date'] - df['Year']) / np.timedelta64(1, 'Y')\n",
    "df.head(3)"
   ]
  },
  {
   "cell_type": "code",
   "execution_count": null,
   "id": "43478469",
   "metadata": {},
   "outputs": [],
   "source": [
    "df.describe()"
   ]
  },
  {
   "cell_type": "code",
   "execution_count": null,
   "id": "5aa0885d",
   "metadata": {},
   "outputs": [],
   "source": [
    "# дропнем аномалию\n",
    "max = df['Mileage'].max()\n",
    "drop_max = df.query('Mileage == 1310000').index.values.tolist()\n",
    "df = df.drop(drop_max)\n",
    "df.head(3)"
   ]
  },
  {
   "cell_type": "code",
   "execution_count": null,
   "id": "845217cb",
   "metadata": {},
   "outputs": [],
   "source": [
    "# сделаем градацию по пробегу \n",
    "\n",
    "def mileage(col):\n",
    "    if col < 20000:\n",
    "        return \"< 20000\"\n",
    "    elif 20000 <= col < 50000 :\n",
    "        return \"20000 - 49999\"\n",
    "    elif 50000 <= col < 79999 :\n",
    "        return \"50000 - 79999\"\n",
    "    elif 80000 <= col < 100000 :\n",
    "        return \"80000 - 99999\"\n",
    "    else:\n",
    "        return \">= 100000\"\n",
    "\n",
    "# произведем замену значений в DF\n",
    "df['mileage_range'] = df['Mileage'].apply(mileage)"
   ]
  },
  {
   "cell_type": "code",
   "execution_count": null,
   "id": "b35ae350",
   "metadata": {},
   "outputs": [],
   "source": [
    "# сделаем градацию по пробегу \n",
    "\n",
    "def ages_range(col):\n",
    "    if col < 3:\n",
    "        return \"< 3\"\n",
    "    elif 3 <= col < 5 :\n",
    "        return \"3 - 4\"\n",
    "    elif 5 <= col < 8 :\n",
    "        return \"5 - 7\"\n",
    "    else:\n",
    "        return \">= 8\"\n",
    "\n",
    "# произведем замену значений в DF\n",
    "df['age_range'] = df['Age'].apply(ages_range)"
   ]
  },
  {
   "cell_type": "markdown",
   "id": "62965aa7",
   "metadata": {},
   "source": [
    "## 3. Графики "
   ]
  },
  {
   "cell_type": "code",
   "execution_count": null,
   "id": "a22b7fe4",
   "metadata": {},
   "outputs": [],
   "source": [
    "# Use the 'hue' argument to provide a factor variable\n",
    "sns.lmplot( x=\"Mileage\", \n",
    "           y=\"Price\", \n",
    "           data=df, \n",
    "           fit_reg=False, \n",
    "           hue='mileage_range', \n",
    "           legend=True, \n",
    "           height=6, \n",
    "           aspect=11.7/8.27);\n",
    "ax = plt.gca();\n",
    "ax.set_title(\"Распределение Цена - Пробег. Градация цветов по пробегу.\");"
   ]
  },
  {
   "cell_type": "code",
   "execution_count": null,
   "id": "503e8195",
   "metadata": {},
   "outputs": [],
   "source": [
    "fig, ax = plt.subplots(figsize=(15,6))\n",
    "sns.distplot( df['Mileage'], \n",
    "             hist=True, \n",
    "             kde=False, \n",
    "             rug=False, \n",
    "             color=\"red\" ).set_title('Количество проданных автомобилей и их пробег');\n",
    "plt.xlabel(\"Mileage\");"
   ]
  },
  {
   "cell_type": "code",
   "execution_count": null,
   "id": "d6166f83",
   "metadata": {},
   "outputs": [],
   "source": [
    "fig, ax = plt.subplots(figsize=(15,6))\n",
    "ax.set_title(\"Распределение Год - Цена\");\n",
    "# use the function regplot to make a scatterplot\n",
    "sns.regplot(x=df[\"Age\"], y=df[\"Price\"]);"
   ]
  },
  {
   "cell_type": "markdown",
   "id": "b71407ab",
   "metadata": {},
   "source": [
    "## 4. Выборка из того, что интересно для покупки"
   ]
  },
  {
   "cell_type": "code",
   "execution_count": null,
   "id": "99f26664",
   "metadata": {},
   "outputs": [],
   "source": [
    "int = df[(df['mileage_range'] == '< 20000')|(df['mileage_range'] == '20001 - 50000')]\n",
    "int.head(3)"
   ]
  },
  {
   "cell_type": "code",
   "execution_count": null,
   "id": "7f5c7c38",
   "metadata": {},
   "outputs": [],
   "source": [
    "fig, ax = plt.subplots(figsize=(15,6))\n",
    "sns.boxplot( x=int[\"mileage_range\"], y=int[\"Price\"] );"
   ]
  },
  {
   "cell_type": "code",
   "execution_count": null,
   "id": "5738e68e",
   "metadata": {},
   "outputs": [],
   "source": [
    "new = df[df['mileage_range'] == '< 20000']\n",
    "semi_new = df[df['mileage_range'] == '20001 - 50000']"
   ]
  },
  {
   "cell_type": "code",
   "execution_count": null,
   "id": "79a83f1e",
   "metadata": {},
   "outputs": [],
   "source": [
    "new_price = new['Price'].median()\n",
    "new_age = new['Age'].median()\n",
    "print('медианная цена Auris с пробегом до 20 000 км = {:.2f}, возраст автомобиля = {:.3f}'.format(new_price,new_age))"
   ]
  },
  {
   "cell_type": "code",
   "execution_count": null,
   "id": "34db389c",
   "metadata": {},
   "outputs": [],
   "source": [
    "seminew_price = semi_new['Price'].median()\n",
    "seminew_age = semi_new['Age'].median()\n",
    "print('медианная цена Auris с пробегом от 20 001 км до 50000 км = {:.2f}, возраст автомобиля = {:.3f}'.format(seminew_price,seminew_age))"
   ]
  },
  {
   "cell_type": "code",
   "execution_count": null,
   "id": "725db993",
   "metadata": {},
   "outputs": [],
   "source": [
    "fig, ax = plt.subplots(figsize=(15,6))\n",
    "sns.boxplot( x=int[\"mileage_range\"], y=int[\"Age\"] );"
   ]
  },
  {
   "cell_type": "code",
   "execution_count": null,
   "id": "51c40fc5",
   "metadata": {},
   "outputs": [],
   "source": [
    "start_range = semi_new['Price'].quantile(0.25) # 25%\n",
    "end_range = semi_new['Price'].quantile(0.5) # 50%"
   ]
  },
  {
   "cell_type": "code",
   "execution_count": null,
   "id": "b344b708",
   "metadata": {},
   "outputs": [],
   "source": [
    "print('выгодная цена для toyota auris c пробегом от 20001 км до 50000 км = {:.2f} - {:.32}'.format(start_range,end_range))"
   ]
  },
  {
   "cell_type": "markdown",
   "id": "44080583",
   "metadata": {},
   "source": [
    "### Выводы"
   ]
  },
  {
   "cell_type": "markdown",
   "id": "e5c0318c",
   "metadata": {},
   "source": [
    "- медианная цена Auris с пробегом до 20 000 км = 22450.00, возраст автомобиля = 3.581\n",
    "\n",
    "- медианная цена Auris с пробегом от 20 001 км до 50000 км = 20990.00, возраст автомобиля = 3.581\n",
    "\n",
    "- выгодная цена для Toyota Auris c пробегом [от 0 км до 50000 км] = 18900.00 - 20990.0. Вероятнее всего возраст автомобиля будет 3.5 года."
   ]
  },
  {
   "cell_type": "code",
   "execution_count": null,
   "id": "6b29d031",
   "metadata": {},
   "outputs": [],
   "source": []
  }
 ],
 "metadata": {
  "kernelspec": {
   "display_name": "Python 3",
   "language": "python",
   "name": "python3"
  },
  "language_info": {
   "codemirror_mode": {
    "name": "ipython",
    "version": 3
   },
   "file_extension": ".py",
   "mimetype": "text/x-python",
   "name": "python",
   "nbconvert_exporter": "python",
   "pygments_lexer": "ipython3",
   "version": "3.8.8"
  }
 },
 "nbformat": 4,
 "nbformat_minor": 5
}
