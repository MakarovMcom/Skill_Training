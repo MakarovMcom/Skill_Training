{
 "cells": [
  {
   "cell_type": "markdown",
   "id": "3a1c3429",
   "metadata": {},
   "source": [
    "# Объявления о продаже Hyundai Ioniq (2016 - 2021 года выпуска). \n",
    "\n",
    "## Данные с сайта nettiauto.com на основе 601 объявления"
   ]
  },
  {
   "cell_type": "code",
   "execution_count": 1,
   "id": "c814a094",
   "metadata": {},
   "outputs": [],
   "source": [
    "import re\n",
    "import pandas as pd\n",
    "import numpy as np\n",
    "import seaborn as sns\n",
    "import matplotlib.pyplot as plt\n",
    "\n",
    "#ignore warnings\n",
    "import warnings\n",
    "warnings.filterwarnings('ignore')\n",
    "\n",
    "#set options\n",
    "pd.set_option(\"max_colwidth\", 100)\n",
    "\n",
    "# library & dataset\n",
    "import seaborn as sns"
   ]
  },
  {
   "cell_type": "markdown",
   "id": "c50025e2",
   "metadata": {},
   "source": [
    "## 1. Просмотр датасета"
   ]
  },
  {
   "cell_type": "code",
   "execution_count": 2,
   "id": "bd55d246",
   "metadata": {},
   "outputs": [],
   "source": [
    "#df1 = pd.read_csv('1.csv')\n",
    "df = pd.read_csv('2.csv')"
   ]
  },
  {
   "cell_type": "code",
   "execution_count": 3,
   "id": "5a57b649",
   "metadata": {},
   "outputs": [
    {
     "name": "stdout",
     "output_type": "stream",
     "text": [
      "<class 'pandas.core.frame.DataFrame'>\n",
      "RangeIndex: 1341 entries, 0 to 1340\n",
      "Data columns (total 5 columns):\n",
      " #   Column  Non-Null Count  Dtype \n",
      "---  ------  --------------  ----- \n",
      " 0   Merkki  1341 non-null   object\n",
      " 1   Vuosi   1341 non-null   object\n",
      " 2   Ajettu  1341 non-null   object\n",
      " 3   Hinta   1341 non-null   object\n",
      " 4   Date    1341 non-null   object\n",
      "dtypes: object(5)\n",
      "memory usage: 52.5+ KB\n"
     ]
    }
   ],
   "source": [
    "df.info()"
   ]
  },
  {
   "cell_type": "code",
   "execution_count": 4,
   "id": "0d2de6f1",
   "metadata": {},
   "outputs": [
    {
     "name": "stdout",
     "output_type": "stream",
     "text": [
      "<class 'pandas.core.frame.DataFrame'>\n",
      "RangeIndex: 1341 entries, 0 to 1340\n",
      "Data columns (total 5 columns):\n",
      " #   Column  Non-Null Count  Dtype \n",
      "---  ------  --------------  ----- \n",
      " 0   Merkki  1341 non-null   object\n",
      " 1   Vuosi   1341 non-null   object\n",
      " 2   Ajettu  1341 non-null   object\n",
      " 3   Hinta   1341 non-null   object\n",
      " 4   Date    1341 non-null   object\n",
      "dtypes: object(5)\n",
      "memory usage: 52.5+ KB\n"
     ]
    }
   ],
   "source": [
    "df.info()"
   ]
  },
  {
   "cell_type": "code",
   "execution_count": 5,
   "id": "c08c5464",
   "metadata": {},
   "outputs": [],
   "source": [
    "#df = pd.concat([df1, df2])"
   ]
  },
  {
   "cell_type": "code",
   "execution_count": 6,
   "id": "a466a789",
   "metadata": {},
   "outputs": [
    {
     "data": {
      "text/html": [
       "<div>\n",
       "<style scoped>\n",
       "    .dataframe tbody tr th:only-of-type {\n",
       "        vertical-align: middle;\n",
       "    }\n",
       "\n",
       "    .dataframe tbody tr th {\n",
       "        vertical-align: top;\n",
       "    }\n",
       "\n",
       "    .dataframe thead th {\n",
       "        text-align: right;\n",
       "    }\n",
       "</style>\n",
       "<table border=\"1\" class=\"dataframe\">\n",
       "  <thead>\n",
       "    <tr style=\"text-align: right;\">\n",
       "      <th></th>\n",
       "      <th>Merkki</th>\n",
       "      <th>Vuosi</th>\n",
       "      <th>Ajettu</th>\n",
       "      <th>Hinta</th>\n",
       "      <th>Date</th>\n",
       "    </tr>\n",
       "  </thead>\n",
       "  <tbody>\n",
       "    <tr>\n",
       "      <th>0</th>\n",
       "      <td>Toyota Corolla (2) Touring Sports 2,0 Hybrid Style - **Korkotarjous 1,59%+kulut**Toimitusmahdoll...</td>\n",
       "      <td>2019</td>\n",
       "      <td>32 971</td>\n",
       "      <td>31 990 €</td>\n",
       "      <td>09-2021</td>\n",
       "    </tr>\n",
       "    <tr>\n",
       "      <th>1</th>\n",
       "      <td>Toyota Corolla (2) Touring Sports 2,0 Hybrid Style/1-om/ Tehdastakuu/ Huippusiisti/|2019|26 000|...</td>\n",
       "      <td>2019</td>\n",
       "      <td>26 000</td>\n",
       "      <td>31 800 €</td>\n",
       "      <td>10-2021</td>\n",
       "    </tr>\n",
       "    <tr>\n",
       "      <th>2</th>\n",
       "      <td>Toyota Corolla (2) Toyota COROLLA Touring Sports 2,0 Hybrid Active + Plus paketti|2019|65 000|26...</td>\n",
       "      <td>2019</td>\n",
       "      <td>65 000</td>\n",
       "      <td>26 990 €</td>\n",
       "      <td>09-2021</td>\n",
       "    </tr>\n",
       "  </tbody>\n",
       "</table>\n",
       "</div>"
      ],
      "text/plain": [
       "                                                                                                Merkki  \\\n",
       "0  Toyota Corolla (2) Touring Sports 2,0 Hybrid Style - **Korkotarjous 1,59%+kulut**Toimitusmahdoll...   \n",
       "1  Toyota Corolla (2) Touring Sports 2,0 Hybrid Style/1-om/ Tehdastakuu/ Huippusiisti/|2019|26 000|...   \n",
       "2  Toyota Corolla (2) Toyota COROLLA Touring Sports 2,0 Hybrid Active + Plus paketti|2019|65 000|26...   \n",
       "\n",
       "  Vuosi  Ajettu     Hinta     Date  \n",
       "0  2019  32 971  31 990 €  09-2021  \n",
       "1  2019  26 000  31 800 €  10-2021  \n",
       "2  2019  65 000  26 990 €  09-2021  "
      ]
     },
     "execution_count": 6,
     "metadata": {},
     "output_type": "execute_result"
    }
   ],
   "source": [
    "df.head(3)"
   ]
  },
  {
   "cell_type": "code",
   "execution_count": 7,
   "id": "d3535e65",
   "metadata": {},
   "outputs": [
    {
     "name": "stdout",
     "output_type": "stream",
     "text": [
      "<class 'pandas.core.frame.DataFrame'>\n",
      "RangeIndex: 1341 entries, 0 to 1340\n",
      "Data columns (total 5 columns):\n",
      " #   Column  Non-Null Count  Dtype \n",
      "---  ------  --------------  ----- \n",
      " 0   Merkki  1341 non-null   object\n",
      " 1   Vuosi   1341 non-null   object\n",
      " 2   Ajettu  1341 non-null   object\n",
      " 3   Hinta   1341 non-null   object\n",
      " 4   Date    1341 non-null   object\n",
      "dtypes: object(5)\n",
      "memory usage: 52.5+ KB\n"
     ]
    }
   ],
   "source": [
    "df.info()"
   ]
  },
  {
   "cell_type": "markdown",
   "id": "a522caab",
   "metadata": {},
   "source": [
    "## 2. Чистка датасета"
   ]
  },
  {
   "cell_type": "code",
   "execution_count": 8,
   "id": "3bfdcd02",
   "metadata": {},
   "outputs": [],
   "source": [
    "# переименуем столбцы\n",
    "df = df.rename(columns = {'Merkki': 'model_description',\n",
    "                         'Vuosi': 'Year',\n",
    "                         'Ajettu': 'Mileage',\n",
    "                         'Hinta': 'Price',\n",
    "                         'Date': 'Sold_date'})"
   ]
  },
  {
   "cell_type": "code",
   "execution_count": 9,
   "id": "68b6a083",
   "metadata": {},
   "outputs": [],
   "source": [
    "# удалим пробелы\n",
    "df['Mileage'] = df['Mileage'].str.replace(\" \", \"\")\n",
    "df['Price'] = df['Price'].str.replace(\" \", \"\")"
   ]
  },
  {
   "cell_type": "code",
   "execution_count": 10,
   "id": "70e41645",
   "metadata": {},
   "outputs": [
    {
     "data": {
      "text/html": [
       "<div>\n",
       "<style scoped>\n",
       "    .dataframe tbody tr th:only-of-type {\n",
       "        vertical-align: middle;\n",
       "    }\n",
       "\n",
       "    .dataframe tbody tr th {\n",
       "        vertical-align: top;\n",
       "    }\n",
       "\n",
       "    .dataframe thead th {\n",
       "        text-align: right;\n",
       "    }\n",
       "</style>\n",
       "<table border=\"1\" class=\"dataframe\">\n",
       "  <thead>\n",
       "    <tr style=\"text-align: right;\">\n",
       "      <th></th>\n",
       "      <th>model_description</th>\n",
       "      <th>Year</th>\n",
       "      <th>Mileage</th>\n",
       "      <th>Price</th>\n",
       "      <th>Sold_date</th>\n",
       "    </tr>\n",
       "  </thead>\n",
       "  <tbody>\n",
       "    <tr>\n",
       "      <th>1336</th>\n",
       "      <td>Hyundai Ioniq Electric (0) Premium / Adapt.Vakkari / Kamera / BLIS / Keyless / Ilmalämpöpumppu /...</td>\n",
       "      <td>2017</td>\n",
       "      <td>55000</td>\n",
       "      <td>23370€(incl.VAT)</td>\n",
       "      <td>11-2021</td>\n",
       "    </tr>\n",
       "    <tr>\n",
       "      <th>1337</th>\n",
       "      <td>Hyundai Ioniq Electric (0) Comfort, WLTP 200km, Navigointi, Kamera|2017|44 000|21 490 €(incl. VA...</td>\n",
       "      <td>2017</td>\n",
       "      <td>44000</td>\n",
       "      <td>21490€(incl.VAT)</td>\n",
       "      <td>11-2021</td>\n",
       "    </tr>\n",
       "    <tr>\n",
       "      <th>1338</th>\n",
       "      <td>Hyundai Ioniq Electric (0) Comfort Business *Juuri huollettu täyssähköauto*|2017|66 000|21 900 €...</td>\n",
       "      <td>2017</td>\n",
       "      <td>66000</td>\n",
       "      <td>21900€</td>\n",
       "      <td>11-2021</td>\n",
       "    </tr>\n",
       "    <tr>\n",
       "      <th>1339</th>\n",
       "      <td>Make &amp; model|Year|Mileage|Price|Sold date</td>\n",
       "      <td>Year</td>\n",
       "      <td>Mileage</td>\n",
       "      <td>Price</td>\n",
       "      <td>Sold date</td>\n",
       "    </tr>\n",
       "    <tr>\n",
       "      <th>1340</th>\n",
       "      <td>Hyundai Ioniq Electric (0) Comfort - Korko 1,99% ja 2000€ S-bonus ostokirjaus!|2017|81 500|19 88...</td>\n",
       "      <td>2017</td>\n",
       "      <td>81500</td>\n",
       "      <td>19880€</td>\n",
       "      <td>11-2021</td>\n",
       "    </tr>\n",
       "  </tbody>\n",
       "</table>\n",
       "</div>"
      ],
      "text/plain": [
       "                                                                                        model_description  \\\n",
       "1336  Hyundai Ioniq Electric (0) Premium / Adapt.Vakkari / Kamera / BLIS / Keyless / Ilmalämpöpumppu /...   \n",
       "1337  Hyundai Ioniq Electric (0) Comfort, WLTP 200km, Navigointi, Kamera|2017|44 000|21 490 €(incl. VA...   \n",
       "1338  Hyundai Ioniq Electric (0) Comfort Business *Juuri huollettu täyssähköauto*|2017|66 000|21 900 €...   \n",
       "1339                                                            Make & model|Year|Mileage|Price|Sold date   \n",
       "1340  Hyundai Ioniq Electric (0) Comfort - Korko 1,99% ja 2000€ S-bonus ostokirjaus!|2017|81 500|19 88...   \n",
       "\n",
       "      Year  Mileage             Price  Sold_date  \n",
       "1336  2017    55000  23370€(incl.VAT)    11-2021  \n",
       "1337  2017    44000  21490€(incl.VAT)    11-2021  \n",
       "1338  2017    66000            21900€    11-2021  \n",
       "1339  Year  Mileage             Price  Sold date  \n",
       "1340  2017    81500            19880€    11-2021  "
      ]
     },
     "execution_count": 10,
     "metadata": {},
     "output_type": "execute_result"
    }
   ],
   "source": [
    "df.tail()"
   ]
  },
  {
   "cell_type": "code",
   "execution_count": 11,
   "id": "987b6e44",
   "metadata": {},
   "outputs": [
    {
     "data": {
      "text/html": [
       "<div>\n",
       "<style scoped>\n",
       "    .dataframe tbody tr th:only-of-type {\n",
       "        vertical-align: middle;\n",
       "    }\n",
       "\n",
       "    .dataframe tbody tr th {\n",
       "        vertical-align: top;\n",
       "    }\n",
       "\n",
       "    .dataframe thead th {\n",
       "        text-align: right;\n",
       "    }\n",
       "</style>\n",
       "<table border=\"1\" class=\"dataframe\">\n",
       "  <thead>\n",
       "    <tr style=\"text-align: right;\">\n",
       "      <th></th>\n",
       "      <th>model_description</th>\n",
       "      <th>Year</th>\n",
       "      <th>Mileage</th>\n",
       "      <th>Price</th>\n",
       "      <th>Sold_date</th>\n",
       "    </tr>\n",
       "  </thead>\n",
       "  <tbody>\n",
       "    <tr>\n",
       "      <th>0</th>\n",
       "      <td>Toyota Corolla (2) Touring Sports 2,0 Hybrid Style - **Korkotarjous 1,59%+kulut**Toimitusmahdoll...</td>\n",
       "      <td>2019</td>\n",
       "      <td>32971</td>\n",
       "      <td>31990€</td>\n",
       "      <td>09-2021</td>\n",
       "    </tr>\n",
       "    <tr>\n",
       "      <th>1</th>\n",
       "      <td>Toyota Corolla (2) Touring Sports 2,0 Hybrid Style/1-om/ Tehdastakuu/ Huippusiisti/|2019|26 000|...</td>\n",
       "      <td>2019</td>\n",
       "      <td>26000</td>\n",
       "      <td>31800€</td>\n",
       "      <td>10-2021</td>\n",
       "    </tr>\n",
       "    <tr>\n",
       "      <th>2</th>\n",
       "      <td>Toyota Corolla (2) Toyota COROLLA Touring Sports 2,0 Hybrid Active + Plus paketti|2019|65 000|26...</td>\n",
       "      <td>2019</td>\n",
       "      <td>65000</td>\n",
       "      <td>26990€</td>\n",
       "      <td>09-2021</td>\n",
       "    </tr>\n",
       "    <tr>\n",
       "      <th>3</th>\n",
       "      <td>Toyota Corolla (1.8) Touring Sports 1,8 Hybrid Active Business|2019|41 000|26 880 €|09-2021</td>\n",
       "      <td>2019</td>\n",
       "      <td>41000</td>\n",
       "      <td>26880€</td>\n",
       "      <td>09-2021</td>\n",
       "    </tr>\n",
       "    <tr>\n",
       "      <th>4</th>\n",
       "      <td>Toyota Corolla (2) Touring Sports 2,0 Hybrid Active *Plus-paketti* - *Toyota Approved - 12 kk ma...</td>\n",
       "      <td>2019</td>\n",
       "      <td>31800</td>\n",
       "      <td>27900€</td>\n",
       "      <td>08-2021</td>\n",
       "    </tr>\n",
       "  </tbody>\n",
       "</table>\n",
       "</div>"
      ],
      "text/plain": [
       "                                                                                     model_description  \\\n",
       "0  Toyota Corolla (2) Touring Sports 2,0 Hybrid Style - **Korkotarjous 1,59%+kulut**Toimitusmahdoll...   \n",
       "1  Toyota Corolla (2) Touring Sports 2,0 Hybrid Style/1-om/ Tehdastakuu/ Huippusiisti/|2019|26 000|...   \n",
       "2  Toyota Corolla (2) Toyota COROLLA Touring Sports 2,0 Hybrid Active + Plus paketti|2019|65 000|26...   \n",
       "3          Toyota Corolla (1.8) Touring Sports 1,8 Hybrid Active Business|2019|41 000|26 880 €|09-2021   \n",
       "4  Toyota Corolla (2) Touring Sports 2,0 Hybrid Active *Plus-paketti* - *Toyota Approved - 12 kk ma...   \n",
       "\n",
       "   Year Mileage   Price Sold_date  \n",
       "0  2019   32971  31990€   09-2021  \n",
       "1  2019   26000  31800€   10-2021  \n",
       "2  2019   65000  26990€   09-2021  \n",
       "3  2019   41000  26880€   09-2021  \n",
       "4  2019   31800  27900€   08-2021  "
      ]
     },
     "execution_count": 11,
     "metadata": {},
     "output_type": "execute_result"
    }
   ],
   "source": [
    "df.head()"
   ]
  },
  {
   "cell_type": "code",
   "execution_count": 12,
   "id": "46b749f3",
   "metadata": {},
   "outputs": [],
   "source": [
    "#df.loc[740:]"
   ]
  },
  {
   "cell_type": "code",
   "execution_count": 13,
   "id": "f643280d",
   "metadata": {},
   "outputs": [
    {
     "data": {
      "text/html": [
       "<div>\n",
       "<style scoped>\n",
       "    .dataframe tbody tr th:only-of-type {\n",
       "        vertical-align: middle;\n",
       "    }\n",
       "\n",
       "    .dataframe tbody tr th {\n",
       "        vertical-align: top;\n",
       "    }\n",
       "\n",
       "    .dataframe thead th {\n",
       "        text-align: right;\n",
       "    }\n",
       "</style>\n",
       "<table border=\"1\" class=\"dataframe\">\n",
       "  <thead>\n",
       "    <tr style=\"text-align: right;\">\n",
       "      <th></th>\n",
       "      <th>model_description</th>\n",
       "      <th>Year</th>\n",
       "      <th>Mileage</th>\n",
       "      <th>Price</th>\n",
       "      <th>Sold_date</th>\n",
       "    </tr>\n",
       "  </thead>\n",
       "  <tbody>\n",
       "    <tr>\n",
       "      <th>740</th>\n",
       "      <td>Hyundai Ioniq Hybrid (1.6) **Rahoitus 0,86% + kulut Huoltorahalla**|2016|62 000|18 400 €|06-2021</td>\n",
       "      <td>2016</td>\n",
       "      <td>62000</td>\n",
       "      <td>18400€</td>\n",
       "      <td>06-2021</td>\n",
       "    </tr>\n",
       "    <tr>\n",
       "      <th>741</th>\n",
       "      <td>Hyundai Ioniq Hybrid (1.6) DCT Comfort ** ACC / Kaistavahti / Katveavustin / Nahat / P-kamera **...</td>\n",
       "      <td>2016</td>\n",
       "      <td>60586</td>\n",
       "      <td>19900€</td>\n",
       "      <td>08-2021</td>\n",
       "    </tr>\n",
       "    <tr>\n",
       "      <th>742</th>\n",
       "      <td>Hyundai Ioniq Hybrid (1.6) DCT Premium ** ACC / Kaistavahti / Katveavustin / Nahat / P-kamera **...</td>\n",
       "      <td>2016</td>\n",
       "      <td>60586</td>\n",
       "      <td>19900€</td>\n",
       "      <td>09-2021</td>\n",
       "    </tr>\n",
       "  </tbody>\n",
       "</table>\n",
       "</div>"
      ],
      "text/plain": [
       "                                                                                       model_description  \\\n",
       "740     Hyundai Ioniq Hybrid (1.6) **Rahoitus 0,86% + kulut Huoltorahalla**|2016|62 000|18 400 €|06-2021   \n",
       "741  Hyundai Ioniq Hybrid (1.6) DCT Comfort ** ACC / Kaistavahti / Katveavustin / Nahat / P-kamera **...   \n",
       "742  Hyundai Ioniq Hybrid (1.6) DCT Premium ** ACC / Kaistavahti / Katveavustin / Nahat / P-kamera **...   \n",
       "\n",
       "     Year Mileage   Price Sold_date  \n",
       "740  2016   62000  18400€   06-2021  \n",
       "741  2016   60586  19900€   08-2021  \n",
       "742  2016   60586  19900€   09-2021  "
      ]
     },
     "execution_count": 13,
     "metadata": {},
     "output_type": "execute_result"
    }
   ],
   "source": [
    "# разделим датасеты\n",
    "df = df.loc[740:]\n",
    "df.head(3)"
   ]
  },
  {
   "cell_type": "code",
   "execution_count": 14,
   "id": "9f84e9c2",
   "metadata": {},
   "outputs": [
    {
     "name": "stdout",
     "output_type": "stream",
     "text": [
      "<class 'pandas.core.frame.DataFrame'>\n",
      "RangeIndex: 601 entries, 740 to 1340\n",
      "Data columns (total 5 columns):\n",
      " #   Column             Non-Null Count  Dtype \n",
      "---  ------             --------------  ----- \n",
      " 0   model_description  601 non-null    object\n",
      " 1   Year               601 non-null    object\n",
      " 2   Mileage            601 non-null    object\n",
      " 3   Price              601 non-null    object\n",
      " 4   Sold_date          601 non-null    object\n",
      "dtypes: object(5)\n",
      "memory usage: 23.6+ KB\n"
     ]
    }
   ],
   "source": [
    "df.info()"
   ]
  },
  {
   "cell_type": "code",
   "execution_count": 15,
   "id": "163ae572",
   "metadata": {},
   "outputs": [],
   "source": [
    "# удалим лишнее Vuosi\n",
    "df = df.drop(df.query('Year == \"Vuosi\"').index.values.tolist())\n",
    "df = df.drop(df.query('Year == \"Year\"').index.values.tolist())\n",
    "\n",
    "# удалим данные где дата продажи 0\n",
    "drop_nulls = df.query('Sold_date == \"00-0000\"').index.values.tolist()\n",
    "df = df.drop(drop_nulls)"
   ]
  },
  {
   "cell_type": "code",
   "execution_count": 16,
   "id": "8eadc311",
   "metadata": {},
   "outputs": [
    {
     "data": {
      "text/plain": [
       "array(['2016', '2017', '2018', '2019', '2020', '2021'], dtype=object)"
      ]
     },
     "execution_count": 16,
     "metadata": {},
     "output_type": "execute_result"
    }
   ],
   "source": [
    "df['Year'].unique()"
   ]
  },
  {
   "cell_type": "code",
   "execution_count": 17,
   "id": "62c0b9dd",
   "metadata": {},
   "outputs": [],
   "source": [
    "# приведем к формату времени\n",
    "df['Year'] = pd.to_datetime(df['Year'], format='%Y')"
   ]
  },
  {
   "cell_type": "code",
   "execution_count": 18,
   "id": "5d519780",
   "metadata": {},
   "outputs": [],
   "source": [
    "# приведем к формату времени\n",
    "df['Sold_date'] = pd.to_datetime(df['Sold_date'], format='%m-%Y')"
   ]
  },
  {
   "cell_type": "code",
   "execution_count": 19,
   "id": "389a7437",
   "metadata": {},
   "outputs": [],
   "source": [
    "# удалим данные где мили Eiilmoitettu\n",
    "drop_next = df[df['Mileage'] == 'Eiilmoitettu'].index.values.tolist()\n",
    "for i in drop_next:\n",
    "    df = df.drop(index = i)"
   ]
  },
  {
   "cell_type": "code",
   "execution_count": 20,
   "id": "738ea0ba",
   "metadata": {},
   "outputs": [],
   "source": [
    "# удалим данные где мили Eihin\n",
    "drop_a = df[df['Price'] == 'Eihin'].index.values.tolist()\n",
    "for i in drop_a:\n",
    "    df = df.drop(index = i)"
   ]
  },
  {
   "cell_type": "code",
   "execution_count": 21,
   "id": "bb4a0c72",
   "metadata": {},
   "outputs": [],
   "source": [
    "# удалим данные где не указан пробег\n",
    "drop_ns = df[df['Mileage'] == 'Notspecified'].index.values.tolist()\n",
    "for i in drop_ns:\n",
    "    df = df.drop(index = i)"
   ]
  },
  {
   "cell_type": "code",
   "execution_count": 22,
   "id": "de7608ec",
   "metadata": {},
   "outputs": [],
   "source": [
    "# мили целочисленные значения\n",
    "df['Mileage'] = df['Mileage'].astype('float64') "
   ]
  },
  {
   "cell_type": "code",
   "execution_count": 23,
   "id": "077c87a9",
   "metadata": {},
   "outputs": [],
   "source": [
    "# цена 5 знаков\n",
    "df['Price'] = df['Price'].str[:5]\n",
    "# удалим пробелы\n",
    "df['Price'] = df['Price'].str.replace(\"€\", \"\")"
   ]
  },
  {
   "cell_type": "code",
   "execution_count": 24,
   "id": "80c20455",
   "metadata": {},
   "outputs": [],
   "source": [
    "# удалим данные где цена Eihin\n",
    "drop_a = df[df['Price'] == 'Eihin'].index.values.tolist()\n",
    "for i in drop_a:\n",
    "    df = df.drop(index = i)"
   ]
  },
  {
   "cell_type": "code",
   "execution_count": 25,
   "id": "538cbe49",
   "metadata": {},
   "outputs": [],
   "source": [
    "# удалим данные где цена Notpr\n",
    "drop_nt = df[df['Price'] == 'Notpr'].index.values.tolist()\n",
    "for i in drop_nt:\n",
    "    df = df.drop(index = i)"
   ]
  },
  {
   "cell_type": "code",
   "execution_count": 26,
   "id": "cb629370",
   "metadata": {},
   "outputs": [],
   "source": [
    "# сделаем цену целочисленным значением\n",
    "df['Price'] = df['Price'].astype(int) "
   ]
  },
  {
   "cell_type": "code",
   "execution_count": 27,
   "id": "7bc41ca7",
   "metadata": {},
   "outputs": [
    {
     "name": "stdout",
     "output_type": "stream",
     "text": [
      "<class 'pandas.core.frame.DataFrame'>\n",
      "Int64Index: 554 entries, 740 to 1340\n",
      "Data columns (total 5 columns):\n",
      " #   Column             Non-Null Count  Dtype         \n",
      "---  ------             --------------  -----         \n",
      " 0   model_description  554 non-null    object        \n",
      " 1   Year               554 non-null    datetime64[ns]\n",
      " 2   Mileage            554 non-null    float64       \n",
      " 3   Price              554 non-null    int64         \n",
      " 4   Sold_date          554 non-null    datetime64[ns]\n",
      "dtypes: datetime64[ns](2), float64(1), int64(1), object(1)\n",
      "memory usage: 26.0+ KB\n"
     ]
    }
   ],
   "source": [
    "df.info()"
   ]
  },
  {
   "cell_type": "code",
   "execution_count": 28,
   "id": "cf9e9b48",
   "metadata": {},
   "outputs": [
    {
     "data": {
      "text/html": [
       "<div>\n",
       "<style scoped>\n",
       "    .dataframe tbody tr th:only-of-type {\n",
       "        vertical-align: middle;\n",
       "    }\n",
       "\n",
       "    .dataframe tbody tr th {\n",
       "        vertical-align: top;\n",
       "    }\n",
       "\n",
       "    .dataframe thead th {\n",
       "        text-align: right;\n",
       "    }\n",
       "</style>\n",
       "<table border=\"1\" class=\"dataframe\">\n",
       "  <thead>\n",
       "    <tr style=\"text-align: right;\">\n",
       "      <th></th>\n",
       "      <th>model_description</th>\n",
       "      <th>Year</th>\n",
       "      <th>Mileage</th>\n",
       "      <th>Price</th>\n",
       "      <th>Sold_date</th>\n",
       "    </tr>\n",
       "  </thead>\n",
       "  <tbody>\n",
       "    <tr>\n",
       "      <th>740</th>\n",
       "      <td>Hyundai Ioniq Hybrid (1.6) **Rahoitus 0,86% + kulut Huoltorahalla**|2016|62 000|18 400 €|06-2021</td>\n",
       "      <td>2016-01-01</td>\n",
       "      <td>62000.0</td>\n",
       "      <td>18400</td>\n",
       "      <td>2021-06-01</td>\n",
       "    </tr>\n",
       "    <tr>\n",
       "      <th>741</th>\n",
       "      <td>Hyundai Ioniq Hybrid (1.6) DCT Comfort ** ACC / Kaistavahti / Katveavustin / Nahat / P-kamera **...</td>\n",
       "      <td>2016-01-01</td>\n",
       "      <td>60586.0</td>\n",
       "      <td>19900</td>\n",
       "      <td>2021-08-01</td>\n",
       "    </tr>\n",
       "    <tr>\n",
       "      <th>742</th>\n",
       "      <td>Hyundai Ioniq Hybrid (1.6) DCT Premium ** ACC / Kaistavahti / Katveavustin / Nahat / P-kamera **...</td>\n",
       "      <td>2016-01-01</td>\n",
       "      <td>60586.0</td>\n",
       "      <td>19900</td>\n",
       "      <td>2021-09-01</td>\n",
       "    </tr>\n",
       "  </tbody>\n",
       "</table>\n",
       "</div>"
      ],
      "text/plain": [
       "                                                                                       model_description  \\\n",
       "740     Hyundai Ioniq Hybrid (1.6) **Rahoitus 0,86% + kulut Huoltorahalla**|2016|62 000|18 400 €|06-2021   \n",
       "741  Hyundai Ioniq Hybrid (1.6) DCT Comfort ** ACC / Kaistavahti / Katveavustin / Nahat / P-kamera **...   \n",
       "742  Hyundai Ioniq Hybrid (1.6) DCT Premium ** ACC / Kaistavahti / Katveavustin / Nahat / P-kamera **...   \n",
       "\n",
       "          Year  Mileage  Price  Sold_date  \n",
       "740 2016-01-01  62000.0  18400 2021-06-01  \n",
       "741 2016-01-01  60586.0  19900 2021-08-01  \n",
       "742 2016-01-01  60586.0  19900 2021-09-01  "
      ]
     },
     "execution_count": 28,
     "metadata": {},
     "output_type": "execute_result"
    }
   ],
   "source": [
    "df.head(3)"
   ]
  },
  {
   "cell_type": "code",
   "execution_count": 29,
   "id": "1d6ffd99",
   "metadata": {},
   "outputs": [
    {
     "name": "stdout",
     "output_type": "stream",
     "text": [
      "<class 'pandas.core.frame.DataFrame'>\n",
      "Int64Index: 554 entries, 740 to 1340\n",
      "Data columns (total 5 columns):\n",
      " #   Column             Non-Null Count  Dtype         \n",
      "---  ------             --------------  -----         \n",
      " 0   model_description  554 non-null    object        \n",
      " 1   Year               554 non-null    datetime64[ns]\n",
      " 2   Mileage            554 non-null    float64       \n",
      " 3   Price              554 non-null    int64         \n",
      " 4   Sold_date          554 non-null    datetime64[ns]\n",
      "dtypes: datetime64[ns](2), float64(1), int64(1), object(1)\n",
      "memory usage: 26.0+ KB\n"
     ]
    }
   ],
   "source": [
    "df.info()"
   ]
  },
  {
   "cell_type": "code",
   "execution_count": 30,
   "id": "6a385c92",
   "metadata": {},
   "outputs": [
    {
     "data": {
      "text/html": [
       "<div>\n",
       "<style scoped>\n",
       "    .dataframe tbody tr th:only-of-type {\n",
       "        vertical-align: middle;\n",
       "    }\n",
       "\n",
       "    .dataframe tbody tr th {\n",
       "        vertical-align: top;\n",
       "    }\n",
       "\n",
       "    .dataframe thead th {\n",
       "        text-align: right;\n",
       "    }\n",
       "</style>\n",
       "<table border=\"1\" class=\"dataframe\">\n",
       "  <thead>\n",
       "    <tr style=\"text-align: right;\">\n",
       "      <th></th>\n",
       "      <th>model_description</th>\n",
       "      <th>Year</th>\n",
       "      <th>Mileage</th>\n",
       "      <th>Price</th>\n",
       "      <th>Sold_date</th>\n",
       "      <th>Age</th>\n",
       "    </tr>\n",
       "  </thead>\n",
       "  <tbody>\n",
       "    <tr>\n",
       "      <th>740</th>\n",
       "      <td>Hyundai Ioniq Hybrid (1.6) **Rahoitus 0,86% + kulut Huoltorahalla**|2016|62 000|18 400 €|06-2021</td>\n",
       "      <td>2016-01-01</td>\n",
       "      <td>62000.0</td>\n",
       "      <td>18400</td>\n",
       "      <td>2021-06-01</td>\n",
       "      <td>5.415580</td>\n",
       "    </tr>\n",
       "    <tr>\n",
       "      <th>741</th>\n",
       "      <td>Hyundai Ioniq Hybrid (1.6) DCT Comfort ** ACC / Kaistavahti / Katveavustin / Nahat / P-kamera **...</td>\n",
       "      <td>2016-01-01</td>\n",
       "      <td>60586.0</td>\n",
       "      <td>19900</td>\n",
       "      <td>2021-08-01</td>\n",
       "      <td>5.582592</td>\n",
       "    </tr>\n",
       "    <tr>\n",
       "      <th>742</th>\n",
       "      <td>Hyundai Ioniq Hybrid (1.6) DCT Premium ** ACC / Kaistavahti / Katveavustin / Nahat / P-kamera **...</td>\n",
       "      <td>2016-01-01</td>\n",
       "      <td>60586.0</td>\n",
       "      <td>19900</td>\n",
       "      <td>2021-09-01</td>\n",
       "      <td>5.667468</td>\n",
       "    </tr>\n",
       "  </tbody>\n",
       "</table>\n",
       "</div>"
      ],
      "text/plain": [
       "                                                                                       model_description  \\\n",
       "740     Hyundai Ioniq Hybrid (1.6) **Rahoitus 0,86% + kulut Huoltorahalla**|2016|62 000|18 400 €|06-2021   \n",
       "741  Hyundai Ioniq Hybrid (1.6) DCT Comfort ** ACC / Kaistavahti / Katveavustin / Nahat / P-kamera **...   \n",
       "742  Hyundai Ioniq Hybrid (1.6) DCT Premium ** ACC / Kaistavahti / Katveavustin / Nahat / P-kamera **...   \n",
       "\n",
       "          Year  Mileage  Price  Sold_date       Age  \n",
       "740 2016-01-01  62000.0  18400 2021-06-01  5.415580  \n",
       "741 2016-01-01  60586.0  19900 2021-08-01  5.582592  \n",
       "742 2016-01-01  60586.0  19900 2021-09-01  5.667468  "
      ]
     },
     "execution_count": 30,
     "metadata": {},
     "output_type": "execute_result"
    }
   ],
   "source": [
    "df['Age'] = (df['Sold_date'] - df['Year']) / np.timedelta64(1, 'Y')\n",
    "df.head(3)"
   ]
  },
  {
   "cell_type": "code",
   "execution_count": 31,
   "id": "43478469",
   "metadata": {},
   "outputs": [
    {
     "data": {
      "text/html": [
       "<div>\n",
       "<style scoped>\n",
       "    .dataframe tbody tr th:only-of-type {\n",
       "        vertical-align: middle;\n",
       "    }\n",
       "\n",
       "    .dataframe tbody tr th {\n",
       "        vertical-align: top;\n",
       "    }\n",
       "\n",
       "    .dataframe thead th {\n",
       "        text-align: right;\n",
       "    }\n",
       "</style>\n",
       "<table border=\"1\" class=\"dataframe\">\n",
       "  <thead>\n",
       "    <tr style=\"text-align: right;\">\n",
       "      <th></th>\n",
       "      <th>Mileage</th>\n",
       "      <th>Price</th>\n",
       "      <th>Age</th>\n",
       "    </tr>\n",
       "  </thead>\n",
       "  <tbody>\n",
       "    <tr>\n",
       "      <th>count</th>\n",
       "      <td>554.000000</td>\n",
       "      <td>554.000000</td>\n",
       "      <td>554.000000</td>\n",
       "    </tr>\n",
       "    <tr>\n",
       "      <th>mean</th>\n",
       "      <td>40947.252708</td>\n",
       "      <td>23879.064982</td>\n",
       "      <td>3.220545</td>\n",
       "    </tr>\n",
       "    <tr>\n",
       "      <th>std</th>\n",
       "      <td>27587.611956</td>\n",
       "      <td>3959.868398</td>\n",
       "      <td>1.099213</td>\n",
       "    </tr>\n",
       "    <tr>\n",
       "      <th>min</th>\n",
       "      <td>2.000000</td>\n",
       "      <td>13900.000000</td>\n",
       "      <td>0.495561</td>\n",
       "    </tr>\n",
       "    <tr>\n",
       "      <th>25%</th>\n",
       "      <td>20000.000000</td>\n",
       "      <td>21622.500000</td>\n",
       "      <td>2.496971</td>\n",
       "    </tr>\n",
       "    <tr>\n",
       "      <th>50%</th>\n",
       "      <td>37000.000000</td>\n",
       "      <td>23400.000000</td>\n",
       "      <td>3.496307</td>\n",
       "    </tr>\n",
       "    <tr>\n",
       "      <th>75%</th>\n",
       "      <td>56000.000000</td>\n",
       "      <td>25900.000000</td>\n",
       "      <td>3.833070</td>\n",
       "    </tr>\n",
       "    <tr>\n",
       "      <th>max</th>\n",
       "      <td>158000.000000</td>\n",
       "      <td>54479.000000</td>\n",
       "      <td>5.834480</td>\n",
       "    </tr>\n",
       "  </tbody>\n",
       "</table>\n",
       "</div>"
      ],
      "text/plain": [
       "             Mileage         Price         Age\n",
       "count     554.000000    554.000000  554.000000\n",
       "mean    40947.252708  23879.064982    3.220545\n",
       "std     27587.611956   3959.868398    1.099213\n",
       "min         2.000000  13900.000000    0.495561\n",
       "25%     20000.000000  21622.500000    2.496971\n",
       "50%     37000.000000  23400.000000    3.496307\n",
       "75%     56000.000000  25900.000000    3.833070\n",
       "max    158000.000000  54479.000000    5.834480"
      ]
     },
     "execution_count": 31,
     "metadata": {},
     "output_type": "execute_result"
    }
   ],
   "source": [
    "df.describe()"
   ]
  },
  {
   "cell_type": "code",
   "execution_count": 32,
   "id": "5aa0885d",
   "metadata": {},
   "outputs": [],
   "source": [
    "# дропнем аномалию c пробегом\n",
    "# max = df['Mileage'].max()\n",
    "# drop_max = df.query('Mileage == 1310000').index.values.tolist()\n",
    "# df = df.drop(drop_max)\n",
    "# df.head(3)"
   ]
  },
  {
   "cell_type": "code",
   "execution_count": 33,
   "id": "845217cb",
   "metadata": {},
   "outputs": [],
   "source": [
    "# сделаем градацию по пробегу \n",
    "\n",
    "def mileage(col):\n",
    "    if col < 20000:\n",
    "        return \"< 20000\"\n",
    "    elif 20000 <= col < 50000 :\n",
    "        return \"20000 - 49999\"\n",
    "    elif 50000 <= col < 79999 :\n",
    "        return \"50000 - 79999\"\n",
    "    elif 80000 <= col < 100000 :\n",
    "        return \"80000 - 99999\"\n",
    "    else:\n",
    "        return \">= 100000\"\n",
    "\n",
    "# произведем замену значений в DF\n",
    "df['mileage_range'] = df['Mileage'].apply(mileage)"
   ]
  },
  {
   "cell_type": "code",
   "execution_count": 34,
   "id": "b35ae350",
   "metadata": {},
   "outputs": [],
   "source": [
    "# сделаем градацию по пробегу \n",
    "\n",
    "def ages_range(col):\n",
    "    if col < 3:\n",
    "        return \"< 3\"\n",
    "    elif 3 <= col < 5 :\n",
    "        return \"3 - 4\"\n",
    "    elif 5 <= col < 8 :\n",
    "        return \"5 - 7\"\n",
    "    else:\n",
    "        return \">= 8\"\n",
    "\n",
    "# произведем замену значений в DF\n",
    "df['age_range'] = df['Age'].apply(ages_range)"
   ]
  },
  {
   "cell_type": "markdown",
   "id": "9f4e1df7",
   "metadata": {},
   "source": [
    "#### смотрим двигатели"
   ]
  },
  {
   "cell_type": "code",
   "execution_count": 35,
   "id": "466dc00d",
   "metadata": {},
   "outputs": [
    {
     "data": {
      "text/html": [
       "<div>\n",
       "<style scoped>\n",
       "    .dataframe tbody tr th:only-of-type {\n",
       "        vertical-align: middle;\n",
       "    }\n",
       "\n",
       "    .dataframe tbody tr th {\n",
       "        vertical-align: top;\n",
       "    }\n",
       "\n",
       "    .dataframe thead th {\n",
       "        text-align: right;\n",
       "    }\n",
       "</style>\n",
       "<table border=\"1\" class=\"dataframe\">\n",
       "  <thead>\n",
       "    <tr style=\"text-align: right;\">\n",
       "      <th></th>\n",
       "      <th>model_description</th>\n",
       "      <th>Year</th>\n",
       "      <th>Mileage</th>\n",
       "      <th>Price</th>\n",
       "      <th>Sold_date</th>\n",
       "      <th>Age</th>\n",
       "      <th>mileage_range</th>\n",
       "      <th>age_range</th>\n",
       "      <th>engine</th>\n",
       "    </tr>\n",
       "  </thead>\n",
       "  <tbody>\n",
       "    <tr>\n",
       "      <th>740</th>\n",
       "      <td>Hyundai Ioniq Hybrid (1.6) **Rahoitus 0,86% + kulut Huoltorahalla**|2016|62 000|18 400 €|06-2021</td>\n",
       "      <td>2016-01-01</td>\n",
       "      <td>62000.0</td>\n",
       "      <td>18400</td>\n",
       "      <td>2021-06-01</td>\n",
       "      <td>5.415580</td>\n",
       "      <td>50000 - 79999</td>\n",
       "      <td>5 - 7</td>\n",
       "      <td>1.6</td>\n",
       "    </tr>\n",
       "    <tr>\n",
       "      <th>741</th>\n",
       "      <td>Hyundai Ioniq Hybrid (1.6) DCT Comfort ** ACC / Kaistavahti / Katveavustin / Nahat / P-kamera **...</td>\n",
       "      <td>2016-01-01</td>\n",
       "      <td>60586.0</td>\n",
       "      <td>19900</td>\n",
       "      <td>2021-08-01</td>\n",
       "      <td>5.582592</td>\n",
       "      <td>50000 - 79999</td>\n",
       "      <td>5 - 7</td>\n",
       "      <td>1.6</td>\n",
       "    </tr>\n",
       "    <tr>\n",
       "      <th>742</th>\n",
       "      <td>Hyundai Ioniq Hybrid (1.6) DCT Premium ** ACC / Kaistavahti / Katveavustin / Nahat / P-kamera **...</td>\n",
       "      <td>2016-01-01</td>\n",
       "      <td>60586.0</td>\n",
       "      <td>19900</td>\n",
       "      <td>2021-09-01</td>\n",
       "      <td>5.667468</td>\n",
       "      <td>50000 - 79999</td>\n",
       "      <td>5 - 7</td>\n",
       "      <td>1.6</td>\n",
       "    </tr>\n",
       "  </tbody>\n",
       "</table>\n",
       "</div>"
      ],
      "text/plain": [
       "                                                                                       model_description  \\\n",
       "740     Hyundai Ioniq Hybrid (1.6) **Rahoitus 0,86% + kulut Huoltorahalla**|2016|62 000|18 400 €|06-2021   \n",
       "741  Hyundai Ioniq Hybrid (1.6) DCT Comfort ** ACC / Kaistavahti / Katveavustin / Nahat / P-kamera **...   \n",
       "742  Hyundai Ioniq Hybrid (1.6) DCT Premium ** ACC / Kaistavahti / Katveavustin / Nahat / P-kamera **...   \n",
       "\n",
       "          Year  Mileage  Price  Sold_date       Age  mileage_range age_range  \\\n",
       "740 2016-01-01  62000.0  18400 2021-06-01  5.415580  50000 - 79999     5 - 7   \n",
       "741 2016-01-01  60586.0  19900 2021-08-01  5.582592  50000 - 79999     5 - 7   \n",
       "742 2016-01-01  60586.0  19900 2021-09-01  5.667468  50000 - 79999     5 - 7   \n",
       "\n",
       "    engine  \n",
       "740    1.6  \n",
       "741    1.6  \n",
       "742    1.6  "
      ]
     },
     "execution_count": 35,
     "metadata": {},
     "output_type": "execute_result"
    }
   ],
   "source": [
    "# посмотрим на мотор\n",
    "df['engine'] = df['model_description'].str.extract(r'(\\d.\\d)')\n",
    "df.head(3)"
   ]
  },
  {
   "cell_type": "code",
   "execution_count": 36,
   "id": "98426b1a",
   "metadata": {},
   "outputs": [
    {
     "data": {
      "text/plain": [
       "array(['1.6', '1.9', '202', '1 3', '136', '0 3', '0|2', '1,8', '0 1',\n",
       "       '590', '201', '120', '0,9', '5|2', '0,8', '200', '2,4', '1,5',\n",
       "       '1.8', '1,4', '1,9'], dtype=object)"
      ]
     },
     "execution_count": 36,
     "metadata": {},
     "output_type": "execute_result"
    }
   ],
   "source": [
    "df['engine'].unique()"
   ]
  },
  {
   "cell_type": "code",
   "execution_count": 37,
   "id": "08fcd490",
   "metadata": {},
   "outputs": [
    {
     "data": {
      "text/html": [
       "<div>\n",
       "<style scoped>\n",
       "    .dataframe tbody tr th:only-of-type {\n",
       "        vertical-align: middle;\n",
       "    }\n",
       "\n",
       "    .dataframe tbody tr th {\n",
       "        vertical-align: top;\n",
       "    }\n",
       "\n",
       "    .dataframe thead th {\n",
       "        text-align: right;\n",
       "    }\n",
       "</style>\n",
       "<table border=\"1\" class=\"dataframe\">\n",
       "  <thead>\n",
       "    <tr style=\"text-align: right;\">\n",
       "      <th></th>\n",
       "      <th>model_description</th>\n",
       "      <th>Year</th>\n",
       "      <th>Mileage</th>\n",
       "      <th>Price</th>\n",
       "      <th>Sold_date</th>\n",
       "      <th>Age</th>\n",
       "      <th>mileage_range</th>\n",
       "      <th>age_range</th>\n",
       "      <th>engine</th>\n",
       "    </tr>\n",
       "  </thead>\n",
       "  <tbody>\n",
       "    <tr>\n",
       "      <th>1340</th>\n",
       "      <td>Hyundai Ioniq Electric (0) Comfort - Korko 1,99% ja 2000€ S-bonus ostokirjaus!|2017|81 500|19 88...</td>\n",
       "      <td>2017-01-01</td>\n",
       "      <td>81500.0</td>\n",
       "      <td>19880</td>\n",
       "      <td>2021-11-01</td>\n",
       "      <td>4.832406</td>\n",
       "      <td>80000 - 99999</td>\n",
       "      <td>3 - 4</td>\n",
       "      <td>1,9</td>\n",
       "    </tr>\n",
       "  </tbody>\n",
       "</table>\n",
       "</div>"
      ],
      "text/plain": [
       "                                                                                        model_description  \\\n",
       "1340  Hyundai Ioniq Electric (0) Comfort - Korko 1,99% ja 2000€ S-bonus ostokirjaus!|2017|81 500|19 88...   \n",
       "\n",
       "           Year  Mileage  Price  Sold_date       Age  mileage_range age_range  \\\n",
       "1340 2017-01-01  81500.0  19880 2021-11-01  4.832406  80000 - 99999     3 - 4   \n",
       "\n",
       "     engine  \n",
       "1340    1,9  "
      ]
     },
     "execution_count": 37,
     "metadata": {},
     "output_type": "execute_result"
    }
   ],
   "source": [
    "# выбросы \"201=(2.0)\", \"2,0=(2.0)\", \"0,9=(2.0)\"\n",
    "df.query('engine == \"1,9\"')"
   ]
  },
  {
   "cell_type": "code",
   "execution_count": 38,
   "id": "7ed944bc",
   "metadata": {},
   "outputs": [],
   "source": [
    "df.loc[df['engine'] == '202','engine'] = '0.0'\n",
    "df.loc[df['engine'] == '1 3','engine'] = '0.0'\n",
    "df.loc[df['engine'] == '136','engine'] = '0.0'\n",
    "df.loc[df['engine'] == '0 3','engine'] = '0.0'\n",
    "df.loc[df['engine'] == '0|2','engine'] = '0.0'\n",
    "df.loc[df['engine'] == '1,8','engine'] = '0.0'\n",
    "df.loc[df['engine'] == '0 1','engine'] = '0.0'\n",
    "df.loc[df['engine'] == '590','engine'] = '0.0'\n",
    "df.loc[df['engine'] == '201','engine'] = '0.0'\n",
    "df.loc[df['engine'] == '120','engine'] = '0.0'\n",
    "df.loc[df['engine'] == '0,9','engine'] = '0.0'\n",
    "df.loc[df['engine'] == '5|2','engine'] = '0.0'\n",
    "df.loc[df['engine'] == '0,8','engine'] = '0.0'\n",
    "df.loc[df['engine'] == '200','engine'] = '0.0'\n",
    "df.loc[df['engine'] == '2,4','engine'] = '0.0'\n",
    "df.loc[df['engine'] == '1,5','engine'] = '0.0'\n",
    "df.loc[df['engine'] == '1,4','engine'] = '0.0'\n",
    "df.loc[df['engine'] == '1,9','engine'] = '0.0'"
   ]
  },
  {
   "cell_type": "markdown",
   "id": "17d6ce9b",
   "metadata": {},
   "source": [
    "#### смотрим модификации"
   ]
  },
  {
   "cell_type": "code",
   "execution_count": 39,
   "id": "c1c4dad6",
   "metadata": {},
   "outputs": [
    {
     "data": {
      "text/html": [
       "<div>\n",
       "<style scoped>\n",
       "    .dataframe tbody tr th:only-of-type {\n",
       "        vertical-align: middle;\n",
       "    }\n",
       "\n",
       "    .dataframe tbody tr th {\n",
       "        vertical-align: top;\n",
       "    }\n",
       "\n",
       "    .dataframe thead th {\n",
       "        text-align: right;\n",
       "    }\n",
       "</style>\n",
       "<table border=\"1\" class=\"dataframe\">\n",
       "  <thead>\n",
       "    <tr style=\"text-align: right;\">\n",
       "      <th></th>\n",
       "      <th>model_description</th>\n",
       "      <th>Year</th>\n",
       "      <th>Mileage</th>\n",
       "      <th>Price</th>\n",
       "      <th>Sold_date</th>\n",
       "      <th>Age</th>\n",
       "      <th>mileage_range</th>\n",
       "      <th>age_range</th>\n",
       "      <th>engine</th>\n",
       "    </tr>\n",
       "  </thead>\n",
       "  <tbody>\n",
       "    <tr>\n",
       "      <th>913</th>\n",
       "      <td>Hyundai Ioniq Plug-In (1.6) DCT Comfort *** Halpa rahoitus 0,99%|2018|21 000|24 890 €|08-2021</td>\n",
       "      <td>2018-01-01</td>\n",
       "      <td>21000.0</td>\n",
       "      <td>24890</td>\n",
       "      <td>2021-08-01</td>\n",
       "      <td>3.581182</td>\n",
       "      <td>20000 - 49999</td>\n",
       "      <td>3 - 4</td>\n",
       "      <td>1.6</td>\n",
       "    </tr>\n",
       "    <tr>\n",
       "      <th>1186</th>\n",
       "      <td>Hyundai Ioniq Electric (0) EV Premium Business NAVI (MY19) *KUUMA KESÄKAMPPIX! KORKO alk. 0,99%!...</td>\n",
       "      <td>2019-01-01</td>\n",
       "      <td>38000.0</td>\n",
       "      <td>28790</td>\n",
       "      <td>2021-07-01</td>\n",
       "      <td>2.496971</td>\n",
       "      <td>20000 - 49999</td>\n",
       "      <td>&lt; 3</td>\n",
       "      <td>0.0</td>\n",
       "    </tr>\n",
       "    <tr>\n",
       "      <th>1268</th>\n",
       "      <td>Hyundai Ioniq Electric (0) Style 28kWh **ILP, 2X RENKAAT, KOUKKU, NAHAT!**|2018|61 000|23 400 €(...</td>\n",
       "      <td>2018-01-01</td>\n",
       "      <td>61000.0</td>\n",
       "      <td>23400</td>\n",
       "      <td>2021-10-01</td>\n",
       "      <td>3.748195</td>\n",
       "      <td>50000 - 79999</td>\n",
       "      <td>3 - 4</td>\n",
       "      <td>0.0</td>\n",
       "    </tr>\n",
       "    <tr>\n",
       "      <th>752</th>\n",
       "      <td>Hyundai Ioniq Hybrid (1.6) DCT Style *Infinity-audio, Navi, Kaistavahti, Takuu 6/22* *** Tehdast...</td>\n",
       "      <td>2017-01-01</td>\n",
       "      <td>59000.0</td>\n",
       "      <td>18700</td>\n",
       "      <td>2021-06-01</td>\n",
       "      <td>4.413506</td>\n",
       "      <td>50000 - 79999</td>\n",
       "      <td>3 - 4</td>\n",
       "      <td>1.6</td>\n",
       "    </tr>\n",
       "    <tr>\n",
       "      <th>1209</th>\n",
       "      <td>Hyundai Ioniq Electric (0) Style *Korko 2,49%+kulut Huoltorahalla! Upea Sähkö- Ioniq. Pyydä tarj...</td>\n",
       "      <td>2019-01-01</td>\n",
       "      <td>44000.0</td>\n",
       "      <td>24900</td>\n",
       "      <td>2021-11-01</td>\n",
       "      <td>2.833734</td>\n",
       "      <td>20000 - 49999</td>\n",
       "      <td>&lt; 3</td>\n",
       "      <td>0.0</td>\n",
       "    </tr>\n",
       "    <tr>\n",
       "      <th>1063</th>\n",
       "      <td>Hyundai Ioniq Plug-In (1.6) 1,6 plug-in 141hv / Adaptiivinen vakkari / Navi / Keyless|2020|19 00...</td>\n",
       "      <td>2020-01-01</td>\n",
       "      <td>19000.0</td>\n",
       "      <td>27280</td>\n",
       "      <td>2021-07-01</td>\n",
       "      <td>1.497635</td>\n",
       "      <td>&lt; 20000</td>\n",
       "      <td>&lt; 3</td>\n",
       "      <td>1.6</td>\n",
       "    </tr>\n",
       "    <tr>\n",
       "      <th>748</th>\n",
       "      <td>Hyundai Ioniq Hybrid (1.6) DCT Comfort *Navi*Peruutuskamera* *** Tehdastakuu, J. kotiintoimitus|...</td>\n",
       "      <td>2017-01-01</td>\n",
       "      <td>44000.0</td>\n",
       "      <td>16900</td>\n",
       "      <td>2021-07-01</td>\n",
       "      <td>4.495643</td>\n",
       "      <td>20000 - 49999</td>\n",
       "      <td>3 - 4</td>\n",
       "      <td>1.6</td>\n",
       "    </tr>\n",
       "    <tr>\n",
       "      <th>922</th>\n",
       "      <td>Hyundai Ioniq Plug-In (1.6) DCT Style / Navi / Peruutuskamera / Tutkat *** Korkotarjous 1% + kul...</td>\n",
       "      <td>2018-01-01</td>\n",
       "      <td>32000.0</td>\n",
       "      <td>24790</td>\n",
       "      <td>2021-07-01</td>\n",
       "      <td>3.496307</td>\n",
       "      <td>20000 - 49999</td>\n",
       "      <td>3 - 4</td>\n",
       "      <td>1.6</td>\n",
       "    </tr>\n",
       "    <tr>\n",
       "      <th>1100</th>\n",
       "      <td>Hyundai Ioniq Plug-In (1.6)|2020|34 000|26 900 €|11-2021</td>\n",
       "      <td>2020-01-01</td>\n",
       "      <td>34000.0</td>\n",
       "      <td>26900</td>\n",
       "      <td>2021-11-01</td>\n",
       "      <td>1.834398</td>\n",
       "      <td>20000 - 49999</td>\n",
       "      <td>&lt; 3</td>\n",
       "      <td>1.6</td>\n",
       "    </tr>\n",
       "    <tr>\n",
       "      <th>934</th>\n",
       "      <td>Hyundai Ioniq Plug-In (1.6) Plug-in DCT-aut Comfort.|2018|90 000|19 880 €|07-2021</td>\n",
       "      <td>2018-01-01</td>\n",
       "      <td>90000.0</td>\n",
       "      <td>19880</td>\n",
       "      <td>2021-07-01</td>\n",
       "      <td>3.496307</td>\n",
       "      <td>80000 - 99999</td>\n",
       "      <td>3 - 4</td>\n",
       "      <td>1.6</td>\n",
       "    </tr>\n",
       "  </tbody>\n",
       "</table>\n",
       "</div>"
      ],
      "text/plain": [
       "                                                                                        model_description  \\\n",
       "913         Hyundai Ioniq Plug-In (1.6) DCT Comfort *** Halpa rahoitus 0,99%|2018|21 000|24 890 €|08-2021   \n",
       "1186  Hyundai Ioniq Electric (0) EV Premium Business NAVI (MY19) *KUUMA KESÄKAMPPIX! KORKO alk. 0,99%!...   \n",
       "1268  Hyundai Ioniq Electric (0) Style 28kWh **ILP, 2X RENKAAT, KOUKKU, NAHAT!**|2018|61 000|23 400 €(...   \n",
       "752   Hyundai Ioniq Hybrid (1.6) DCT Style *Infinity-audio, Navi, Kaistavahti, Takuu 6/22* *** Tehdast...   \n",
       "1209  Hyundai Ioniq Electric (0) Style *Korko 2,49%+kulut Huoltorahalla! Upea Sähkö- Ioniq. Pyydä tarj...   \n",
       "1063  Hyundai Ioniq Plug-In (1.6) 1,6 plug-in 141hv / Adaptiivinen vakkari / Navi / Keyless|2020|19 00...   \n",
       "748   Hyundai Ioniq Hybrid (1.6) DCT Comfort *Navi*Peruutuskamera* *** Tehdastakuu, J. kotiintoimitus|...   \n",
       "922   Hyundai Ioniq Plug-In (1.6) DCT Style / Navi / Peruutuskamera / Tutkat *** Korkotarjous 1% + kul...   \n",
       "1100                                             Hyundai Ioniq Plug-In (1.6)|2020|34 000|26 900 €|11-2021   \n",
       "934                     Hyundai Ioniq Plug-In (1.6) Plug-in DCT-aut Comfort.|2018|90 000|19 880 €|07-2021   \n",
       "\n",
       "           Year  Mileage  Price  Sold_date       Age  mileage_range age_range  \\\n",
       "913  2018-01-01  21000.0  24890 2021-08-01  3.581182  20000 - 49999     3 - 4   \n",
       "1186 2019-01-01  38000.0  28790 2021-07-01  2.496971  20000 - 49999       < 3   \n",
       "1268 2018-01-01  61000.0  23400 2021-10-01  3.748195  50000 - 79999     3 - 4   \n",
       "752  2017-01-01  59000.0  18700 2021-06-01  4.413506  50000 - 79999     3 - 4   \n",
       "1209 2019-01-01  44000.0  24900 2021-11-01  2.833734  20000 - 49999       < 3   \n",
       "1063 2020-01-01  19000.0  27280 2021-07-01  1.497635        < 20000       < 3   \n",
       "748  2017-01-01  44000.0  16900 2021-07-01  4.495643  20000 - 49999     3 - 4   \n",
       "922  2018-01-01  32000.0  24790 2021-07-01  3.496307  20000 - 49999     3 - 4   \n",
       "1100 2020-01-01  34000.0  26900 2021-11-01  1.834398  20000 - 49999       < 3   \n",
       "934  2018-01-01  90000.0  19880 2021-07-01  3.496307  80000 - 99999     3 - 4   \n",
       "\n",
       "     engine  \n",
       "913     1.6  \n",
       "1186    0.0  \n",
       "1268    0.0  \n",
       "752     1.6  \n",
       "1209    0.0  \n",
       "1063    1.6  \n",
       "748     1.6  \n",
       "922     1.6  \n",
       "1100    1.6  \n",
       "934     1.6  "
      ]
     },
     "execution_count": 39,
     "metadata": {},
     "output_type": "execute_result"
    }
   ],
   "source": [
    "# посмотрим на модификации\n",
    "#df['Electric'] = df['model_description'].str.contains(\"Electric\")\n",
    "#df['Hybrid'] = df['model_description'].str.contains(\"Hybrid\")\n",
    "#df['Plug-In '] = df['model_description'].str.contains(\"Plug-In \")\n",
    "df.sample(10)"
   ]
  },
  {
   "cell_type": "code",
   "execution_count": 40,
   "id": "661520fe",
   "metadata": {},
   "outputs": [
    {
     "data": {
      "text/plain": [
       "740    True\n",
       "Name: model_description, dtype: bool"
      ]
     },
     "execution_count": 40,
     "metadata": {},
     "output_type": "execute_result"
    }
   ],
   "source": [
    "test = df.loc[740:740]['model_description']\n",
    "test.str.contains(\"Hybrid\")"
   ]
  },
  {
   "cell_type": "code",
   "execution_count": 41,
   "id": "645d383b",
   "metadata": {},
   "outputs": [
    {
     "data": {
      "text/plain": [
       "14"
      ]
     },
     "execution_count": 41,
     "metadata": {},
     "output_type": "execute_result"
    }
   ],
   "source": [
    "test = 'Hyundai Ioniq Hybrid (1.6) **Rahoitus 0,86% + kulut Huoltorahalla**|2016|62 000|18 400 €|06-2021'\n",
    "test.find(\"Hybrid\")"
   ]
  },
  {
   "cell_type": "code",
   "execution_count": 42,
   "id": "ae6374a6",
   "metadata": {},
   "outputs": [],
   "source": [
    "# сделаем градацию по модели\n",
    "\n",
    "#def modification(col):\n",
    "    #if col.find(\"Electric\") == \"Electric\":\n",
    "        #return \"Electric\"\n",
    "    #elif col.find(\"Hybrid\") == \"Hybrid\" :\n",
    "        #return \"Hybrid\"\n",
    "    #elif col.find(\"Plug-In\") == \"Plug-In\" :\n",
    "        #return \"Plug-In\"\n",
    "    #else:\n",
    "        #return \"Other\""
   ]
  },
  {
   "cell_type": "code",
   "execution_count": 43,
   "id": "03f5d0e5",
   "metadata": {},
   "outputs": [],
   "source": [
    "# сделаем градацию по пробегу \n",
    "\n",
    "def modification(col):\n",
    "    if \"Electric\" in col:\n",
    "        return \"Electric\"\n",
    "    elif \"Hybrid\" in col:\n",
    "        return \"Hybrid\"\n",
    "    elif \"Plug-In\" in col:\n",
    "        return \"Electric\"\n",
    "    else:\n",
    "        return \"Other\""
   ]
  },
  {
   "cell_type": "code",
   "execution_count": 44,
   "id": "b8849d41",
   "metadata": {},
   "outputs": [],
   "source": [
    "# произведем замену значений в DF\n",
    "df['model'] = df['model_description'].apply(modification)"
   ]
  },
  {
   "cell_type": "code",
   "execution_count": 45,
   "id": "3e664da8",
   "metadata": {},
   "outputs": [
    {
     "data": {
      "text/html": [
       "<div>\n",
       "<style scoped>\n",
       "    .dataframe tbody tr th:only-of-type {\n",
       "        vertical-align: middle;\n",
       "    }\n",
       "\n",
       "    .dataframe tbody tr th {\n",
       "        vertical-align: top;\n",
       "    }\n",
       "\n",
       "    .dataframe thead th {\n",
       "        text-align: right;\n",
       "    }\n",
       "</style>\n",
       "<table border=\"1\" class=\"dataframe\">\n",
       "  <thead>\n",
       "    <tr style=\"text-align: right;\">\n",
       "      <th></th>\n",
       "      <th>model_description</th>\n",
       "      <th>Year</th>\n",
       "      <th>Mileage</th>\n",
       "      <th>Price</th>\n",
       "      <th>Sold_date</th>\n",
       "      <th>Age</th>\n",
       "      <th>mileage_range</th>\n",
       "      <th>age_range</th>\n",
       "      <th>engine</th>\n",
       "      <th>model</th>\n",
       "    </tr>\n",
       "  </thead>\n",
       "  <tbody>\n",
       "    <tr>\n",
       "      <th>740</th>\n",
       "      <td>Hyundai Ioniq Hybrid (1.6) **Rahoitus 0,86% + kulut Huoltorahalla**|2016|62 000|18 400 €|06-2021</td>\n",
       "      <td>2016-01-01</td>\n",
       "      <td>62000.0</td>\n",
       "      <td>18400</td>\n",
       "      <td>2021-06-01</td>\n",
       "      <td>5.415580</td>\n",
       "      <td>50000 - 79999</td>\n",
       "      <td>5 - 7</td>\n",
       "      <td>1.6</td>\n",
       "      <td>Hybrid</td>\n",
       "    </tr>\n",
       "    <tr>\n",
       "      <th>741</th>\n",
       "      <td>Hyundai Ioniq Hybrid (1.6) DCT Comfort ** ACC / Kaistavahti / Katveavustin / Nahat / P-kamera **...</td>\n",
       "      <td>2016-01-01</td>\n",
       "      <td>60586.0</td>\n",
       "      <td>19900</td>\n",
       "      <td>2021-08-01</td>\n",
       "      <td>5.582592</td>\n",
       "      <td>50000 - 79999</td>\n",
       "      <td>5 - 7</td>\n",
       "      <td>1.6</td>\n",
       "      <td>Hybrid</td>\n",
       "    </tr>\n",
       "    <tr>\n",
       "      <th>742</th>\n",
       "      <td>Hyundai Ioniq Hybrid (1.6) DCT Premium ** ACC / Kaistavahti / Katveavustin / Nahat / P-kamera **...</td>\n",
       "      <td>2016-01-01</td>\n",
       "      <td>60586.0</td>\n",
       "      <td>19900</td>\n",
       "      <td>2021-09-01</td>\n",
       "      <td>5.667468</td>\n",
       "      <td>50000 - 79999</td>\n",
       "      <td>5 - 7</td>\n",
       "      <td>1.6</td>\n",
       "      <td>Hybrid</td>\n",
       "    </tr>\n",
       "  </tbody>\n",
       "</table>\n",
       "</div>"
      ],
      "text/plain": [
       "                                                                                       model_description  \\\n",
       "740     Hyundai Ioniq Hybrid (1.6) **Rahoitus 0,86% + kulut Huoltorahalla**|2016|62 000|18 400 €|06-2021   \n",
       "741  Hyundai Ioniq Hybrid (1.6) DCT Comfort ** ACC / Kaistavahti / Katveavustin / Nahat / P-kamera **...   \n",
       "742  Hyundai Ioniq Hybrid (1.6) DCT Premium ** ACC / Kaistavahti / Katveavustin / Nahat / P-kamera **...   \n",
       "\n",
       "          Year  Mileage  Price  Sold_date       Age  mileage_range age_range  \\\n",
       "740 2016-01-01  62000.0  18400 2021-06-01  5.415580  50000 - 79999     5 - 7   \n",
       "741 2016-01-01  60586.0  19900 2021-08-01  5.582592  50000 - 79999     5 - 7   \n",
       "742 2016-01-01  60586.0  19900 2021-09-01  5.667468  50000 - 79999     5 - 7   \n",
       "\n",
       "    engine   model  \n",
       "740    1.6  Hybrid  \n",
       "741    1.6  Hybrid  \n",
       "742    1.6  Hybrid  "
      ]
     },
     "execution_count": 45,
     "metadata": {},
     "output_type": "execute_result"
    }
   ],
   "source": [
    "df.head(3)"
   ]
  },
  {
   "cell_type": "markdown",
   "id": "62965aa7",
   "metadata": {},
   "source": [
    "## 3. Графики "
   ]
  },
  {
   "cell_type": "code",
   "execution_count": 46,
   "id": "a22b7fe4",
   "metadata": {},
   "outputs": [
    {
     "data": {
      "image/png": "[encoded data removed]",
      "text/plain": [
       "<Figure size 893.18x432 with 1 Axes>"
      ]
     },
     "metadata": {
      "needs_background": "light"
     },
     "output_type": "display_data"
    }
   ],
   "source": [
    "up_limit_budget = 18000\n",
    "target_limit_budget = 15000\n",
    "low_limit_budget = 12000\n",
    "# Use the 'hue' argument to provide a factor variable\n",
    "sns.lmplot( x=\"Mileage\", \n",
    "           y=\"Price\", \n",
    "           data=df, \n",
    "           fit_reg=False, \n",
    "           hue='mileage_range', \n",
    "           legend=True, \n",
    "           height=6, \n",
    "           aspect=15/8.27);\n",
    "ax = plt.gca();\n",
    "ax.set_title(\"Распределение Цена - Пробег. Градация цветов по пробегу.\");\n",
    "plt.axhline(up_limit_budget, linestyle = '-', color ='blue', linewidth = 3);\n",
    "plt.axhline(target_limit_budget, linestyle = '-', color ='grey', linewidth = 1);\n",
    "plt.axhline(low_limit_budget, linestyle = '-', color ='blue', linewidth = 3);"
   ]
  },
  {
   "cell_type": "code",
   "execution_count": 47,
   "id": "c9d21ea8",
   "metadata": {},
   "outputs": [
    {
     "data": {
      "image/png": "[encoded data removed]",
      "text/plain": [
       "<Figure size 844.305x432 with 1 Axes>"
      ]
     },
     "metadata": {
      "needs_background": "light"
     },
     "output_type": "display_data"
    }
   ],
   "source": [
    "# Use the 'hue' argument to provide a factor variable\n",
    "sns.lmplot( x=\"Mileage\", \n",
    "           y=\"Price\", \n",
    "           data=df, \n",
    "           fit_reg=False, \n",
    "           hue='age_range', \n",
    "           legend=True, \n",
    "           height=6,\n",
    "           aspect=15/8.27);\n",
    "ax = plt.gca();\n",
    "ax.set_title(\"Распределение Цена - Пробег. Градация цветов по возрасту.\");\n",
    "plt.axhline(up_limit_budget, linestyle = '-', color ='blue', linewidth = 3);\n",
    "plt.axhline(target_limit_budget, linestyle = '-', color ='grey', linewidth = 1);\n",
    "plt.axhline(low_limit_budget, linestyle = '-', color ='blue', linewidth = 3);\n",
    "plt.axvline(50000, linestyle = '-', color ='blue', linewidth = 3);"
   ]
  },
  {
   "cell_type": "code",
   "execution_count": 48,
   "id": "1644a06a",
   "metadata": {},
   "outputs": [
    {
     "data": {
      "image/png": "[encoded data removed]",
      "text/plain": [
       "<Figure size 835.555x432 with 1 Axes>"
      ]
     },
     "metadata": {
      "needs_background": "light"
     },
     "output_type": "display_data"
    }
   ],
   "source": [
    "# Use the 'hue' argument to provide a factor variable\n",
    "sns.lmplot( x=\"Mileage\", \n",
    "           y=\"Price\", \n",
    "           data=df, \n",
    "           fit_reg=False, \n",
    "           hue='engine', \n",
    "           legend=True, \n",
    "           height=6,\n",
    "           aspect=15/8.27);\n",
    "ax = plt.gca();\n",
    "ax.set_title(\"Распределение Цена - Пробег. Градация цветов по двигателю\");\n",
    "plt.axhline(up_limit_budget, linestyle = '-', color ='blue', linewidth = 3);\n",
    "plt.axhline(target_limit_budget, linestyle = '-', color ='grey', linewidth = 1);\n",
    "plt.axhline(low_limit_budget, linestyle = '-', color ='blue', linewidth = 3);"
   ]
  },
  {
   "cell_type": "code",
   "execution_count": 49,
   "id": "c0b61ff1",
   "metadata": {},
   "outputs": [
    {
     "data": {
      "image/png": "[encoded data removed]",
      "text/plain": [
       "<Figure size 1080x432 with 1 Axes>"
      ]
     },
     "metadata": {
      "needs_background": "light"
     },
     "output_type": "display_data"
    }
   ],
   "source": [
    "fig, ax = plt.subplots(figsize=(15,6))\n",
    "sns.histplot(data=df, x=\"Mileage\", hue=df[\"model\"], multiple=\"dodge\", shrink=.5).set_title('Количество проданных автомобилей и их пробег');"
   ]
  },
  {
   "cell_type": "code",
   "execution_count": 50,
   "id": "503e8195",
   "metadata": {},
   "outputs": [
    {
     "data": {
      "image/png": "[encoded data removed]",
      "text/plain": [
       "<Figure size 1080x432 with 1 Axes>"
      ]
     },
     "metadata": {
      "needs_background": "light"
     },
     "output_type": "display_data"
    }
   ],
   "source": [
    "fig, ax = plt.subplots(figsize=(15,6))\n",
    "sns.distplot( df['Mileage'], \n",
    "             hist=True, \n",
    "             kde=False, \n",
    "             rug=False, \n",
    "             color=\"red\" ).set_title('Количество проданных автомобилей и их пробег');\n",
    "plt.axvline(50000, linestyle = '-.', color ='blue', linewidth = 3);\n",
    "plt.xlabel(\"Mileage\");"
   ]
  },
  {
   "cell_type": "code",
   "execution_count": 51,
   "id": "fc5d0dc1",
   "metadata": {},
   "outputs": [
    {
     "data": {
      "text/html": [
       "<div>\n",
       "<style scoped>\n",
       "    .dataframe tbody tr th:only-of-type {\n",
       "        vertical-align: middle;\n",
       "    }\n",
       "\n",
       "    .dataframe tbody tr th {\n",
       "        vertical-align: top;\n",
       "    }\n",
       "\n",
       "    .dataframe thead th {\n",
       "        text-align: right;\n",
       "    }\n",
       "</style>\n",
       "<table border=\"1\" class=\"dataframe\">\n",
       "  <thead>\n",
       "    <tr style=\"text-align: right;\">\n",
       "      <th></th>\n",
       "      <th>engine</th>\n",
       "      <th>count</th>\n",
       "      <th>median</th>\n",
       "    </tr>\n",
       "  </thead>\n",
       "  <tbody>\n",
       "    <tr>\n",
       "      <th>0</th>\n",
       "      <td>0.0</td>\n",
       "      <td>196</td>\n",
       "      <td>23900</td>\n",
       "    </tr>\n",
       "    <tr>\n",
       "      <th>1</th>\n",
       "      <td>1.6</td>\n",
       "      <td>354</td>\n",
       "      <td>22900</td>\n",
       "    </tr>\n",
       "    <tr>\n",
       "      <th>2</th>\n",
       "      <td>1.8</td>\n",
       "      <td>1</td>\n",
       "      <td>32100</td>\n",
       "    </tr>\n",
       "    <tr>\n",
       "      <th>3</th>\n",
       "      <td>1.9</td>\n",
       "      <td>3</td>\n",
       "      <td>19970</td>\n",
       "    </tr>\n",
       "  </tbody>\n",
       "</table>\n",
       "</div>"
      ],
      "text/plain": [
       "  engine  count  median\n",
       "0    0.0    196   23900\n",
       "1    1.6    354   22900\n",
       "2    1.8      1   32100\n",
       "3    1.9      3   19970"
      ]
     },
     "execution_count": 51,
     "metadata": {},
     "output_type": "execute_result"
    }
   ],
   "source": [
    "pivot_report = pd.pivot_table(df, \n",
    "                              values='Price', \n",
    "                              index=['engine'], \n",
    "                              aggfunc={'count','median'}).reset_index()\n",
    "pivot_report"
   ]
  },
  {
   "cell_type": "code",
   "execution_count": 52,
   "id": "d6166f83",
   "metadata": {},
   "outputs": [
    {
     "data": {
      "image/png": "[encoded data removed]",
      "text/plain": [
       "<Figure size 835.792x432 with 1 Axes>"
      ]
     },
     "metadata": {
      "needs_background": "light"
     },
     "output_type": "display_data"
    }
   ],
   "source": [
    "#fig, ax = plt.subplots(figsize=(15,6))\n",
    "#ax.set_title(\"Распределение Год - Цена\");\n",
    "#use the function regplot to make a scatterplot\n",
    "#sns.regplot(x=df[\"Age\"], y=df[\"Price\"]);\n",
    "\n",
    "sns.lmplot(x=\"Age\", \n",
    "           y=\"Price\", \n",
    "           data=df, \n",
    "           fit_reg=False, \n",
    "           legend=False,\n",
    "           height=6,\n",
    "           aspect=16/8.27)\n",
    "ax = plt.gca();\n",
    "ax.set_title(\"Распределение Цена - Возраст\");\n",
    "plt.axhline(up_limit_budget, linestyle = '-', color ='red', linewidth = 3);\n",
    "plt.axhline(target_limit_budget, linestyle = '-', color ='grey', linewidth = 1);\n",
    "plt.axhline(low_limit_budget, linestyle = '-', color ='red', linewidth = 3);"
   ]
  },
  {
   "cell_type": "code",
   "execution_count": 53,
   "id": "94ee7f31",
   "metadata": {},
   "outputs": [
    {
     "data": {
      "text/html": [
       "<div>\n",
       "<style scoped>\n",
       "    .dataframe tbody tr th:only-of-type {\n",
       "        vertical-align: middle;\n",
       "    }\n",
       "\n",
       "    .dataframe tbody tr th {\n",
       "        vertical-align: top;\n",
       "    }\n",
       "\n",
       "    .dataframe thead th {\n",
       "        text-align: right;\n",
       "    }\n",
       "</style>\n",
       "<table border=\"1\" class=\"dataframe\">\n",
       "  <thead>\n",
       "    <tr style=\"text-align: right;\">\n",
       "      <th></th>\n",
       "      <th>Mileage</th>\n",
       "      <th>Price</th>\n",
       "      <th>Age</th>\n",
       "    </tr>\n",
       "  </thead>\n",
       "  <tbody>\n",
       "    <tr>\n",
       "      <th>Mileage</th>\n",
       "      <td>1.000000</td>\n",
       "      <td>-0.705328</td>\n",
       "      <td>0.607484</td>\n",
       "    </tr>\n",
       "    <tr>\n",
       "      <th>Price</th>\n",
       "      <td>-0.705328</td>\n",
       "      <td>1.000000</td>\n",
       "      <td>-0.757743</td>\n",
       "    </tr>\n",
       "    <tr>\n",
       "      <th>Age</th>\n",
       "      <td>0.607484</td>\n",
       "      <td>-0.757743</td>\n",
       "      <td>1.000000</td>\n",
       "    </tr>\n",
       "  </tbody>\n",
       "</table>\n",
       "</div>"
      ],
      "text/plain": [
       "          Mileage     Price       Age\n",
       "Mileage  1.000000 -0.705328  0.607484\n",
       "Price   -0.705328  1.000000 -0.757743\n",
       "Age      0.607484 -0.757743  1.000000"
      ]
     },
     "execution_count": 53,
     "metadata": {},
     "output_type": "execute_result"
    }
   ],
   "source": [
    "df.corr()"
   ]
  },
  {
   "cell_type": "code",
   "execution_count": 54,
   "id": "398a8d37",
   "metadata": {},
   "outputs": [
    {
     "data": {
      "image/png": "[encoded data removed]",
      "text/plain": [
       "<Figure size 1080x432 with 1 Axes>"
      ]
     },
     "metadata": {
      "needs_background": "light"
     },
     "output_type": "display_data"
    }
   ],
   "source": [
    "fig, ax = plt.subplots(figsize=(15,6))\n",
    "sns.boxplot( x=df[\"model\"], y=df[\"Price\"] );"
   ]
  },
  {
   "cell_type": "code",
   "execution_count": 55,
   "id": "d7a382a5",
   "metadata": {},
   "outputs": [
    {
     "name": "stdout",
     "output_type": "stream",
     "text": [
      "Медианная цена гибрида = 20450.00\n",
      "Медианная цена електро = 23900.00\n"
     ]
    }
   ],
   "source": [
    "Hybrid = df[df['model'] == 'Hybrid']['Price'].median()\n",
    "Electric = df[df['model'] == 'Electric']['Price'].median()\n",
    "\n",
    "print('Медианная цена гибрида = {:.2f}'.format(Hybrid))\n",
    "print('Медианная цена електро = {:.2f}'.format(Electric))"
   ]
  },
  {
   "cell_type": "markdown",
   "id": "b71407ab",
   "metadata": {},
   "source": [
    "## 4. Выборка из того, что интересно для покупки"
   ]
  },
  {
   "cell_type": "code",
   "execution_count": 56,
   "id": "99f26664",
   "metadata": {},
   "outputs": [
    {
     "data": {
      "text/html": [
       "<div>\n",
       "<style scoped>\n",
       "    .dataframe tbody tr th:only-of-type {\n",
       "        vertical-align: middle;\n",
       "    }\n",
       "\n",
       "    .dataframe tbody tr th {\n",
       "        vertical-align: top;\n",
       "    }\n",
       "\n",
       "    .dataframe thead th {\n",
       "        text-align: right;\n",
       "    }\n",
       "</style>\n",
       "<table border=\"1\" class=\"dataframe\">\n",
       "  <thead>\n",
       "    <tr style=\"text-align: right;\">\n",
       "      <th></th>\n",
       "      <th>model_description</th>\n",
       "      <th>Year</th>\n",
       "      <th>Mileage</th>\n",
       "      <th>Price</th>\n",
       "      <th>Sold_date</th>\n",
       "      <th>Age</th>\n",
       "      <th>mileage_range</th>\n",
       "      <th>age_range</th>\n",
       "      <th>engine</th>\n",
       "      <th>model</th>\n",
       "    </tr>\n",
       "  </thead>\n",
       "  <tbody>\n",
       "    <tr>\n",
       "      <th>747</th>\n",
       "      <td>Hyundai Ioniq Hybrid (1.6)|2017|35 000|18 800 €|07-2021</td>\n",
       "      <td>2017-01-01</td>\n",
       "      <td>35000.0</td>\n",
       "      <td>18800</td>\n",
       "      <td>2021-07-01</td>\n",
       "      <td>4.495643</td>\n",
       "      <td>20000 - 49999</td>\n",
       "      <td>3 - 4</td>\n",
       "      <td>1.6</td>\n",
       "      <td>Hybrid</td>\n",
       "    </tr>\n",
       "    <tr>\n",
       "      <th>748</th>\n",
       "      <td>Hyundai Ioniq Hybrid (1.6) DCT Comfort *Navi*Peruutuskamera* *** Tehdastakuu, J. kotiintoimitus|...</td>\n",
       "      <td>2017-01-01</td>\n",
       "      <td>44000.0</td>\n",
       "      <td>16900</td>\n",
       "      <td>2021-07-01</td>\n",
       "      <td>4.495643</td>\n",
       "      <td>20000 - 49999</td>\n",
       "      <td>3 - 4</td>\n",
       "      <td>1.6</td>\n",
       "      <td>Hybrid</td>\n",
       "    </tr>\n",
       "    <tr>\n",
       "      <th>749</th>\n",
       "      <td>Hyundai Ioniq Hybrid (1.6) Hyundai IONIQ HYBRID DCT Style * Hyvillä varusteilla, pieni kulutuksi...</td>\n",
       "      <td>2017-01-01</td>\n",
       "      <td>40000.0</td>\n",
       "      <td>18490</td>\n",
       "      <td>2021-09-01</td>\n",
       "      <td>4.665394</td>\n",
       "      <td>20000 - 49999</td>\n",
       "      <td>3 - 4</td>\n",
       "      <td>1.6</td>\n",
       "      <td>Hybrid</td>\n",
       "    </tr>\n",
       "  </tbody>\n",
       "</table>\n",
       "</div>"
      ],
      "text/plain": [
       "                                                                                       model_description  \\\n",
       "747                                              Hyundai Ioniq Hybrid (1.6)|2017|35 000|18 800 €|07-2021   \n",
       "748  Hyundai Ioniq Hybrid (1.6) DCT Comfort *Navi*Peruutuskamera* *** Tehdastakuu, J. kotiintoimitus|...   \n",
       "749  Hyundai Ioniq Hybrid (1.6) Hyundai IONIQ HYBRID DCT Style * Hyvillä varusteilla, pieni kulutuksi...   \n",
       "\n",
       "          Year  Mileage  Price  Sold_date       Age  mileage_range age_range  \\\n",
       "747 2017-01-01  35000.0  18800 2021-07-01  4.495643  20000 - 49999     3 - 4   \n",
       "748 2017-01-01  44000.0  16900 2021-07-01  4.495643  20000 - 49999     3 - 4   \n",
       "749 2017-01-01  40000.0  18490 2021-09-01  4.665394  20000 - 49999     3 - 4   \n",
       "\n",
       "    engine   model  \n",
       "747    1.6  Hybrid  \n",
       "748    1.6  Hybrid  \n",
       "749    1.6  Hybrid  "
      ]
     },
     "execution_count": 56,
     "metadata": {},
     "output_type": "execute_result"
    }
   ],
   "source": [
    "int = df[(df['mileage_range'] == '< 20000')|(df['mileage_range'] == '20000 - 49999')]\n",
    "int.head(3)"
   ]
  },
  {
   "cell_type": "code",
   "execution_count": 57,
   "id": "7f5c7c38",
   "metadata": {},
   "outputs": [
    {
     "data": {
      "image/png": "[encoded data removed]",
      "text/plain": [
       "<Figure size 1080x432 with 1 Axes>"
      ]
     },
     "metadata": {
      "needs_background": "light"
     },
     "output_type": "display_data"
    }
   ],
   "source": [
    "fig, ax = plt.subplots(figsize=(15,6))\n",
    "sns.boxplot( x=int[\"mileage_range\"], y=int[\"Price\"] );"
   ]
  },
  {
   "cell_type": "code",
   "execution_count": 58,
   "id": "5738e68e",
   "metadata": {},
   "outputs": [],
   "source": [
    "new = df[df['mileage_range'] == '< 20000']\n",
    "semi_new = df[df['mileage_range'] == '20000 - 49999']"
   ]
  },
  {
   "cell_type": "code",
   "execution_count": 59,
   "id": "79a83f1e",
   "metadata": {},
   "outputs": [
    {
     "name": "stdout",
     "output_type": "stream",
     "text": [
      "медианная цена Hyundai Ioniq с пробегом до 20000 км = 27580.00, возраст автомобиля = 1.750\n",
      "медианная цена Hyundai Ioniq с пробегом от 20000 км до 49999 км = 23795.00, возраст автомобиля = 3.496\n"
     ]
    }
   ],
   "source": [
    "new_price = new['Price'].median()\n",
    "new_age = new['Age'].median()\n",
    "print('медианная цена Hyundai Ioniq с пробегом до 20000 км = {:.2f}, возраст автомобиля = {:.3f}'.format(new_price,new_age))\n",
    "\n",
    "seminew_price = semi_new['Price'].median()\n",
    "seminew_age = semi_new['Age'].median()\n",
    "print('медианная цена Hyundai Ioniq с пробегом от 20000 км до 49999 км = {:.2f}, возраст автомобиля = {:.3f}'.format(seminew_price,seminew_age))"
   ]
  },
  {
   "cell_type": "code",
   "execution_count": 60,
   "id": "725db993",
   "metadata": {},
   "outputs": [
    {
     "data": {
      "image/png": "[encoded data removed]",
      "text/plain": [
       "<Figure size 1080x432 with 1 Axes>"
      ]
     },
     "metadata": {
      "needs_background": "light"
     },
     "output_type": "display_data"
    }
   ],
   "source": [
    "fig, ax = plt.subplots(figsize=(15,6))\n",
    "sns.boxplot( x=int[\"mileage_range\"], y=int[\"Age\"] );"
   ]
  },
  {
   "cell_type": "code",
   "execution_count": 61,
   "id": "51c40fc5",
   "metadata": {},
   "outputs": [],
   "source": [
    "start_range = semi_new['Price'].quantile(0.25) # 25%\n",
    "end_range = semi_new['Price'].quantile(0.5) # 50%"
   ]
  },
  {
   "cell_type": "code",
   "execution_count": 62,
   "id": "b344b708",
   "metadata": {},
   "outputs": [
    {
     "name": "stdout",
     "output_type": "stream",
     "text": [
      "выгодная цена для Hyundai Ioniq c пробегом от 20000 км до 49999 км = 22682.50 - 23795.00\n"
     ]
    }
   ],
   "source": [
    "print('выгодная цена для Hyundai Ioniq c пробегом от 20000 км до 49999 км = {:.2f} - {:.2f}'.format(start_range,end_range))"
   ]
  },
  {
   "cell_type": "markdown",
   "id": "44080583",
   "metadata": {},
   "source": [
    "### Выводы"
   ]
  },
  {
   "cell_type": "markdown",
   "id": "e5c0318c",
   "metadata": {},
   "source": [
    "- Появились на рынке финляндии в 2016-2017 году\n",
    "\n",
    "- Медианная цена комплектации гибрид = 20450.00\n",
    "\n",
    "- Медианная цена комлектации електро = 23900.00\n",
    "\n",
    "- медианная цена Hyundai Ioniq с пробегом до 20000 км = 27580.00, возраст автомобиля = 1.750\n",
    "\n",
    "- медианная цена Hyundai Ioniq с пробегом от 20000 км до 49999 км = 23795.00, возраст автомобиля = 3.496\n",
    "\n",
    "- выгодная цена для Hyundai Ioniq c пробегом от 20000 км до 49999 км = 22682.50 - 23795.00"
   ]
  },
  {
   "cell_type": "code",
   "execution_count": null,
   "id": "6b29d031",
   "metadata": {},
   "outputs": [],
   "source": []
  }
 ],
 "metadata": {
  "kernelspec": {
   "display_name": "Python 3",
   "language": "python",
   "name": "python3"
  },
  "language_info": {
   "codemirror_mode": {
    "name": "ipython",
    "version": 3
   },
   "file_extension": ".py",
   "mimetype": "text/x-python",
   "name": "python",
   "nbconvert_exporter": "python",
   "pygments_lexer": "ipython3",
   "version": "3.8.8"
  }
 },
 "nbformat": 4,
 "nbformat_minor": 5
}
