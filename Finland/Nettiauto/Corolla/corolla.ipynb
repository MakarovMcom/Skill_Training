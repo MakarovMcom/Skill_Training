{
 "cells": [
  {
   "cell_type": "markdown",
   "id": "3a1c3429",
   "metadata": {},
   "source": [
    "# Объявления о продаже Toyota Corolla (2013 - 2020 года выпуска). \n",
    "\n",
    "## Данные с сайта nettiauto.com на основе 1472 объявлений"
   ]
  },
  {
   "cell_type": "code",
   "execution_count": 1,
   "id": "c814a094",
   "metadata": {},
   "outputs": [],
   "source": [
    "import re\n",
    "import pandas as pd\n",
    "import numpy as np\n",
    "import seaborn as sns\n",
    "import matplotlib.pyplot as plt\n",
    "\n",
    "#ignore warnings\n",
    "import warnings\n",
    "warnings.filterwarnings('ignore')\n",
    "\n",
    "#set options\n",
    "pd.set_option(\"max_colwidth\", 100)\n",
    "\n",
    "# library & dataset\n",
    "import seaborn as sns"
   ]
  },
  {
   "cell_type": "markdown",
   "id": "c50025e2",
   "metadata": {},
   "source": [
    "## 1. Просмотр датасета"
   ]
  },
  {
   "cell_type": "code",
   "execution_count": 2,
   "id": "bd55d246",
   "metadata": {},
   "outputs": [],
   "source": [
    "df1 = pd.read_csv('corolla1.csv')\n",
    "df2 = pd.read_csv('corolla2.csv')"
   ]
  },
  {
   "cell_type": "code",
   "execution_count": 3,
   "id": "c08c5464",
   "metadata": {},
   "outputs": [],
   "source": [
    "df = pd.concat([df1, df2])"
   ]
  },
  {
   "cell_type": "code",
   "execution_count": 4,
   "id": "a466a789",
   "metadata": {},
   "outputs": [
    {
     "data": {
      "text/html": [
       "<div>\n",
       "<style scoped>\n",
       "    .dataframe tbody tr th:only-of-type {\n",
       "        vertical-align: middle;\n",
       "    }\n",
       "\n",
       "    .dataframe tbody tr th {\n",
       "        vertical-align: top;\n",
       "    }\n",
       "\n",
       "    .dataframe thead th {\n",
       "        text-align: right;\n",
       "    }\n",
       "</style>\n",
       "<table border=\"1\" class=\"dataframe\">\n",
       "  <thead>\n",
       "    <tr style=\"text-align: right;\">\n",
       "      <th></th>\n",
       "      <th>Merkki</th>\n",
       "      <th>Vuosi</th>\n",
       "      <th>Ajettu</th>\n",
       "      <th>Hinta</th>\n",
       "      <th>Date</th>\n",
       "    </tr>\n",
       "  </thead>\n",
       "  <tbody>\n",
       "    <tr>\n",
       "      <th>0</th>\n",
       "      <td>Make &amp; model|Year|Mileage|Price|Sold date</td>\n",
       "      <td>Year</td>\n",
       "      <td>Mileage</td>\n",
       "      <td>Price</td>\n",
       "      <td>Sold date</td>\n",
       "    </tr>\n",
       "    <tr>\n",
       "      <th>1</th>\n",
       "      <td>Toyota Auris (1.8) Touring Sports 1,8 Hybrid ActiveEdtion|2019|23 000|23 850 €|06-2021</td>\n",
       "      <td>2019</td>\n",
       "      <td>23 000</td>\n",
       "      <td>23 850 €</td>\n",
       "      <td>06-2021</td>\n",
       "    </tr>\n",
       "    <tr>\n",
       "      <th>2</th>\n",
       "      <td>Toyota Auris (1.8) Touring Sports 1,8 Hybrid Active Edition|2019|37 000|22 980 €|08-2021</td>\n",
       "      <td>2019</td>\n",
       "      <td>37 000</td>\n",
       "      <td>22 980 €</td>\n",
       "      <td>08-2021</td>\n",
       "    </tr>\n",
       "  </tbody>\n",
       "</table>\n",
       "</div>"
      ],
      "text/plain": [
       "                                                                                     Merkki  \\\n",
       "0                                                 Make & model|Year|Mileage|Price|Sold date   \n",
       "1    Toyota Auris (1.8) Touring Sports 1,8 Hybrid ActiveEdtion|2019|23 000|23 850 €|06-2021   \n",
       "2  Toyota Auris (1.8) Touring Sports 1,8 Hybrid Active Edition|2019|37 000|22 980 €|08-2021   \n",
       "\n",
       "  Vuosi   Ajettu     Hinta       Date  \n",
       "0  Year  Mileage     Price  Sold date  \n",
       "1  2019   23 000  23 850 €    06-2021  \n",
       "2  2019   37 000  22 980 €    08-2021  "
      ]
     },
     "execution_count": 4,
     "metadata": {},
     "output_type": "execute_result"
    }
   ],
   "source": [
    "df.head(3)"
   ]
  },
  {
   "cell_type": "code",
   "execution_count": 5,
   "id": "d3535e65",
   "metadata": {},
   "outputs": [
    {
     "name": "stdout",
     "output_type": "stream",
     "text": [
      "<class 'pandas.core.frame.DataFrame'>\n",
      "Int64Index: 10739 entries, 0 to 738\n",
      "Data columns (total 5 columns):\n",
      " #   Column  Non-Null Count  Dtype \n",
      "---  ------  --------------  ----- \n",
      " 0   Merkki  10739 non-null  object\n",
      " 1   Vuosi   10739 non-null  object\n",
      " 2   Ajettu  10739 non-null  object\n",
      " 3   Hinta   10739 non-null  object\n",
      " 4   Date    10739 non-null  object\n",
      "dtypes: object(5)\n",
      "memory usage: 503.4+ KB\n"
     ]
    }
   ],
   "source": [
    "df.info()"
   ]
  },
  {
   "cell_type": "markdown",
   "id": "a522caab",
   "metadata": {},
   "source": [
    "## 2. Чистка датасета"
   ]
  },
  {
   "cell_type": "code",
   "execution_count": 6,
   "id": "3bfdcd02",
   "metadata": {},
   "outputs": [],
   "source": [
    "# переименуем столбцы\n",
    "df = df.rename(columns = {'Merkki': 'model_description',\n",
    "                         'Vuosi': 'Year',\n",
    "                         'Ajettu': 'Mileage',\n",
    "                         'Hinta': 'Price',\n",
    "                         'Date': 'Sold_date'})"
   ]
  },
  {
   "cell_type": "code",
   "execution_count": 7,
   "id": "68b6a083",
   "metadata": {},
   "outputs": [],
   "source": [
    "# удалим пробелы\n",
    "df['Mileage'] = df['Mileage'].str.replace(\" \", \"\")\n",
    "df['Price'] = df['Price'].str.replace(\" \", \"\")"
   ]
  },
  {
   "cell_type": "code",
   "execution_count": 8,
   "id": "46b749f3",
   "metadata": {},
   "outputs": [
    {
     "data": {
      "text/html": [
       "<div>\n",
       "<style scoped>\n",
       "    .dataframe tbody tr th:only-of-type {\n",
       "        vertical-align: middle;\n",
       "    }\n",
       "\n",
       "    .dataframe tbody tr th {\n",
       "        vertical-align: top;\n",
       "    }\n",
       "\n",
       "    .dataframe thead th {\n",
       "        text-align: right;\n",
       "    }\n",
       "</style>\n",
       "<table border=\"1\" class=\"dataframe\">\n",
       "  <thead>\n",
       "    <tr style=\"text-align: right;\">\n",
       "      <th></th>\n",
       "      <th>model_description</th>\n",
       "      <th>Year</th>\n",
       "      <th>Mileage</th>\n",
       "      <th>Price</th>\n",
       "      <th>Sold_date</th>\n",
       "    </tr>\n",
       "  </thead>\n",
       "  <tbody>\n",
       "    <tr>\n",
       "      <th>9267</th>\n",
       "      <td>Toyota Corolla (1.4) 1.4 D|2013|275 000|6 500 €|07-2021</td>\n",
       "      <td>2013</td>\n",
       "      <td>275000</td>\n",
       "      <td>6500€</td>\n",
       "      <td>07-2021</td>\n",
       "    </tr>\n",
       "    <tr>\n",
       "      <th>9268</th>\n",
       "      <td>Toyota Corolla (1.6) 1,6 Valvematic Linea Sol MultiMode 4ov / Lohkol. + sisäp. *** Korkotarjous ...</td>\n",
       "      <td>2013</td>\n",
       "      <td>67000</td>\n",
       "      <td>13390€</td>\n",
       "      <td>07-2021</td>\n",
       "    </tr>\n",
       "    <tr>\n",
       "      <th>9269</th>\n",
       "      <td>Toyota Corolla (1.6) 1,6 Valvematic Linea Sol 4ov|2013|226 000|10 900 €|06-2021</td>\n",
       "      <td>2013</td>\n",
       "      <td>226000</td>\n",
       "      <td>10900€</td>\n",
       "      <td>06-2021</td>\n",
       "    </tr>\n",
       "    <tr>\n",
       "      <th>9270</th>\n",
       "      <td>Toyota Corolla (1.6) Toyota COROLLA 1,6 Valvematic Linea Sol MultiMode|2013|28 000|13 990 €|06-2021</td>\n",
       "      <td>2013</td>\n",
       "      <td>28000</td>\n",
       "      <td>13990€</td>\n",
       "      <td>06-2021</td>\n",
       "    </tr>\n",
       "    <tr>\n",
       "      <th>9271</th>\n",
       "      <td>Toyota Corolla (1.6) 1,6 Valvematic Linea Sol (MY13)|2013|133 000|9 990 €|05-2021</td>\n",
       "      <td>2013</td>\n",
       "      <td>133000</td>\n",
       "      <td>9990€</td>\n",
       "      <td>05-2021</td>\n",
       "    </tr>\n",
       "    <tr>\n",
       "      <th>...</th>\n",
       "      <td>...</td>\n",
       "      <td>...</td>\n",
       "      <td>...</td>\n",
       "      <td>...</td>\n",
       "      <td>...</td>\n",
       "    </tr>\n",
       "    <tr>\n",
       "      <th>734</th>\n",
       "      <td>Toyota Corolla (1.8) Touring Sports 1,8 Hybrid Active|2020|32 000|26 900 €|11-2021</td>\n",
       "      <td>2020</td>\n",
       "      <td>32000</td>\n",
       "      <td>26900€</td>\n",
       "      <td>11-2021</td>\n",
       "    </tr>\n",
       "    <tr>\n",
       "      <th>735</th>\n",
       "      <td>Toyota Corolla (1.8) 1.8 Hatchback Hybrid Active Edition *Katso Varusteet* - \"!!! 0 KORKO 0, HUL...</td>\n",
       "      <td>2020</td>\n",
       "      <td>10000</td>\n",
       "      <td>26650€</td>\n",
       "      <td>11-2021</td>\n",
       "    </tr>\n",
       "    <tr>\n",
       "      <th>736</th>\n",
       "      <td>Toyota Corolla (1.8) Touring Sports 1,8 Hybrid Active Edition|2020|19 000|26 960 €|11-2021</td>\n",
       "      <td>2020</td>\n",
       "      <td>19000</td>\n",
       "      <td>26960€</td>\n",
       "      <td>11-2021</td>\n",
       "    </tr>\n",
       "    <tr>\n",
       "      <th>737</th>\n",
       "      <td>Toyota Corolla (1.8) Hatchback 1,8 Hybrid Active / Alv-väh.kelp. / Plus-paketti / Lohkol. *** Ko...</td>\n",
       "      <td>2020</td>\n",
       "      <td>27000</td>\n",
       "      <td>25790€(incl.VAT)</td>\n",
       "      <td>11-2021</td>\n",
       "    </tr>\n",
       "    <tr>\n",
       "      <th>738</th>\n",
       "      <td>Toyota Corolla (2)|2020|38 000|28 900 €|11-2021</td>\n",
       "      <td>2020</td>\n",
       "      <td>38000</td>\n",
       "      <td>28900€</td>\n",
       "      <td>11-2021</td>\n",
       "    </tr>\n",
       "  </tbody>\n",
       "</table>\n",
       "<p>1472 rows × 5 columns</p>\n",
       "</div>"
      ],
      "text/plain": [
       "                                                                                        model_description  \\\n",
       "9267                                              Toyota Corolla (1.4) 1.4 D|2013|275 000|6 500 €|07-2021   \n",
       "9268  Toyota Corolla (1.6) 1,6 Valvematic Linea Sol MultiMode 4ov / Lohkol. + sisäp. *** Korkotarjous ...   \n",
       "9269                      Toyota Corolla (1.6) 1,6 Valvematic Linea Sol 4ov|2013|226 000|10 900 €|06-2021   \n",
       "9270  Toyota Corolla (1.6) Toyota COROLLA 1,6 Valvematic Linea Sol MultiMode|2013|28 000|13 990 €|06-2021   \n",
       "9271                    Toyota Corolla (1.6) 1,6 Valvematic Linea Sol (MY13)|2013|133 000|9 990 €|05-2021   \n",
       "...                                                                                                   ...   \n",
       "734                    Toyota Corolla (1.8) Touring Sports 1,8 Hybrid Active|2020|32 000|26 900 €|11-2021   \n",
       "735   Toyota Corolla (1.8) 1.8 Hatchback Hybrid Active Edition *Katso Varusteet* - \"!!! 0 KORKO 0, HUL...   \n",
       "736            Toyota Corolla (1.8) Touring Sports 1,8 Hybrid Active Edition|2020|19 000|26 960 €|11-2021   \n",
       "737   Toyota Corolla (1.8) Hatchback 1,8 Hybrid Active / Alv-väh.kelp. / Plus-paketti / Lohkol. *** Ko...   \n",
       "738                                                       Toyota Corolla (2)|2020|38 000|28 900 €|11-2021   \n",
       "\n",
       "      Year Mileage             Price Sold_date  \n",
       "9267  2013  275000             6500€   07-2021  \n",
       "9268  2013   67000            13390€   07-2021  \n",
       "9269  2013  226000            10900€   06-2021  \n",
       "9270  2013   28000            13990€   06-2021  \n",
       "9271  2013  133000             9990€   05-2021  \n",
       "...    ...     ...               ...       ...  \n",
       "734   2020   32000            26900€   11-2021  \n",
       "735   2020   10000            26650€   11-2021  \n",
       "736   2020   19000            26960€   11-2021  \n",
       "737   2020   27000  25790€(incl.VAT)   11-2021  \n",
       "738   2020   38000            28900€   11-2021  \n",
       "\n",
       "[1472 rows x 5 columns]"
      ]
     },
     "execution_count": 8,
     "metadata": {},
     "output_type": "execute_result"
    }
   ],
   "source": [
    "df.loc[9267:]"
   ]
  },
  {
   "cell_type": "code",
   "execution_count": 9,
   "id": "f643280d",
   "metadata": {},
   "outputs": [
    {
     "data": {
      "text/html": [
       "<div>\n",
       "<style scoped>\n",
       "    .dataframe tbody tr th:only-of-type {\n",
       "        vertical-align: middle;\n",
       "    }\n",
       "\n",
       "    .dataframe tbody tr th {\n",
       "        vertical-align: top;\n",
       "    }\n",
       "\n",
       "    .dataframe thead th {\n",
       "        text-align: right;\n",
       "    }\n",
       "</style>\n",
       "<table border=\"1\" class=\"dataframe\">\n",
       "  <thead>\n",
       "    <tr style=\"text-align: right;\">\n",
       "      <th></th>\n",
       "      <th>model_description</th>\n",
       "      <th>Year</th>\n",
       "      <th>Mileage</th>\n",
       "      <th>Price</th>\n",
       "      <th>Sold_date</th>\n",
       "    </tr>\n",
       "  </thead>\n",
       "  <tbody>\n",
       "    <tr>\n",
       "      <th>9267</th>\n",
       "      <td>Toyota Corolla (1.4) 1.4 D|2013|275 000|6 500 €|07-2021</td>\n",
       "      <td>2013</td>\n",
       "      <td>275000</td>\n",
       "      <td>6500€</td>\n",
       "      <td>07-2021</td>\n",
       "    </tr>\n",
       "    <tr>\n",
       "      <th>9268</th>\n",
       "      <td>Toyota Corolla (1.6) 1,6 Valvematic Linea Sol MultiMode 4ov / Lohkol. + sisäp. *** Korkotarjous ...</td>\n",
       "      <td>2013</td>\n",
       "      <td>67000</td>\n",
       "      <td>13390€</td>\n",
       "      <td>07-2021</td>\n",
       "    </tr>\n",
       "    <tr>\n",
       "      <th>9269</th>\n",
       "      <td>Toyota Corolla (1.6) 1,6 Valvematic Linea Sol 4ov|2013|226 000|10 900 €|06-2021</td>\n",
       "      <td>2013</td>\n",
       "      <td>226000</td>\n",
       "      <td>10900€</td>\n",
       "      <td>06-2021</td>\n",
       "    </tr>\n",
       "  </tbody>\n",
       "</table>\n",
       "</div>"
      ],
      "text/plain": [
       "                                                                                        model_description  \\\n",
       "9267                                              Toyota Corolla (1.4) 1.4 D|2013|275 000|6 500 €|07-2021   \n",
       "9268  Toyota Corolla (1.6) 1,6 Valvematic Linea Sol MultiMode 4ov / Lohkol. + sisäp. *** Korkotarjous ...   \n",
       "9269                      Toyota Corolla (1.6) 1,6 Valvematic Linea Sol 4ov|2013|226 000|10 900 €|06-2021   \n",
       "\n",
       "      Year Mileage   Price Sold_date  \n",
       "9267  2013  275000   6500€   07-2021  \n",
       "9268  2013   67000  13390€   07-2021  \n",
       "9269  2013  226000  10900€   06-2021  "
      ]
     },
     "execution_count": 9,
     "metadata": {},
     "output_type": "execute_result"
    }
   ],
   "source": [
    "# разделим датасеты\n",
    "df = df.loc[9267:]\n",
    "df.head(3)"
   ]
  },
  {
   "cell_type": "code",
   "execution_count": 10,
   "id": "9f84e9c2",
   "metadata": {},
   "outputs": [
    {
     "name": "stdout",
     "output_type": "stream",
     "text": [
      "<class 'pandas.core.frame.DataFrame'>\n",
      "Int64Index: 1472 entries, 9267 to 738\n",
      "Data columns (total 5 columns):\n",
      " #   Column             Non-Null Count  Dtype \n",
      "---  ------             --------------  ----- \n",
      " 0   model_description  1472 non-null   object\n",
      " 1   Year               1472 non-null   object\n",
      " 2   Mileage            1472 non-null   object\n",
      " 3   Price              1472 non-null   object\n",
      " 4   Sold_date          1472 non-null   object\n",
      "dtypes: object(5)\n",
      "memory usage: 69.0+ KB\n"
     ]
    }
   ],
   "source": [
    "df.info()"
   ]
  },
  {
   "cell_type": "code",
   "execution_count": 11,
   "id": "163ae572",
   "metadata": {},
   "outputs": [],
   "source": [
    "# удалим лишнее Vuosi\n",
    "df = df.drop(df.query('Year == \"Vuosi\"').index.values.tolist())\n",
    "df = df.drop(df.query('Year == \"Year\"').index.values.tolist())\n",
    "\n",
    "# удалим данные где дата продажи 0\n",
    "drop_nulls = df.query('Sold_date == \"00-0000\"').index.values.tolist()\n",
    "df = df.drop(drop_nulls)"
   ]
  },
  {
   "cell_type": "code",
   "execution_count": 12,
   "id": "8eadc311",
   "metadata": {},
   "outputs": [
    {
     "data": {
      "text/plain": [
       "array(['2013', '2014', '2015', '2016', '2017', '2018', '2019', '2020'],\n",
       "      dtype=object)"
      ]
     },
     "execution_count": 12,
     "metadata": {},
     "output_type": "execute_result"
    }
   ],
   "source": [
    "df['Year'].unique()"
   ]
  },
  {
   "cell_type": "code",
   "execution_count": 13,
   "id": "62c0b9dd",
   "metadata": {},
   "outputs": [],
   "source": [
    "# приведем к формату времени\n",
    "df['Year'] = pd.to_datetime(df['Year'], format='%Y')"
   ]
  },
  {
   "cell_type": "code",
   "execution_count": 14,
   "id": "5d519780",
   "metadata": {},
   "outputs": [],
   "source": [
    "# приведем к формату времени\n",
    "df['Sold_date'] = pd.to_datetime(df['Sold_date'], format='%m-%Y')"
   ]
  },
  {
   "cell_type": "code",
   "execution_count": 15,
   "id": "389a7437",
   "metadata": {},
   "outputs": [],
   "source": [
    "# удалим данные где мили Eiilmoitettu\n",
    "drop_next = df[df['Mileage'] == 'Eiilmoitettu'].index.values.tolist()\n",
    "for i in drop_next:\n",
    "    df = df.drop(index = i)"
   ]
  },
  {
   "cell_type": "code",
   "execution_count": 16,
   "id": "738ea0ba",
   "metadata": {},
   "outputs": [],
   "source": [
    "# удалим данные где мили Eihin\n",
    "drop_a = df[df['Price'] == 'Eihin'].index.values.tolist()\n",
    "for i in drop_a:\n",
    "    df = df.drop(index = i)"
   ]
  },
  {
   "cell_type": "code",
   "execution_count": 17,
   "id": "bb4a0c72",
   "metadata": {},
   "outputs": [],
   "source": [
    "# удалим данные где не указан пробег\n",
    "drop_ns = df[df['Mileage'] == 'Notspecified'].index.values.tolist()\n",
    "for i in drop_ns:\n",
    "    df = df.drop(index = i)"
   ]
  },
  {
   "cell_type": "code",
   "execution_count": 18,
   "id": "de7608ec",
   "metadata": {},
   "outputs": [],
   "source": [
    "# мили целочисленные значения\n",
    "df['Mileage'] = df['Mileage'].astype('float64') "
   ]
  },
  {
   "cell_type": "code",
   "execution_count": 19,
   "id": "077c87a9",
   "metadata": {},
   "outputs": [],
   "source": [
    "# цена 5 знаков\n",
    "df['Price'] = df['Price'].str[:5]\n",
    "# удалим пробелы\n",
    "df['Price'] = df['Price'].str.replace(\"€\", \"\")"
   ]
  },
  {
   "cell_type": "code",
   "execution_count": 20,
   "id": "80c20455",
   "metadata": {},
   "outputs": [],
   "source": [
    "# удалим данные где цена Eihin\n",
    "drop_a = df[df['Price'] == 'Eihin'].index.values.tolist()\n",
    "for i in drop_a:\n",
    "    df = df.drop(index = i)"
   ]
  },
  {
   "cell_type": "code",
   "execution_count": 21,
   "id": "538cbe49",
   "metadata": {},
   "outputs": [],
   "source": [
    "# удалим данные где цена Notpr\n",
    "drop_nt = df[df['Price'] == 'Notpr'].index.values.tolist()\n",
    "for i in drop_nt:\n",
    "    df = df.drop(index = i)"
   ]
  },
  {
   "cell_type": "code",
   "execution_count": 22,
   "id": "cb629370",
   "metadata": {},
   "outputs": [],
   "source": [
    "# сделаем цену целочисленным значением\n",
    "df['Price'] = df['Price'].astype(int) "
   ]
  },
  {
   "cell_type": "code",
   "execution_count": 23,
   "id": "7bc41ca7",
   "metadata": {},
   "outputs": [
    {
     "name": "stdout",
     "output_type": "stream",
     "text": [
      "<class 'pandas.core.frame.DataFrame'>\n",
      "Int64Index: 1436 entries, 9267 to 738\n",
      "Data columns (total 5 columns):\n",
      " #   Column             Non-Null Count  Dtype         \n",
      "---  ------             --------------  -----         \n",
      " 0   model_description  1436 non-null   object        \n",
      " 1   Year               1436 non-null   datetime64[ns]\n",
      " 2   Mileage            1436 non-null   float64       \n",
      " 3   Price              1436 non-null   int64         \n",
      " 4   Sold_date          1436 non-null   datetime64[ns]\n",
      "dtypes: datetime64[ns](2), float64(1), int64(1), object(1)\n",
      "memory usage: 67.3+ KB\n"
     ]
    }
   ],
   "source": [
    "df.info()"
   ]
  },
  {
   "cell_type": "code",
   "execution_count": 24,
   "id": "cf9e9b48",
   "metadata": {},
   "outputs": [
    {
     "data": {
      "text/html": [
       "<div>\n",
       "<style scoped>\n",
       "    .dataframe tbody tr th:only-of-type {\n",
       "        vertical-align: middle;\n",
       "    }\n",
       "\n",
       "    .dataframe tbody tr th {\n",
       "        vertical-align: top;\n",
       "    }\n",
       "\n",
       "    .dataframe thead th {\n",
       "        text-align: right;\n",
       "    }\n",
       "</style>\n",
       "<table border=\"1\" class=\"dataframe\">\n",
       "  <thead>\n",
       "    <tr style=\"text-align: right;\">\n",
       "      <th></th>\n",
       "      <th>model_description</th>\n",
       "      <th>Year</th>\n",
       "      <th>Mileage</th>\n",
       "      <th>Price</th>\n",
       "      <th>Sold_date</th>\n",
       "    </tr>\n",
       "  </thead>\n",
       "  <tbody>\n",
       "    <tr>\n",
       "      <th>9267</th>\n",
       "      <td>Toyota Corolla (1.4) 1.4 D|2013|275 000|6 500 €|07-2021</td>\n",
       "      <td>2013-01-01</td>\n",
       "      <td>275000.0</td>\n",
       "      <td>6500</td>\n",
       "      <td>2021-07-01</td>\n",
       "    </tr>\n",
       "    <tr>\n",
       "      <th>9268</th>\n",
       "      <td>Toyota Corolla (1.6) 1,6 Valvematic Linea Sol MultiMode 4ov / Lohkol. + sisäp. *** Korkotarjous ...</td>\n",
       "      <td>2013-01-01</td>\n",
       "      <td>67000.0</td>\n",
       "      <td>13390</td>\n",
       "      <td>2021-07-01</td>\n",
       "    </tr>\n",
       "    <tr>\n",
       "      <th>9269</th>\n",
       "      <td>Toyota Corolla (1.6) 1,6 Valvematic Linea Sol 4ov|2013|226 000|10 900 €|06-2021</td>\n",
       "      <td>2013-01-01</td>\n",
       "      <td>226000.0</td>\n",
       "      <td>10900</td>\n",
       "      <td>2021-06-01</td>\n",
       "    </tr>\n",
       "  </tbody>\n",
       "</table>\n",
       "</div>"
      ],
      "text/plain": [
       "                                                                                        model_description  \\\n",
       "9267                                              Toyota Corolla (1.4) 1.4 D|2013|275 000|6 500 €|07-2021   \n",
       "9268  Toyota Corolla (1.6) 1,6 Valvematic Linea Sol MultiMode 4ov / Lohkol. + sisäp. *** Korkotarjous ...   \n",
       "9269                      Toyota Corolla (1.6) 1,6 Valvematic Linea Sol 4ov|2013|226 000|10 900 €|06-2021   \n",
       "\n",
       "           Year   Mileage  Price  Sold_date  \n",
       "9267 2013-01-01  275000.0   6500 2021-07-01  \n",
       "9268 2013-01-01   67000.0  13390 2021-07-01  \n",
       "9269 2013-01-01  226000.0  10900 2021-06-01  "
      ]
     },
     "execution_count": 24,
     "metadata": {},
     "output_type": "execute_result"
    }
   ],
   "source": [
    "df.head(3)"
   ]
  },
  {
   "cell_type": "code",
   "execution_count": 25,
   "id": "1d6ffd99",
   "metadata": {},
   "outputs": [
    {
     "name": "stdout",
     "output_type": "stream",
     "text": [
      "<class 'pandas.core.frame.DataFrame'>\n",
      "Int64Index: 1436 entries, 9267 to 738\n",
      "Data columns (total 5 columns):\n",
      " #   Column             Non-Null Count  Dtype         \n",
      "---  ------             --------------  -----         \n",
      " 0   model_description  1436 non-null   object        \n",
      " 1   Year               1436 non-null   datetime64[ns]\n",
      " 2   Mileage            1436 non-null   float64       \n",
      " 3   Price              1436 non-null   int64         \n",
      " 4   Sold_date          1436 non-null   datetime64[ns]\n",
      "dtypes: datetime64[ns](2), float64(1), int64(1), object(1)\n",
      "memory usage: 67.3+ KB\n"
     ]
    }
   ],
   "source": [
    "df.info()"
   ]
  },
  {
   "cell_type": "code",
   "execution_count": 26,
   "id": "6a385c92",
   "metadata": {},
   "outputs": [
    {
     "data": {
      "text/html": [
       "<div>\n",
       "<style scoped>\n",
       "    .dataframe tbody tr th:only-of-type {\n",
       "        vertical-align: middle;\n",
       "    }\n",
       "\n",
       "    .dataframe tbody tr th {\n",
       "        vertical-align: top;\n",
       "    }\n",
       "\n",
       "    .dataframe thead th {\n",
       "        text-align: right;\n",
       "    }\n",
       "</style>\n",
       "<table border=\"1\" class=\"dataframe\">\n",
       "  <thead>\n",
       "    <tr style=\"text-align: right;\">\n",
       "      <th></th>\n",
       "      <th>model_description</th>\n",
       "      <th>Year</th>\n",
       "      <th>Mileage</th>\n",
       "      <th>Price</th>\n",
       "      <th>Sold_date</th>\n",
       "      <th>Age</th>\n",
       "    </tr>\n",
       "  </thead>\n",
       "  <tbody>\n",
       "    <tr>\n",
       "      <th>9267</th>\n",
       "      <td>Toyota Corolla (1.4) 1.4 D|2013|275 000|6 500 €|07-2021</td>\n",
       "      <td>2013-01-01</td>\n",
       "      <td>275000.0</td>\n",
       "      <td>6500</td>\n",
       "      <td>2021-07-01</td>\n",
       "      <td>8.495725</td>\n",
       "    </tr>\n",
       "    <tr>\n",
       "      <th>9268</th>\n",
       "      <td>Toyota Corolla (1.6) 1,6 Valvematic Linea Sol MultiMode 4ov / Lohkol. + sisäp. *** Korkotarjous ...</td>\n",
       "      <td>2013-01-01</td>\n",
       "      <td>67000.0</td>\n",
       "      <td>13390</td>\n",
       "      <td>2021-07-01</td>\n",
       "      <td>8.495725</td>\n",
       "    </tr>\n",
       "    <tr>\n",
       "      <th>9269</th>\n",
       "      <td>Toyota Corolla (1.6) 1,6 Valvematic Linea Sol 4ov|2013|226 000|10 900 €|06-2021</td>\n",
       "      <td>2013-01-01</td>\n",
       "      <td>226000.0</td>\n",
       "      <td>10900</td>\n",
       "      <td>2021-06-01</td>\n",
       "      <td>8.413588</td>\n",
       "    </tr>\n",
       "  </tbody>\n",
       "</table>\n",
       "</div>"
      ],
      "text/plain": [
       "                                                                                        model_description  \\\n",
       "9267                                              Toyota Corolla (1.4) 1.4 D|2013|275 000|6 500 €|07-2021   \n",
       "9268  Toyota Corolla (1.6) 1,6 Valvematic Linea Sol MultiMode 4ov / Lohkol. + sisäp. *** Korkotarjous ...   \n",
       "9269                      Toyota Corolla (1.6) 1,6 Valvematic Linea Sol 4ov|2013|226 000|10 900 €|06-2021   \n",
       "\n",
       "           Year   Mileage  Price  Sold_date       Age  \n",
       "9267 2013-01-01  275000.0   6500 2021-07-01  8.495725  \n",
       "9268 2013-01-01   67000.0  13390 2021-07-01  8.495725  \n",
       "9269 2013-01-01  226000.0  10900 2021-06-01  8.413588  "
      ]
     },
     "execution_count": 26,
     "metadata": {},
     "output_type": "execute_result"
    }
   ],
   "source": [
    "df['Age'] = (df['Sold_date'] - df['Year']) / np.timedelta64(1, 'Y')\n",
    "df.head(3)"
   ]
  },
  {
   "cell_type": "code",
   "execution_count": 27,
   "id": "43478469",
   "metadata": {},
   "outputs": [
    {
     "data": {
      "text/html": [
       "<div>\n",
       "<style scoped>\n",
       "    .dataframe tbody tr th:only-of-type {\n",
       "        vertical-align: middle;\n",
       "    }\n",
       "\n",
       "    .dataframe tbody tr th {\n",
       "        vertical-align: top;\n",
       "    }\n",
       "\n",
       "    .dataframe thead th {\n",
       "        text-align: right;\n",
       "    }\n",
       "</style>\n",
       "<table border=\"1\" class=\"dataframe\">\n",
       "  <thead>\n",
       "    <tr style=\"text-align: right;\">\n",
       "      <th></th>\n",
       "      <th>Mileage</th>\n",
       "      <th>Price</th>\n",
       "      <th>Age</th>\n",
       "    </tr>\n",
       "  </thead>\n",
       "  <tbody>\n",
       "    <tr>\n",
       "      <th>count</th>\n",
       "      <td>1436.000000</td>\n",
       "      <td>1436.000000</td>\n",
       "      <td>1436.000000</td>\n",
       "    </tr>\n",
       "    <tr>\n",
       "      <th>mean</th>\n",
       "      <td>39663.196379</td>\n",
       "      <td>25144.845404</td>\n",
       "      <td>2.958892</td>\n",
       "    </tr>\n",
       "    <tr>\n",
       "      <th>std</th>\n",
       "      <td>36691.834108</td>\n",
       "      <td>4997.795631</td>\n",
       "      <td>1.831254</td>\n",
       "    </tr>\n",
       "    <tr>\n",
       "      <th>min</th>\n",
       "      <td>300.000000</td>\n",
       "      <td>5990.000000</td>\n",
       "      <td>1.330623</td>\n",
       "    </tr>\n",
       "    <tr>\n",
       "      <th>25%</th>\n",
       "      <td>16000.000000</td>\n",
       "      <td>23670.000000</td>\n",
       "      <td>1.749523</td>\n",
       "    </tr>\n",
       "    <tr>\n",
       "      <th>50%</th>\n",
       "      <td>29000.000000</td>\n",
       "      <td>26500.000000</td>\n",
       "      <td>2.496971</td>\n",
       "    </tr>\n",
       "    <tr>\n",
       "      <th>75%</th>\n",
       "      <td>48000.000000</td>\n",
       "      <td>27900.000000</td>\n",
       "      <td>2.748859</td>\n",
       "    </tr>\n",
       "    <tr>\n",
       "      <th>max</th>\n",
       "      <td>319000.000000</td>\n",
       "      <td>38880.000000</td>\n",
       "      <td>8.747613</td>\n",
       "    </tr>\n",
       "  </tbody>\n",
       "</table>\n",
       "</div>"
      ],
      "text/plain": [
       "             Mileage         Price          Age\n",
       "count    1436.000000   1436.000000  1436.000000\n",
       "mean    39663.196379  25144.845404     2.958892\n",
       "std     36691.834108   4997.795631     1.831254\n",
       "min       300.000000   5990.000000     1.330623\n",
       "25%     16000.000000  23670.000000     1.749523\n",
       "50%     29000.000000  26500.000000     2.496971\n",
       "75%     48000.000000  27900.000000     2.748859\n",
       "max    319000.000000  38880.000000     8.747613"
      ]
     },
     "execution_count": 27,
     "metadata": {},
     "output_type": "execute_result"
    }
   ],
   "source": [
    "df.describe()"
   ]
  },
  {
   "cell_type": "code",
   "execution_count": 28,
   "id": "5aa0885d",
   "metadata": {},
   "outputs": [],
   "source": [
    "# дропнем аномалию c пробегом\n",
    "# max = df['Mileage'].max()\n",
    "# drop_max = df.query('Mileage == 1310000').index.values.tolist()\n",
    "# df = df.drop(drop_max)\n",
    "# df.head(3)"
   ]
  },
  {
   "cell_type": "code",
   "execution_count": 29,
   "id": "845217cb",
   "metadata": {},
   "outputs": [],
   "source": [
    "# сделаем градацию по пробегу \n",
    "\n",
    "def mileage(col):\n",
    "    if col < 20000:\n",
    "        return \"< 20000\"\n",
    "    elif 20000 <= col < 50000 :\n",
    "        return \"20000 - 49999\"\n",
    "    elif 50000 <= col < 79999 :\n",
    "        return \"50000 - 79999\"\n",
    "    elif 80000 <= col < 100000 :\n",
    "        return \"80000 - 99999\"\n",
    "    else:\n",
    "        return \">= 100000\"\n",
    "\n",
    "# произведем замену значений в DF\n",
    "df['mileage_range'] = df['Mileage'].apply(mileage)"
   ]
  },
  {
   "cell_type": "code",
   "execution_count": 30,
   "id": "b35ae350",
   "metadata": {},
   "outputs": [],
   "source": [
    "# сделаем градацию по пробегу \n",
    "\n",
    "def ages_range(col):\n",
    "    if col < 3:\n",
    "        return \"< 3\"\n",
    "    elif 3 <= col < 5 :\n",
    "        return \"3 - 4\"\n",
    "    elif 5 <= col < 8 :\n",
    "        return \"5 - 7\"\n",
    "    else:\n",
    "        return \">= 8\"\n",
    "\n",
    "# произведем замену значений в DF\n",
    "df['age_range'] = df['Age'].apply(ages_range)"
   ]
  },
  {
   "cell_type": "markdown",
   "id": "9f4e1df7",
   "metadata": {},
   "source": [
    "#### смотрим двигатели"
   ]
  },
  {
   "cell_type": "code",
   "execution_count": 31,
   "id": "466dc00d",
   "metadata": {},
   "outputs": [
    {
     "data": {
      "text/html": [
       "<div>\n",
       "<style scoped>\n",
       "    .dataframe tbody tr th:only-of-type {\n",
       "        vertical-align: middle;\n",
       "    }\n",
       "\n",
       "    .dataframe tbody tr th {\n",
       "        vertical-align: top;\n",
       "    }\n",
       "\n",
       "    .dataframe thead th {\n",
       "        text-align: right;\n",
       "    }\n",
       "</style>\n",
       "<table border=\"1\" class=\"dataframe\">\n",
       "  <thead>\n",
       "    <tr style=\"text-align: right;\">\n",
       "      <th></th>\n",
       "      <th>model_description</th>\n",
       "      <th>Year</th>\n",
       "      <th>Mileage</th>\n",
       "      <th>Price</th>\n",
       "      <th>Sold_date</th>\n",
       "      <th>Age</th>\n",
       "      <th>mileage_range</th>\n",
       "      <th>age_range</th>\n",
       "      <th>engine</th>\n",
       "    </tr>\n",
       "  </thead>\n",
       "  <tbody>\n",
       "    <tr>\n",
       "      <th>9267</th>\n",
       "      <td>Toyota Corolla (1.4) 1.4 D|2013|275 000|6 500 €|07-2021</td>\n",
       "      <td>2013-01-01</td>\n",
       "      <td>275000.0</td>\n",
       "      <td>6500</td>\n",
       "      <td>2021-07-01</td>\n",
       "      <td>8.495725</td>\n",
       "      <td>&gt;= 100000</td>\n",
       "      <td>&gt;= 8</td>\n",
       "      <td>1.4</td>\n",
       "    </tr>\n",
       "    <tr>\n",
       "      <th>9268</th>\n",
       "      <td>Toyota Corolla (1.6) 1,6 Valvematic Linea Sol MultiMode 4ov / Lohkol. + sisäp. *** Korkotarjous ...</td>\n",
       "      <td>2013-01-01</td>\n",
       "      <td>67000.0</td>\n",
       "      <td>13390</td>\n",
       "      <td>2021-07-01</td>\n",
       "      <td>8.495725</td>\n",
       "      <td>50000 - 79999</td>\n",
       "      <td>&gt;= 8</td>\n",
       "      <td>1.6</td>\n",
       "    </tr>\n",
       "    <tr>\n",
       "      <th>9269</th>\n",
       "      <td>Toyota Corolla (1.6) 1,6 Valvematic Linea Sol 4ov|2013|226 000|10 900 €|06-2021</td>\n",
       "      <td>2013-01-01</td>\n",
       "      <td>226000.0</td>\n",
       "      <td>10900</td>\n",
       "      <td>2021-06-01</td>\n",
       "      <td>8.413588</td>\n",
       "      <td>&gt;= 100000</td>\n",
       "      <td>&gt;= 8</td>\n",
       "      <td>1.6</td>\n",
       "    </tr>\n",
       "  </tbody>\n",
       "</table>\n",
       "</div>"
      ],
      "text/plain": [
       "                                                                                        model_description  \\\n",
       "9267                                              Toyota Corolla (1.4) 1.4 D|2013|275 000|6 500 €|07-2021   \n",
       "9268  Toyota Corolla (1.6) 1,6 Valvematic Linea Sol MultiMode 4ov / Lohkol. + sisäp. *** Korkotarjous ...   \n",
       "9269                      Toyota Corolla (1.6) 1,6 Valvematic Linea Sol 4ov|2013|226 000|10 900 €|06-2021   \n",
       "\n",
       "           Year   Mileage  Price  Sold_date       Age  mileage_range  \\\n",
       "9267 2013-01-01  275000.0   6500 2021-07-01  8.495725      >= 100000   \n",
       "9268 2013-01-01   67000.0  13390 2021-07-01  8.495725  50000 - 79999   \n",
       "9269 2013-01-01  226000.0  10900 2021-06-01  8.413588      >= 100000   \n",
       "\n",
       "     age_range engine  \n",
       "9267      >= 8    1.4  \n",
       "9268      >= 8    1.6  \n",
       "9269      >= 8    1.6  "
      ]
     },
     "execution_count": 31,
     "metadata": {},
     "output_type": "execute_result"
    }
   ],
   "source": [
    "# посмотрим на мотор\n",
    "df['engine'] = df['model_description'].str.extract(r'(\\d.\\d)')\n",
    "df.head(3)"
   ]
  },
  {
   "cell_type": "code",
   "execution_count": 32,
   "id": "98426b1a",
   "metadata": {},
   "outputs": [
    {
     "data": {
      "text/plain": [
       "array(['1.4', '1.6', '1.3', '1.8', '1.2', '2,0', '2.0', '201', '202'],\n",
       "      dtype=object)"
      ]
     },
     "execution_count": 32,
     "metadata": {},
     "output_type": "execute_result"
    }
   ],
   "source": [
    "df['engine'].unique()"
   ]
  },
  {
   "cell_type": "code",
   "execution_count": 33,
   "id": "08fcd490",
   "metadata": {},
   "outputs": [],
   "source": [
    "# выбросы \"201=(2.0)\", \"2,0=(2.0)\", \"0,9=(2.0)\"\n",
    "#df.query('engine == \"202\"')"
   ]
  },
  {
   "cell_type": "code",
   "execution_count": 34,
   "id": "7ed944bc",
   "metadata": {},
   "outputs": [],
   "source": [
    "df.loc[df['engine'] == '2,0','engine'] = '2.0'\n",
    "df.loc[df['engine'] == '201','engine'] = '2.0'\n",
    "df.loc[df['engine'] == '202','engine'] = '2.0'\n",
    "#df.loc[df['engine'] == '0,9','engine'] = '2.0'\n",
    "#df.loc[df['engine'] == '155','engine'] = '2.0'\n",
    "#df.loc[df['engine'] == '3.1','engine'] = '2.0'\n",
    "#df.loc[df['engine'] == '1.9','engine'] = '2.0'\n",
    "#df.loc[df['engine'] == '0.9','engine'] = '2.0'\n",
    "#df.loc[df['engine'] == '1,9','engine'] = '1.0'\n",
    "#df.loc[df['engine'] == '196','engine'] = '2.0'\n",
    "#df.loc[df['engine'] == '150','engine'] = '2.0'\n",
    "#df.loc[df['engine'] == '9.8','engine'] = '2.0'\n",
    "#df.loc[df['engine'] == '202','engine'] = '2.0'\n",
    "#df.loc[df['engine'] == '1,0','engine'] = '1.0'"
   ]
  },
  {
   "cell_type": "markdown",
   "id": "62965aa7",
   "metadata": {},
   "source": [
    "## 3. Графики "
   ]
  },
  {
   "cell_type": "code",
   "execution_count": 35,
   "id": "a22b7fe4",
   "metadata": {},
   "outputs": [
    {
     "data": {
      "image/png": "[encoded data removed]",
      "text/plain": [
       "<Figure size 893.18x432 with 1 Axes>"
      ]
     },
     "metadata": {
      "needs_background": "light"
     },
     "output_type": "display_data"
    }
   ],
   "source": [
    "up_limit_budget = 18000\n",
    "target_limit_budget = 15000\n",
    "low_limit_budget = 12000\n",
    "# Use the 'hue' argument to provide a factor variable\n",
    "sns.lmplot( x=\"Mileage\", \n",
    "           y=\"Price\", \n",
    "           data=df, \n",
    "           fit_reg=False, \n",
    "           hue='mileage_range', \n",
    "           legend=True, \n",
    "           height=6, \n",
    "           aspect=15/8.27);\n",
    "ax = plt.gca();\n",
    "ax.set_title(\"Распределение Цена - Пробег. Градация цветов по пробегу.\");\n",
    "plt.axhline(up_limit_budget, linestyle = '-', color ='blue', linewidth = 3);\n",
    "plt.axhline(target_limit_budget, linestyle = '-', color ='grey', linewidth = 1);\n",
    "plt.axhline(low_limit_budget, linestyle = '-', color ='blue', linewidth = 3);"
   ]
  },
  {
   "cell_type": "code",
   "execution_count": 36,
   "id": "c9d21ea8",
   "metadata": {},
   "outputs": [
    {
     "data": {
      "image/png": "[encoded data removed]",
      "text/plain": [
       "<Figure size 845.68x432 with 1 Axes>"
      ]
     },
     "metadata": {
      "needs_background": "light"
     },
     "output_type": "display_data"
    }
   ],
   "source": [
    "# Use the 'hue' argument to provide a factor variable\n",
    "sns.lmplot( x=\"Mileage\", \n",
    "           y=\"Price\", \n",
    "           data=df, \n",
    "           fit_reg=False, \n",
    "           hue='age_range', \n",
    "           legend=True, \n",
    "           height=6,\n",
    "           aspect=15/8.27);\n",
    "ax = plt.gca();\n",
    "ax.set_title(\"Распределение Цена - Пробег. Градация цветов по возрасту.\");\n",
    "plt.axhline(up_limit_budget, linestyle = '-', color ='blue', linewidth = 3);\n",
    "plt.axhline(target_limit_budget, linestyle = '-', color ='grey', linewidth = 1);\n",
    "plt.axhline(low_limit_budget, linestyle = '-', color ='blue', linewidth = 3);\n",
    "plt.axvline(50000, linestyle = '-', color ='blue', linewidth = 3);"
   ]
  },
  {
   "cell_type": "code",
   "execution_count": 37,
   "id": "1644a06a",
   "metadata": {},
   "outputs": [
    {
     "data": {
      "image/png": "[encoded data removed]",
      "text/plain": [
       "<Figure size 835.555x432 with 1 Axes>"
      ]
     },
     "metadata": {
      "needs_background": "light"
     },
     "output_type": "display_data"
    }
   ],
   "source": [
    "# Use the 'hue' argument to provide a factor variable\n",
    "sns.lmplot( x=\"Mileage\", \n",
    "           y=\"Price\", \n",
    "           data=df, \n",
    "           fit_reg=False, \n",
    "           hue='engine', \n",
    "           legend=True, \n",
    "           height=6,\n",
    "           aspect=15/8.27);\n",
    "ax = plt.gca();\n",
    "ax.set_title(\"Распределение Цена - Пробег. Градация цветов по двигателю\");\n",
    "plt.axhline(up_limit_budget, linestyle = '-', color ='blue', linewidth = 3);\n",
    "plt.axhline(target_limit_budget, linestyle = '-', color ='grey', linewidth = 1);\n",
    "plt.axhline(low_limit_budget, linestyle = '-', color ='blue', linewidth = 3);"
   ]
  },
  {
   "cell_type": "code",
   "execution_count": 38,
   "id": "503e8195",
   "metadata": {},
   "outputs": [
    {
     "data": {
      "image/png": "[encoded data removed]",
      "text/plain": [
       "<Figure size 1080x432 with 1 Axes>"
      ]
     },
     "metadata": {
      "needs_background": "light"
     },
     "output_type": "display_data"
    }
   ],
   "source": [
    "fig, ax = plt.subplots(figsize=(15,6))\n",
    "sns.distplot( df['Mileage'], \n",
    "             hist=True, \n",
    "             kde=False, \n",
    "             rug=False, \n",
    "             color=\"red\" ).set_title('Количество проданных автомобилей и их пробег');\n",
    "plt.axvline(50000, linestyle = '-.', color ='blue', linewidth = 3);\n",
    "plt.xlabel(\"Mileage\");"
   ]
  },
  {
   "cell_type": "code",
   "execution_count": 39,
   "id": "fc5d0dc1",
   "metadata": {},
   "outputs": [
    {
     "data": {
      "text/html": [
       "<div>\n",
       "<style scoped>\n",
       "    .dataframe tbody tr th:only-of-type {\n",
       "        vertical-align: middle;\n",
       "    }\n",
       "\n",
       "    .dataframe tbody tr th {\n",
       "        vertical-align: top;\n",
       "    }\n",
       "\n",
       "    .dataframe thead th {\n",
       "        text-align: right;\n",
       "    }\n",
       "</style>\n",
       "<table border=\"1\" class=\"dataframe\">\n",
       "  <thead>\n",
       "    <tr style=\"text-align: right;\">\n",
       "      <th></th>\n",
       "      <th>engine</th>\n",
       "      <th>count</th>\n",
       "      <th>median</th>\n",
       "    </tr>\n",
       "  </thead>\n",
       "  <tbody>\n",
       "    <tr>\n",
       "      <th>0</th>\n",
       "      <td>1.2</td>\n",
       "      <td>94</td>\n",
       "      <td>22990</td>\n",
       "    </tr>\n",
       "    <tr>\n",
       "      <th>1</th>\n",
       "      <td>1.3</td>\n",
       "      <td>5</td>\n",
       "      <td>11995</td>\n",
       "    </tr>\n",
       "    <tr>\n",
       "      <th>2</th>\n",
       "      <td>1.4</td>\n",
       "      <td>9</td>\n",
       "      <td>7900</td>\n",
       "    </tr>\n",
       "    <tr>\n",
       "      <th>3</th>\n",
       "      <td>1.6</td>\n",
       "      <td>260</td>\n",
       "      <td>16900</td>\n",
       "    </tr>\n",
       "    <tr>\n",
       "      <th>4</th>\n",
       "      <td>1.8</td>\n",
       "      <td>750</td>\n",
       "      <td>26880</td>\n",
       "    </tr>\n",
       "    <tr>\n",
       "      <th>5</th>\n",
       "      <td>2.0</td>\n",
       "      <td>318</td>\n",
       "      <td>28880</td>\n",
       "    </tr>\n",
       "  </tbody>\n",
       "</table>\n",
       "</div>"
      ],
      "text/plain": [
       "  engine  count  median\n",
       "0    1.2     94   22990\n",
       "1    1.3      5   11995\n",
       "2    1.4      9    7900\n",
       "3    1.6    260   16900\n",
       "4    1.8    750   26880\n",
       "5    2.0    318   28880"
      ]
     },
     "execution_count": 39,
     "metadata": {},
     "output_type": "execute_result"
    }
   ],
   "source": [
    "pivot_report = pd.pivot_table(df, \n",
    "                              values='Price', \n",
    "                              index=['engine'], \n",
    "                              aggfunc={'count','median'}).reset_index()\n",
    "pivot_report"
   ]
  },
  {
   "cell_type": "code",
   "execution_count": 40,
   "id": "d6166f83",
   "metadata": {},
   "outputs": [
    {
     "data": {
      "image/png": "[encoded data removed]",
      "text/plain": [
       "<Figure size 835.792x432 with 1 Axes>"
      ]
     },
     "metadata": {
      "needs_background": "light"
     },
     "output_type": "display_data"
    }
   ],
   "source": [
    "#fig, ax = plt.subplots(figsize=(15,6))\n",
    "#ax.set_title(\"Распределение Год - Цена\");\n",
    "#use the function regplot to make a scatterplot\n",
    "#sns.regplot(x=df[\"Age\"], y=df[\"Price\"]);\n",
    "\n",
    "sns.lmplot(x=\"Age\", \n",
    "           y=\"Price\", \n",
    "           data=df, \n",
    "           fit_reg=False, \n",
    "           legend=False,\n",
    "           height=6,\n",
    "           aspect=16/8.27)\n",
    "ax = plt.gca();\n",
    "ax.set_title(\"Распределение Цена - Возраст\");\n",
    "plt.axhline(up_limit_budget, linestyle = '-', color ='red', linewidth = 3);\n",
    "plt.axhline(target_limit_budget, linestyle = '-', color ='grey', linewidth = 1);\n",
    "plt.axhline(low_limit_budget, linestyle = '-', color ='red', linewidth = 3);"
   ]
  },
  {
   "cell_type": "code",
   "execution_count": 41,
   "id": "94ee7f31",
   "metadata": {},
   "outputs": [
    {
     "data": {
      "text/html": [
       "<div>\n",
       "<style scoped>\n",
       "    .dataframe tbody tr th:only-of-type {\n",
       "        vertical-align: middle;\n",
       "    }\n",
       "\n",
       "    .dataframe tbody tr th {\n",
       "        vertical-align: top;\n",
       "    }\n",
       "\n",
       "    .dataframe thead th {\n",
       "        text-align: right;\n",
       "    }\n",
       "</style>\n",
       "<table border=\"1\" class=\"dataframe\">\n",
       "  <thead>\n",
       "    <tr style=\"text-align: right;\">\n",
       "      <th></th>\n",
       "      <th>Mileage</th>\n",
       "      <th>Price</th>\n",
       "      <th>Age</th>\n",
       "    </tr>\n",
       "  </thead>\n",
       "  <tbody>\n",
       "    <tr>\n",
       "      <th>Mileage</th>\n",
       "      <td>1.000000</td>\n",
       "      <td>-0.756872</td>\n",
       "      <td>0.718158</td>\n",
       "    </tr>\n",
       "    <tr>\n",
       "      <th>Price</th>\n",
       "      <td>-0.756872</td>\n",
       "      <td>1.000000</td>\n",
       "      <td>-0.860782</td>\n",
       "    </tr>\n",
       "    <tr>\n",
       "      <th>Age</th>\n",
       "      <td>0.718158</td>\n",
       "      <td>-0.860782</td>\n",
       "      <td>1.000000</td>\n",
       "    </tr>\n",
       "  </tbody>\n",
       "</table>\n",
       "</div>"
      ],
      "text/plain": [
       "          Mileage     Price       Age\n",
       "Mileage  1.000000 -0.756872  0.718158\n",
       "Price   -0.756872  1.000000 -0.860782\n",
       "Age      0.718158 -0.860782  1.000000"
      ]
     },
     "execution_count": 41,
     "metadata": {},
     "output_type": "execute_result"
    }
   ],
   "source": [
    "df.corr()"
   ]
  },
  {
   "cell_type": "markdown",
   "id": "b71407ab",
   "metadata": {},
   "source": [
    "## 4. Выборка из того, что интересно для покупки"
   ]
  },
  {
   "cell_type": "code",
   "execution_count": 42,
   "id": "99f26664",
   "metadata": {},
   "outputs": [
    {
     "data": {
      "text/html": [
       "<div>\n",
       "<style scoped>\n",
       "    .dataframe tbody tr th:only-of-type {\n",
       "        vertical-align: middle;\n",
       "    }\n",
       "\n",
       "    .dataframe tbody tr th {\n",
       "        vertical-align: top;\n",
       "    }\n",
       "\n",
       "    .dataframe thead th {\n",
       "        text-align: right;\n",
       "    }\n",
       "</style>\n",
       "<table border=\"1\" class=\"dataframe\">\n",
       "  <thead>\n",
       "    <tr style=\"text-align: right;\">\n",
       "      <th></th>\n",
       "      <th>model_description</th>\n",
       "      <th>Year</th>\n",
       "      <th>Mileage</th>\n",
       "      <th>Price</th>\n",
       "      <th>Sold_date</th>\n",
       "      <th>Age</th>\n",
       "      <th>mileage_range</th>\n",
       "      <th>age_range</th>\n",
       "      <th>engine</th>\n",
       "    </tr>\n",
       "  </thead>\n",
       "  <tbody>\n",
       "    <tr>\n",
       "      <th>9270</th>\n",
       "      <td>Toyota Corolla (1.6) Toyota COROLLA 1,6 Valvematic Linea Sol MultiMode|2013|28 000|13 990 €|06-2021</td>\n",
       "      <td>2013-01-01</td>\n",
       "      <td>28000.0</td>\n",
       "      <td>13990</td>\n",
       "      <td>2021-06-01</td>\n",
       "      <td>8.413588</td>\n",
       "      <td>20000 - 49999</td>\n",
       "      <td>&gt;= 8</td>\n",
       "      <td>1.6</td>\n",
       "    </tr>\n",
       "    <tr>\n",
       "      <th>9282</th>\n",
       "      <td>Toyota Corolla (1.6) 1,6 Valvematic Linea Sol 4ov/ Vähän ajettu Helmi/|2013|45 000|14 800 €|07-2021</td>\n",
       "      <td>2013-01-01</td>\n",
       "      <td>45000.0</td>\n",
       "      <td>14800</td>\n",
       "      <td>2021-07-01</td>\n",
       "      <td>8.495725</td>\n",
       "      <td>20000 - 49999</td>\n",
       "      <td>&gt;= 8</td>\n",
       "      <td>1.6</td>\n",
       "    </tr>\n",
       "    <tr>\n",
       "      <th>9286</th>\n",
       "      <td>Toyota Corolla (1.3) 1,33 Dual VVT-i S&amp;S Linea Terra (MY13)|2013|35 000|14 800 €|07-2021</td>\n",
       "      <td>2013-01-01</td>\n",
       "      <td>35000.0</td>\n",
       "      <td>14800</td>\n",
       "      <td>2021-07-01</td>\n",
       "      <td>8.495725</td>\n",
       "      <td>20000 - 49999</td>\n",
       "      <td>&gt;= 8</td>\n",
       "      <td>1.3</td>\n",
       "    </tr>\n",
       "  </tbody>\n",
       "</table>\n",
       "</div>"
      ],
      "text/plain": [
       "                                                                                        model_description  \\\n",
       "9270  Toyota Corolla (1.6) Toyota COROLLA 1,6 Valvematic Linea Sol MultiMode|2013|28 000|13 990 €|06-2021   \n",
       "9282  Toyota Corolla (1.6) 1,6 Valvematic Linea Sol 4ov/ Vähän ajettu Helmi/|2013|45 000|14 800 €|07-2021   \n",
       "9286             Toyota Corolla (1.3) 1,33 Dual VVT-i S&S Linea Terra (MY13)|2013|35 000|14 800 €|07-2021   \n",
       "\n",
       "           Year  Mileage  Price  Sold_date       Age  mileage_range age_range  \\\n",
       "9270 2013-01-01  28000.0  13990 2021-06-01  8.413588  20000 - 49999      >= 8   \n",
       "9282 2013-01-01  45000.0  14800 2021-07-01  8.495725  20000 - 49999      >= 8   \n",
       "9286 2013-01-01  35000.0  14800 2021-07-01  8.495725  20000 - 49999      >= 8   \n",
       "\n",
       "     engine  \n",
       "9270    1.6  \n",
       "9282    1.6  \n",
       "9286    1.3  "
      ]
     },
     "execution_count": 42,
     "metadata": {},
     "output_type": "execute_result"
    }
   ],
   "source": [
    "int = df[(df['mileage_range'] == '< 20000')|(df['mileage_range'] == '20000 - 49999')]\n",
    "int.head(3)"
   ]
  },
  {
   "cell_type": "code",
   "execution_count": 43,
   "id": "7f5c7c38",
   "metadata": {},
   "outputs": [
    {
     "data": {
      "image/png": "[encoded data removed]",
      "text/plain": [
       "<Figure size 1080x432 with 1 Axes>"
      ]
     },
     "metadata": {
      "needs_background": "light"
     },
     "output_type": "display_data"
    }
   ],
   "source": [
    "fig, ax = plt.subplots(figsize=(15,6))\n",
    "sns.boxplot( x=int[\"mileage_range\"], y=int[\"Price\"] );"
   ]
  },
  {
   "cell_type": "code",
   "execution_count": 44,
   "id": "5738e68e",
   "metadata": {},
   "outputs": [],
   "source": [
    "new = df[df['mileage_range'] == '< 20000']\n",
    "semi_new = df[df['mileage_range'] == '20000 - 49999']"
   ]
  },
  {
   "cell_type": "code",
   "execution_count": 45,
   "id": "79a83f1e",
   "metadata": {},
   "outputs": [
    {
     "name": "stdout",
     "output_type": "stream",
     "text": [
      "медианная цена Toyota Corolla с пробегом до 20 000 км = 27790.00, возраст автомобиля = 1.667\n",
      "медианная цена Toyota Corolla с пробегом от 20000 км до 49999 км = 26900.00, возраст автомобиля = 2.497\n"
     ]
    }
   ],
   "source": [
    "new_price = new['Price'].median()\n",
    "new_age = new['Age'].median()\n",
    "print('медианная цена Toyota Corolla с пробегом до 20 000 км = {:.2f}, возраст автомобиля = {:.3f}'.format(new_price,new_age))\n",
    "\n",
    "seminew_price = semi_new['Price'].median()\n",
    "seminew_age = semi_new['Age'].median()\n",
    "print('медианная цена Toyota Corolla с пробегом от 20000 км до 49999 км = {:.2f}, возраст автомобиля = {:.3f}'.format(seminew_price,seminew_age))"
   ]
  },
  {
   "cell_type": "code",
   "execution_count": 46,
   "id": "725db993",
   "metadata": {},
   "outputs": [
    {
     "data": {
      "image/png": "[encoded data removed]",
      "text/plain": [
       "<Figure size 1080x432 with 1 Axes>"
      ]
     },
     "metadata": {
      "needs_background": "light"
     },
     "output_type": "display_data"
    }
   ],
   "source": [
    "fig, ax = plt.subplots(figsize=(15,6))\n",
    "sns.boxplot( x=int[\"mileage_range\"], y=int[\"Age\"] );"
   ]
  },
  {
   "cell_type": "code",
   "execution_count": 47,
   "id": "51c40fc5",
   "metadata": {},
   "outputs": [],
   "source": [
    "start_range = semi_new['Price'].quantile(0.25) # 25%\n",
    "end_range = semi_new['Price'].quantile(0.5) # 50%"
   ]
  },
  {
   "cell_type": "code",
   "execution_count": 48,
   "id": "b344b708",
   "metadata": {},
   "outputs": [
    {
     "name": "stdout",
     "output_type": "stream",
     "text": [
      "выгодная цена для Toyota Corolla c пробегом от 20000 км до 49999 км = 24900.00 - 26900.00\n"
     ]
    }
   ],
   "source": [
    "print('выгодная цена для Toyota Corolla c пробегом от 20000 км до 49999 км = {:.2f} - {:.2f}'.format(start_range,end_range))"
   ]
  },
  {
   "cell_type": "markdown",
   "id": "44080583",
   "metadata": {},
   "source": [
    "### Выводы"
   ]
  },
  {
   "cell_type": "markdown",
   "id": "e5c0318c",
   "metadata": {},
   "source": [
    "- мало автомобилей продавалась с 2013 по 2018/2019 годы. Начали активно продаваться начиная с 2018/2019 поэтому парк молодой и дорогой. Есть смысл задумываться о покупке года через 2 когда авто подешевеют.\n",
    "\n",
    "\n",
    "- медианная цена Toyota Corolla с пробегом до 20 000 км = 27790.00, возраст автомобиля = 1.667\n",
    "\n",
    "\n",
    "- медианная цена Toyota Corolla с пробегом от 20000 км до 49999 км = 26900.00, возраст автомобиля = 2.497\n",
    "\n",
    "\n",
    "- выгодная цена для Toyota Corolla c пробегом от 20000 км до 49999 км = 24900.00 - 26900.00"
   ]
  },
  {
   "cell_type": "code",
   "execution_count": null,
   "id": "6b29d031",
   "metadata": {},
   "outputs": [],
   "source": []
  }
 ],
 "metadata": {
  "kernelspec": {
   "display_name": "Python 3",
   "language": "python",
   "name": "python3"
  },
  "language_info": {
   "codemirror_mode": {
    "name": "ipython",
    "version": 3
   },
   "file_extension": ".py",
   "mimetype": "text/x-python",
   "name": "python",
   "nbconvert_exporter": "python",
   "pygments_lexer": "ipython3",
   "version": "3.8.8"
  }
 },
 "nbformat": 4,
 "nbformat_minor": 5
}
