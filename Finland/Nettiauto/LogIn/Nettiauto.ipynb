{
 "cells": [
  {
   "cell_type": "code",
   "execution_count": 6,
   "id": "c17feb45",
   "metadata": {},
   "outputs": [
    {
     "name": "stderr",
     "output_type": "stream",
     "text": [
      "<ipython-input-6-073a14492abd>:6: YAMLLoadWarning: calling yaml.load() without Loader=... is deprecated, as the default Loader is unsafe. Please read https://msg.pyyaml.org/load for full details.\n",
      "  conf = yaml.load(open('loginDetails.yml'))\n"
     ]
    }
   ],
   "source": [
    "from selenium import webdriver\n",
    "import time\n",
    "import yaml\n",
    "\n",
    "\n",
    "conf = yaml.load(open('loginDetails.yml'))\n",
    "myEmail = conf['nettiauto_user']['email']\n",
    "myPassword = conf['nettiauto_user']['password']\n",
    "url = 'https://www.nettiauto.com/'"
   ]
  },
  {
   "cell_type": "code",
   "execution_count": 7,
   "id": "6bd572c7",
   "metadata": {},
   "outputs": [
    {
     "name": "stderr",
     "output_type": "stream",
     "text": [
      "<ipython-input-7-6160d2bdf164>:2: DeprecationWarning: executable_path has been deprecated, please pass in a Service object\n",
      "  driver = webdriver.Chrome(PATH)\n",
      "<ipython-input-7-6160d2bdf164>:5: DeprecationWarning: find_element_by_* commands are deprecated. Please use find_element() instead\n",
      "  driver.find_element_by_id('almacmp-modalConfirmBtn').click()\n",
      "<ipython-input-7-6160d2bdf164>:7: DeprecationWarning: find_element_by_* commands are deprecated. Please use find_element() instead\n",
      "  driver.find_element_by_id('ut_loginLink').click()\n",
      "<ipython-input-7-6160d2bdf164>:9: DeprecationWarning: find_element_by_* commands are deprecated. Please use find_element() instead\n",
      "  driver.find_element_by_id('loginid').send_keys(myEmail)\n",
      "<ipython-input-7-6160d2bdf164>:11: DeprecationWarning: find_element_by_* commands are deprecated. Please use find_element() instead\n",
      "  driver.find_element_by_id('passwd').send_keys(myPassword)\n",
      "<ipython-input-7-6160d2bdf164>:13: DeprecationWarning: find_element_by_* commands are deprecated. Please use find_element() instead\n",
      "  driver.find_element_by_id('everDisplayLogin').click()\n"
     ]
    }
   ],
   "source": [
    "PATH = '/Users/makarovm/Documents/GitHub/Nettiauto/chromedriver'\n",
    "driver = webdriver.Chrome(PATH)\n",
    "driver.get(url)\n",
    "time.sleep(10)\n",
    "driver.find_element_by_id('almacmp-modalConfirmBtn').click()\n",
    "time.sleep(5)\n",
    "driver.find_element_by_id('ut_loginLink').click()\n",
    "time.sleep(2)\n",
    "driver.find_element_by_id('loginid').send_keys(myEmail)\n",
    "time.sleep(3)\n",
    "driver.find_element_by_id('passwd').send_keys(myPassword)\n",
    "time.sleep(2)\n",
    "driver.find_element_by_id('everDisplayLogin').click()"
   ]
  },
  {
   "cell_type": "code",
   "execution_count": null,
   "id": "9720ef15",
   "metadata": {},
   "outputs": [],
   "source": []
  },
  {
   "cell_type": "code",
   "execution_count": null,
   "id": "09795da7",
   "metadata": {},
   "outputs": [],
   "source": []
  }
 ],
 "metadata": {
  "kernelspec": {
   "display_name": "Python 3",
   "language": "python",
   "name": "python3"
  },
  "language_info": {
   "codemirror_mode": {
    "name": "ipython",
    "version": 3
   },
   "file_extension": ".py",
   "mimetype": "text/x-python",
   "name": "python",
   "nbconvert_exporter": "python",
   "pygments_lexer": "ipython3",
   "version": "3.8.8"
  }
 },
 "nbformat": 4,
 "nbformat_minor": 5
}
